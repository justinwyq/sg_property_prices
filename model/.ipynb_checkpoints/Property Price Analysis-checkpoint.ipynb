{
 "cells": [
  {
   "cell_type": "code",
   "execution_count": 20,
   "metadata": {
    "ExecuteTime": {
     "end_time": "2020-04-11T04:43:46.033200Z",
     "start_time": "2020-04-11T04:43:46.027216Z"
    }
   },
   "outputs": [],
   "source": [
    "import pandas as pd\n",
    "import seaborn as sns\n",
    "import matplotlib.pyplot as plt\n",
    "#import geopy.geocoders\n",
    "from geopy.geocoders import Nominatim\n",
    "from sklearn.linear_model import LinearRegression\n",
    "import numpy as np\n",
    "import re\n",
    "\n",
    "%matplotlib inline\n",
    "pd.set_option('display.max_colwidth', -1) #setting used to display the full links properly"
   ]
  },
  {
   "cell_type": "markdown",
   "metadata": {},
   "source": [
    "## Read file and clean variables"
   ]
  },
  {
   "cell_type": "code",
   "execution_count": 2,
   "metadata": {
    "ExecuteTime": {
     "end_time": "2020-04-11T04:42:52.752427Z",
     "start_time": "2020-04-11T04:42:52.452228Z"
    }
   },
   "outputs": [
    {
     "name": "stdout",
     "output_type": "stream",
     "text": [
      "<class 'pandas.core.frame.DataFrame'>\n",
      "RangeIndex: 24158 entries, 0 to 24157\n",
      "Data columns (total 13 columns):\n",
      "address          24158 non-null object\n",
      "amenities        18563 non-null object\n",
      "area             24158 non-null object\n",
      "bathrooms        22819 non-null float64\n",
      "bedrooms         22819 non-null object\n",
      "description      23517 non-null object\n",
      "details          23576 non-null object\n",
      "lease            24158 non-null object\n",
      "link             24158 non-null object\n",
      "name             24158 non-null object\n",
      "price            24157 non-null object\n",
      "property_type    22950 non-null object\n",
      "psf_price        24158 non-null object\n",
      "dtypes: float64(1), object(12)\n",
      "memory usage: 2.4+ MB\n"
     ]
    }
   ],
   "source": [
    "#read csv\n",
    "df = pd.read_csv('all_listings_9Apr20.csv')\n",
    "df.info()"
   ]
  },
  {
   "cell_type": "code",
   "execution_count": 3,
   "metadata": {
    "ExecuteTime": {
     "end_time": "2020-04-11T04:42:53.629146Z",
     "start_time": "2020-04-11T04:42:53.612165Z"
    },
    "scrolled": true
   },
   "outputs": [
    {
     "data": {
      "text/html": [
       "<div>\n",
       "<style scoped>\n",
       "    .dataframe tbody tr th:only-of-type {\n",
       "        vertical-align: middle;\n",
       "    }\n",
       "\n",
       "    .dataframe tbody tr th {\n",
       "        vertical-align: top;\n",
       "    }\n",
       "\n",
       "    .dataframe thead th {\n",
       "        text-align: right;\n",
       "    }\n",
       "</style>\n",
       "<table border=\"1\" class=\"dataframe\">\n",
       "  <thead>\n",
       "    <tr style=\"text-align: right;\">\n",
       "      <th></th>\n",
       "      <th>address</th>\n",
       "      <th>amenities</th>\n",
       "      <th>area</th>\n",
       "      <th>bathrooms</th>\n",
       "      <th>bedrooms</th>\n",
       "      <th>description</th>\n",
       "      <th>details</th>\n",
       "      <th>lease</th>\n",
       "      <th>link</th>\n",
       "      <th>name</th>\n",
       "      <th>price</th>\n",
       "      <th>property_type</th>\n",
       "      <th>psf_price</th>\n",
       "    </tr>\n",
       "  </thead>\n",
       "  <tbody>\n",
       "    <tr>\n",
       "      <td>0</td>\n",
       "      <td>12 Dairy Farm Lane - D23</td>\n",
       "      <td>Function Room,Water Feature,High Ceiling,Gym,Jet Pool,Yoga Corner,Tennis Court,Mid Floor,Undrewater Fitness Station,Outdoor Dining,Balcony,City View,Pool View,Renovated,Hammocks,Lap Pool,Greenery View,Pool Deck,Lounge,Wading Pool,Fountain,Playground,Fitness Corner,High Floor,Security,Fibre Ready,Reflexology Path,BBQ</td>\n",
       "      <td>624 sqft / 57.97 sqm</td>\n",
       "      <td>2.0</td>\n",
       "      <td>2</td>\n",
       "      <td>DAIRY FARM RESIDENCES – BRIEF\\nOur development concept is derived from a self-contained complete life symbolised by a full circle. Without a start or an end, it signifies “infinity”, representing the endless possibilities one can enjoy in this integrated development. Here, you see a complete life at Dairy Farm Residences made up of 3 worlds: Nature. Retail. Home.\\nOccupying a site area of approximately 20,000 sqm, Dairy Farm Residences is the first unique integrated development in the Dairy Farm vicinity with two levels of retail (ground floor and basement 1). There will be a gourmet supermarket, a food hall, a childcare centre, food and beverage and retail shops offering a one stop convenience at the doorstep to residents and people living within the vicinity.\\nLocated along Petir Road and Dairy Farm Road, there is unparallel connectivity via the Bukit Timah Expressway (BKE) and Upper Bukit Timah Road. Within just a kilometer from Hillview MRT on the Downtown Line, the development is highly accessible, close to prestigious schools and retail amenities, bringing together all of life’s essentials and pleasures under one roof. Aside from a conveniently located bus stop at Petir Road, there will also be a shuttle bus service from Dairy Farm Residences to Hillview &amp; Bukit Panjang MRT stations.\\nDairy Farm Residences is conveniently connected by cycling and pedestrian networks within the Western Adventure Loop and Rail Corridor (Central) of the Park Connector Network. With its close proximity to Dairy Farm Nature Park, Bukit Timah Nature Reserve, Zhenghua Nature Park, Chestnut Nature Park and Central Catchment Nature Reserve, Dairy Farm Residences is within the heart of the city’s most forested enclave; offering a true retreat from the hustle and bustle of urban Singapore,.\\nRepresenting living in harmony at its finest in a peaceful and calm environment surrounded by floral pleasure of greenery, Dairy Farm Residences offers 460 luxurious residential homes. Arranged in two exclusive 15-storey and two 5-storey towers, Dairy Farm Residences offers a choice of spacious 2, 3 and 4 bedroom layouts with the 2 bedroom units ranging from 624 to 775 sqft; the 3 bedroom 915 to 1,313 sqft and 4 bedroom 1,335 to 1,475 sqft. To safeguard residents’ privacy, the residential towers are segregated from the commercial podium. Separate car park spaces are provisioned in the basement levels. Vehicular and pedestrian access will be from Dairy Farm Lane.\\nEach unit will have extending balconies that welcome the essence of nature blending seamlessly into the home. Homes on the upper floors will enjoy spectacular picturesque views of the Bukit Timah Nature Park to the west and the Central Catchment Nature Reserve and Upper Pierce Reservoir to the east.\\nInspired by wood grain patterns, the recreational zones are artistically stacked into levels that form The Woods, The Canopy and The Oasis. The infinity pool will have an undisrupted panoramic view of the surrounding nature, creating a unique experience of swimming in the sky. Located underneath the pool are pockets of intimate spaces such as function rooms, spa and gymnasium, effectively articulating subtle characters of the timber and transforming it into three-dimensional and unique spaces.\\nAs the development has a large ratio of home to communal space, Dairy Farm Residences has the aspects of resort living within nature, a modern escape into the woods. To create a sense of space where residents can feel they have entered a realm of tranquility and comfort, other facilities include a an elegantly appointed multi-purpose clubhouse, 50m lap pool, all day dining spaces, barbeque pits, tennis court, sun deck and bespoke lifestyle pavilions. By allowing the residents to interact with the woods outside and within the development, we aim to offer an immersive experience of the woods; allowing residents to feel a sense of solitude and comfort being away from the busy outside world.\\nDairy Farm Residences is also a residential development with a strong environmental conscience that actively embraces a sustainable way of living. A BCA’s Green Mark Gold Plus development and adopting a green and low energy approach, 90% of the units are in north–south orientation to reduce solar heat gain; while others will enjoy stunning pool views.\\nIt’s time to discover a complete life at the Dairy Farm Residences.                                            http://virtualtours.sg/tours/dairyfarm/</td>\n",
       "      <td>Facing,North South,District,D23</td>\n",
       "      <td>2024 - 99 years</td>\n",
       "      <td>https://www.99.co/singapore/sale/property/dairy-farm-residences-condo-CB4Rz6Sdfb4FvgoKYrBnhJ</td>\n",
       "      <td>Dairy Farm Residences</td>\n",
       "      <td>$969,000</td>\n",
       "      <td>Condo</td>\n",
       "      <td>$1,553 psf</td>\n",
       "    </tr>\n",
       "    <tr>\n",
       "      <td>1</td>\n",
       "      <td>2 Shunfu Road - D20</td>\n",
       "      <td>Jogging Track,Games Room,Gym,Sea View,Steam Room,Tennis Court,Pond,Karaoke,Balcony,Infinity Pool,Pavilion,Greenery View,Lounge,Swimming Pool,Waterfall,Playground,Fibre Ready,Reflexology Path</td>\n",
       "      <td>764 sqft / 70.97 sqm</td>\n",
       "      <td>NaN</td>\n",
       "      <td>NaN</td>\n",
       "      <td>Jadescape (Former Shunfu Ville)\\r\\n\\r\\nJadescape is situated along Shunfu Road, within close proximity to Bishan and Upper Thomson\\r\\n\\r\\nWide range of 613 units from 1 BR to 5 BR for different needs and budget\\r\\n\\r\\nApproximately 7 minutes walk to Marymount MRT Station. Also within close proximity to the upcoming Thomson-East Coast Line station\\r\\n\\r\\nClose proximity to various famous eateries and reputable schools like Raffles Institution and Catholic High\\r\\n\\r\\nGood unit mix of 1 bedrooms to 5 bedroom units to suit different needs.\\r\\n\\r\\nCall 88228988 Now To Enquire.</td>\n",
       "      <td>Furnishing,Unfurnished,Facing,North South,Availability,Now,District,D20</td>\n",
       "      <td>2023 - 99 years</td>\n",
       "      <td>https://www.99.co/singapore/sale/property/jadescape-condo-yhBy3rdA3sJag26VNCoWHh</td>\n",
       "      <td>JadeScape</td>\n",
       "      <td>$1,275,408</td>\n",
       "      <td>Condo</td>\n",
       "      <td>$1,669 psf</td>\n",
       "    </tr>\n",
       "    <tr>\n",
       "      <td>2</td>\n",
       "      <td>21 Marina Way - D1</td>\n",
       "      <td>Clubhouse,Gym,City View,Jacuzzi,Outdoor Dining,Balcony,Multi-purpose Hall,Bomb Shelter,Pavilion,Greenery View,Pool Deck,Lounge,Mini Golf Range,Wading Pool,Hydrotherapy Pool,Fitness Corner,High Floor,Fibre Ready,Lap Pool,BBQ</td>\n",
       "      <td>710 sqft / 65.96 sqm</td>\n",
       "      <td>2.0</td>\n",
       "      <td>1</td>\n",
       "      <td>Prices dropped. Hurry! \\nBrought to you by M+S. \\n\\nWith 4 MRT stations to choose from, reaching out to the corners of Singapore has never been easier. \\n\\nMarina One, being flank by 2 parks namely: Central Linear Park &amp; Marina South Station Park, provides the greenery and open space for families to enjoy the outdoor activities right in the city. \\n\\nWith it's unique architectural design, The Heart @ Marina One will be an amazing feature within the development. \\n\\nMany luxury restaurants, retail shops situated within The Heart @ Marina One. \\n\\nCity living has never been so convenient, with the many amenities available within the vicinity.</td>\n",
       "      <td>Facing,South West,Availability,Now,District,D01</td>\n",
       "      <td>2018 - 99 years</td>\n",
       "      <td>https://www.99.co/singapore/sale/property/marina-one-residences-condo-epsbRyicZT9cQT8vTAToF</td>\n",
       "      <td>Marina One Residences</td>\n",
       "      <td>$1,580,000</td>\n",
       "      <td>Condo</td>\n",
       "      <td>$2,225 psf</td>\n",
       "    </tr>\n",
       "    <tr>\n",
       "      <td>3</td>\n",
       "      <td>3 Jalan Kemaman - D12</td>\n",
       "      <td>Clubhouse,Pool Deck,Sky Lounge,Gym,Tennis Court,Parking,Undrewater Fitness Station,Outdoor Dining,Sky Terrace,Balcony,Bomb Shelter,Pavilion,Greenery View,Open Terrace,Swimming Pool,Spa Pool,Playground,Fitness Corner,High Floor,Security,Fibre Ready,Lap Pool,BBQ</td>\n",
       "      <td>441 sqft / 40.97 sqm</td>\n",
       "      <td>1.0</td>\n",
       "      <td>1</td>\n",
       "      <td>VERTICUS – DISTRICT 12 – JALAN KEMAMAN\\r\\n\\r\\nLocated in the most undervalued RCR (Rest of Central Region) district, Verticus is a freehold development by SB (Kemaman) Development Pte Ltd. This development comprises of 162 units with a unit mix of 1 bedroom, 2 bedroom, 2 bedroom   study, 2 bedroom   studio dual key, 3 bedroom, 3 bedroom (premium), 2 bedroom   studio key penthouse, 3 bedroom penthouse and 4 bedroom penthouse.\\r\\n\\r\\nVerticus is just next to Novena healthcare city and is within walking distance to Toa Payoh and Novena MRT station.Residents would be able to enjoy a wide selection of F&amp;B options as the development is surrounded by famous eateries such as Balestier Market Food Court, Boon Tong Kee, Balestier Bak Kut Teh, Wheeler’s Yard, Whampoa Market &amp; Food Centre and more.\\r\\n\\r\\nThere is variety of lifestyle amenities with Balestier Plaza &amp; Shaw Plaza just minutes’ walk away from the development.Shopping malls such as United Square Shopping Mall, , Novena Square, Square 2 @ Novena are all a short distance away from the development.\\r\\n\\r\\nZhongshan Mall and Zhongshan Park are within walking distance - less than 5 minutes walk.\\n\\nProject Highlights:\\r\\n\\r\\nFreehold\\r\\n\\r\\nMost undervalued RCR (Rest of Central Region) district\\r\\n\\r\\nHuge upside potential\\r\\n\\r\\nNext to Novena Healthcare City\\r\\n\\r\\nWalking distance to Toa Payoh and Novena MRT\\r\\n\\r\\nNear to international schools\\r\\n\\r\\nSurrounded by famous eateries\\r\\n\\r\\n\\nMinutes walk to Balestier Plaza &amp; Shaw Plaza and Zhongshan Mall.\\r\\n\\r\\nProject Details:\\r\\n\\r\\nDeveloper: SB (Kemaman) Development Pte Ltd\\r\\n\\r\\nAddress: 3 Jalan Kemaman\\r\\n\\r\\nProperty Type: Private Condominium\\r\\n\\r\\nTenure: Freehold\\r\\n\\r\\nTotal Units: 162\\r\\n\\r\\nUnit Mix:1 bedroom, 2 bedroom, 2 bedroom   study, 2 bedroom   studio dual key, 3 bedroom, 3 bedroom (premium), 2 bedroom   studio dual key penthouse and 3 bedroom penthouse\\r\\n\\r\\nCall 96304575 Now To Enquire.</td>\n",
       "      <td>Furnishing,Unfurnished,Facing,North South,Availability,Now,District,D12</td>\n",
       "      <td>- Freehold</td>\n",
       "      <td>https://www.99.co/singapore/sale/property/verticus-condo-NoPhGyiiym5Uqwn35txcKU</td>\n",
       "      <td>Verticus</td>\n",
       "      <td>$889,000</td>\n",
       "      <td>Condo</td>\n",
       "      <td>$2,016 psf</td>\n",
       "    </tr>\n",
       "    <tr>\n",
       "      <td>4</td>\n",
       "      <td>5 Jalan Kemaman - D12</td>\n",
       "      <td>Clubhouse,Bomb Shelter,Greenery View,Swimming Pool,Wading Pool,Squash Court,Parking,High Floor,Security,Fibre Ready,Gym,Balcony</td>\n",
       "      <td>635 sqft / 58.99 sqm</td>\n",
       "      <td>1.0</td>\n",
       "      <td>2</td>\n",
       "      <td>VERTICUS – FREEHOLD at DISTRICT 12 – JALAN KEMAMAN\\r\\n\\r\\nLocated in the most undervalued RCR (Rest of Central Region) district, Verticus is a freehold development by SB (Kemaman) Development Pte Ltd. \\n\\nThis development comprises of 162 units with a unit mix of 1 bedroom, 2 bedroom, 2 bedroom  study, 2 bedroom  studio dual key, 3 bedroom, 3 bedroom (premium), 2 bedroom  studio dual key penthouse, 3 bedroom penthouse and 4 bedroom penthouse.\\r\\n\\r\\nVerticus is just next to Health City Novena (great tenant pool) and is within walking distance to Toa Payoh and Novena MRT station.\\n\\nHuge land plot with condominium facilities located at city fringe, comfortably tucked away in the folds Balestier’s serenity.\\n\\nResidents would be able to enjoy a wide selection of F&amp;B options as the development is surrounded by famous eateries such as Balestier Market Food Court, Boon Tong Kee Chicken Rice, Balestier Bak Kut Teh, Wheeler’s Yard, Whampoa Market &amp; Hawker Center and more.\\n\\nThere is variety of lifestyle amenities with Balestier Plaza &amp; Shaw Plaza just minutes’ walk away from the development.Shopping malls such as United Square Shopping Mall, , Novena Square, Square 2 @ Novena are all a short distance away from the development.\\r\\n\\r\\nZhongshan Mall and Zhongshan Park are within walking distance - less than 5 minutes walk.\\n\\nProject Highlights:\\r\\n\\r\\nFreehold\\r\\n\\r\\nMost undervalued RCR (Rest of Central Region) district\\r\\n\\r\\nHuge upside potential\\r\\n\\r\\nNext to Novena Healthcare City\\r\\n\\r\\nWalking distance to Toa Payoh and Novena MRT\\r\\n\\r\\nNear to international schools\\r\\n\\r\\nSurrounded by famous eateries\\r\\n\\r\\nMinutes walk to Balestier Plaza &amp; Shaw Plaza and Zhongshan Mall.\\r\\n\\r\\nProject Details:\\r\\n\\r\\nDeveloper: SB (Kemaman) Development Pte Ltd\\r\\n\\r\\nAddress: 3 Jalan Kemaman\\r\\n\\r\\nProperty Type: Private Condominium\\r\\n\\r\\nTenure: Freehold\\r\\n\\r\\nTotal Units: 162\\r\\n\\r\\nUnit Mix:1 bedroom, 2 bedroom, 2 bedroom  study, 2 bedroom  studio dual key, 3 bedroom, 3 bedroom (premium), 2 bedroom  studio dual key penthouse and 3 bedroom penthouse\\r\\n\\r\\nCall 96304575 Now To Enquire.</td>\n",
       "      <td>Furnishing,Unfurnished,Availability,Now,District,D12</td>\n",
       "      <td>1993 - Freehold</td>\n",
       "      <td>https://www.99.co/singapore/sale/property/kemaman-point-condo-JGZ5DFVeJPVDh2fTxDVucA</td>\n",
       "      <td>Kemaman Point</td>\n",
       "      <td>$1,244,000</td>\n",
       "      <td>NaN</td>\n",
       "      <td>$1,959 psf</td>\n",
       "    </tr>\n",
       "  </tbody>\n",
       "</table>\n",
       "</div>"
      ],
      "text/plain": [
       "                    address  \\\n",
       "0  12 Dairy Farm Lane - D23   \n",
       "1  2 Shunfu Road - D20        \n",
       "2  21 Marina Way - D1         \n",
       "3  3 Jalan Kemaman - D12      \n",
       "4  5 Jalan Kemaman - D12      \n",
       "\n",
       "                                                                                                                                                                                                                                                                                                                       amenities  \\\n",
       "0  Function Room,Water Feature,High Ceiling,Gym,Jet Pool,Yoga Corner,Tennis Court,Mid Floor,Undrewater Fitness Station,Outdoor Dining,Balcony,City View,Pool View,Renovated,Hammocks,Lap Pool,Greenery View,Pool Deck,Lounge,Wading Pool,Fountain,Playground,Fitness Corner,High Floor,Security,Fibre Ready,Reflexology Path,BBQ   \n",
       "1  Jogging Track,Games Room,Gym,Sea View,Steam Room,Tennis Court,Pond,Karaoke,Balcony,Infinity Pool,Pavilion,Greenery View,Lounge,Swimming Pool,Waterfall,Playground,Fibre Ready,Reflexology Path                                                                                                                                  \n",
       "2  Clubhouse,Gym,City View,Jacuzzi,Outdoor Dining,Balcony,Multi-purpose Hall,Bomb Shelter,Pavilion,Greenery View,Pool Deck,Lounge,Mini Golf Range,Wading Pool,Hydrotherapy Pool,Fitness Corner,High Floor,Fibre Ready,Lap Pool,BBQ                                                                                                 \n",
       "3  Clubhouse,Pool Deck,Sky Lounge,Gym,Tennis Court,Parking,Undrewater Fitness Station,Outdoor Dining,Sky Terrace,Balcony,Bomb Shelter,Pavilion,Greenery View,Open Terrace,Swimming Pool,Spa Pool,Playground,Fitness Corner,High Floor,Security,Fibre Ready,Lap Pool,BBQ                                                            \n",
       "4  Clubhouse,Bomb Shelter,Greenery View,Swimming Pool,Wading Pool,Squash Court,Parking,High Floor,Security,Fibre Ready,Gym,Balcony                                                                                                                                                                                                 \n",
       "\n",
       "                   area  bathrooms bedrooms  \\\n",
       "0  624 sqft / 57.97 sqm  2.0        2         \n",
       "1  764 sqft / 70.97 sqm NaN         NaN       \n",
       "2  710 sqft / 65.96 sqm  2.0        1         \n",
       "3  441 sqft / 40.97 sqm  1.0        1         \n",
       "4  635 sqft / 58.99 sqm  1.0        2         \n",
       "\n",
       "                                                                                                                                                                                                                                                                                                                                                                                                                                                                                                                                                                                                                                                                                                                                                                                                                                                                                                                                                                                                                                                                                                                                                                                                                                                                                                                                                                                                                                                                                                                                                                                                                                                                                                                                                                                                                                                                                                                                                                                                                                                                                                                                                                                                                                                                                                                                                                                                                                                                                                                                                                                                                                                                                                                                                                                                                                                                                                                                                                                                                                                                                                                                                                                                                                                                                                                                                                                                                                                                                                                                                                                                                                                                                                                                                                                                                                                                                                                                                                                                                                                                                                                                                                                                                                                                                                                                                                                                                                                                                                                                                                                                                                                      description  \\\n",
       "0  DAIRY FARM RESIDENCES – BRIEF\\nOur development concept is derived from a self-contained complete life symbolised by a full circle. Without a start or an end, it signifies “infinity”, representing the endless possibilities one can enjoy in this integrated development. Here, you see a complete life at Dairy Farm Residences made up of 3 worlds: Nature. Retail. Home.\\nOccupying a site area of approximately 20,000 sqm, Dairy Farm Residences is the first unique integrated development in the Dairy Farm vicinity with two levels of retail (ground floor and basement 1). There will be a gourmet supermarket, a food hall, a childcare centre, food and beverage and retail shops offering a one stop convenience at the doorstep to residents and people living within the vicinity.\\nLocated along Petir Road and Dairy Farm Road, there is unparallel connectivity via the Bukit Timah Expressway (BKE) and Upper Bukit Timah Road. Within just a kilometer from Hillview MRT on the Downtown Line, the development is highly accessible, close to prestigious schools and retail amenities, bringing together all of life’s essentials and pleasures under one roof. Aside from a conveniently located bus stop at Petir Road, there will also be a shuttle bus service from Dairy Farm Residences to Hillview & Bukit Panjang MRT stations.\\nDairy Farm Residences is conveniently connected by cycling and pedestrian networks within the Western Adventure Loop and Rail Corridor (Central) of the Park Connector Network. With its close proximity to Dairy Farm Nature Park, Bukit Timah Nature Reserve, Zhenghua Nature Park, Chestnut Nature Park and Central Catchment Nature Reserve, Dairy Farm Residences is within the heart of the city’s most forested enclave; offering a true retreat from the hustle and bustle of urban Singapore,.\\nRepresenting living in harmony at its finest in a peaceful and calm environment surrounded by floral pleasure of greenery, Dairy Farm Residences offers 460 luxurious residential homes. Arranged in two exclusive 15-storey and two 5-storey towers, Dairy Farm Residences offers a choice of spacious 2, 3 and 4 bedroom layouts with the 2 bedroom units ranging from 624 to 775 sqft; the 3 bedroom 915 to 1,313 sqft and 4 bedroom 1,335 to 1,475 sqft. To safeguard residents’ privacy, the residential towers are segregated from the commercial podium. Separate car park spaces are provisioned in the basement levels. Vehicular and pedestrian access will be from Dairy Farm Lane.\\nEach unit will have extending balconies that welcome the essence of nature blending seamlessly into the home. Homes on the upper floors will enjoy spectacular picturesque views of the Bukit Timah Nature Park to the west and the Central Catchment Nature Reserve and Upper Pierce Reservoir to the east.\\nInspired by wood grain patterns, the recreational zones are artistically stacked into levels that form The Woods, The Canopy and The Oasis. The infinity pool will have an undisrupted panoramic view of the surrounding nature, creating a unique experience of swimming in the sky. Located underneath the pool are pockets of intimate spaces such as function rooms, spa and gymnasium, effectively articulating subtle characters of the timber and transforming it into three-dimensional and unique spaces.\\nAs the development has a large ratio of home to communal space, Dairy Farm Residences has the aspects of resort living within nature, a modern escape into the woods. To create a sense of space where residents can feel they have entered a realm of tranquility and comfort, other facilities include a an elegantly appointed multi-purpose clubhouse, 50m lap pool, all day dining spaces, barbeque pits, tennis court, sun deck and bespoke lifestyle pavilions. By allowing the residents to interact with the woods outside and within the development, we aim to offer an immersive experience of the woods; allowing residents to feel a sense of solitude and comfort being away from the busy outside world.\\nDairy Farm Residences is also a residential development with a strong environmental conscience that actively embraces a sustainable way of living. A BCA’s Green Mark Gold Plus development and adopting a green and low energy approach, 90% of the units are in north–south orientation to reduce solar heat gain; while others will enjoy stunning pool views.\\nIt’s time to discover a complete life at the Dairy Farm Residences.                                            http://virtualtours.sg/tours/dairyfarm/   \n",
       "1  Jadescape (Former Shunfu Ville)\\r\\n\\r\\nJadescape is situated along Shunfu Road, within close proximity to Bishan and Upper Thomson\\r\\n\\r\\nWide range of 613 units from 1 BR to 5 BR for different needs and budget\\r\\n\\r\\nApproximately 7 minutes walk to Marymount MRT Station. Also within close proximity to the upcoming Thomson-East Coast Line station\\r\\n\\r\\nClose proximity to various famous eateries and reputable schools like Raffles Institution and Catholic High\\r\\n\\r\\nGood unit mix of 1 bedrooms to 5 bedroom units to suit different needs.\\r\\n\\r\\nCall 88228988 Now To Enquire.                                                                                                                                                                                                                                                                                                                                                                                                                                                                                                                                                                                                                                                                                                                                                                                                                                                                                                                                                                                                                                                                                                                                                                                                                                                                                                                                                                                                                                                                                                                                                                                                                                                                                                                                                                                                                                                                                                                                                                                                                                                                                                                                                                                                                                                                                                                                                                                                                                                                                                                                                                                                                                                                                                                                                                                                                                                                                                                                                                                                                                                                                                                                                                                                                                                                                                                                                                                                                                                                                                                                                                                                                                                                                                                                                                                                                                                                                                                                                                                                                                                              \n",
       "2  Prices dropped. Hurry! \\nBrought to you by M+S. \\n\\nWith 4 MRT stations to choose from, reaching out to the corners of Singapore has never been easier. \\n\\nMarina One, being flank by 2 parks namely: Central Linear Park & Marina South Station Park, provides the greenery and open space for families to enjoy the outdoor activities right in the city. \\n\\nWith it's unique architectural design, The Heart @ Marina One will be an amazing feature within the development. \\n\\nMany luxury restaurants, retail shops situated within The Heart @ Marina One. \\n\\nCity living has never been so convenient, with the many amenities available within the vicinity.                                                                                                                                                                                                                                                                                                                                                                                                                                                                                                                                                                                                                                                                                                                                                                                                                                                                                                                                                                                                                                                                                                                                                                                                                                                                                                                                                                                                                                                                                                                                                                                                                                                                                                                                                                                                                                                                                                                                                                                                                                                                                                                                                                                                                                                                                                                                                                                                                                                                                                                                                                                                                                                                                                                                                                                                                                                                                                                                                                                                                                                                                                                                                                                                                                                                                                                                                                                                                                                                                                                                                                                                                                                                                                                                                                                                                                                                                                                                                                                         \n",
       "3  VERTICUS – DISTRICT 12 – JALAN KEMAMAN\\r\\n\\r\\nLocated in the most undervalued RCR (Rest of Central Region) district, Verticus is a freehold development by SB (Kemaman) Development Pte Ltd. This development comprises of 162 units with a unit mix of 1 bedroom, 2 bedroom, 2 bedroom   study, 2 bedroom   studio dual key, 3 bedroom, 3 bedroom (premium), 2 bedroom   studio key penthouse, 3 bedroom penthouse and 4 bedroom penthouse.\\r\\n\\r\\nVerticus is just next to Novena healthcare city and is within walking distance to Toa Payoh and Novena MRT station.Residents would be able to enjoy a wide selection of F&B options as the development is surrounded by famous eateries such as Balestier Market Food Court, Boon Tong Kee, Balestier Bak Kut Teh, Wheeler’s Yard, Whampoa Market & Food Centre and more.\\r\\n\\r\\nThere is variety of lifestyle amenities with Balestier Plaza & Shaw Plaza just minutes’ walk away from the development.Shopping malls such as United Square Shopping Mall, , Novena Square, Square 2 @ Novena are all a short distance away from the development.\\r\\n\\r\\nZhongshan Mall and Zhongshan Park are within walking distance - less than 5 minutes walk.\\n\\nProject Highlights:\\r\\n\\r\\nFreehold\\r\\n\\r\\nMost undervalued RCR (Rest of Central Region) district\\r\\n\\r\\nHuge upside potential\\r\\n\\r\\nNext to Novena Healthcare City\\r\\n\\r\\nWalking distance to Toa Payoh and Novena MRT\\r\\n\\r\\nNear to international schools\\r\\n\\r\\nSurrounded by famous eateries\\r\\n\\r\\n\\nMinutes walk to Balestier Plaza & Shaw Plaza and Zhongshan Mall.\\r\\n\\r\\nProject Details:\\r\\n\\r\\nDeveloper: SB (Kemaman) Development Pte Ltd\\r\\n\\r\\nAddress: 3 Jalan Kemaman\\r\\n\\r\\nProperty Type: Private Condominium\\r\\n\\r\\nTenure: Freehold\\r\\n\\r\\nTotal Units: 162\\r\\n\\r\\nUnit Mix:1 bedroom, 2 bedroom, 2 bedroom   study, 2 bedroom   studio dual key, 3 bedroom, 3 bedroom (premium), 2 bedroom   studio dual key penthouse and 3 bedroom penthouse\\r\\n\\r\\nCall 96304575 Now To Enquire.                                                                                                                                                                                                                                                                                                                                                                                                                                                                                                                                                                                                                                                                                                                                                                                                                                                                                                                                                                                                                                                                                                                                                                                                                                                                                                                                                                                                                                                                                                                                                                                                                                                                                                                                                                                                                                                                                                                                                                                                                                                                                                                                                                                                                                                                                                                                                                                                                                                                                                                                                                                                                                            \n",
       "4  VERTICUS – FREEHOLD at DISTRICT 12 – JALAN KEMAMAN\\r\\n\\r\\nLocated in the most undervalued RCR (Rest of Central Region) district, Verticus is a freehold development by SB (Kemaman) Development Pte Ltd. \\n\\nThis development comprises of 162 units with a unit mix of 1 bedroom, 2 bedroom, 2 bedroom  study, 2 bedroom  studio dual key, 3 bedroom, 3 bedroom (premium), 2 bedroom  studio dual key penthouse, 3 bedroom penthouse and 4 bedroom penthouse.\\r\\n\\r\\nVerticus is just next to Health City Novena (great tenant pool) and is within walking distance to Toa Payoh and Novena MRT station.\\n\\nHuge land plot with condominium facilities located at city fringe, comfortably tucked away in the folds Balestier’s serenity.\\n\\nResidents would be able to enjoy a wide selection of F&B options as the development is surrounded by famous eateries such as Balestier Market Food Court, Boon Tong Kee Chicken Rice, Balestier Bak Kut Teh, Wheeler’s Yard, Whampoa Market & Hawker Center and more.\\n\\nThere is variety of lifestyle amenities with Balestier Plaza & Shaw Plaza just minutes’ walk away from the development.Shopping malls such as United Square Shopping Mall, , Novena Square, Square 2 @ Novena are all a short distance away from the development.\\r\\n\\r\\nZhongshan Mall and Zhongshan Park are within walking distance - less than 5 minutes walk.\\n\\nProject Highlights:\\r\\n\\r\\nFreehold\\r\\n\\r\\nMost undervalued RCR (Rest of Central Region) district\\r\\n\\r\\nHuge upside potential\\r\\n\\r\\nNext to Novena Healthcare City\\r\\n\\r\\nWalking distance to Toa Payoh and Novena MRT\\r\\n\\r\\nNear to international schools\\r\\n\\r\\nSurrounded by famous eateries\\r\\n\\r\\nMinutes walk to Balestier Plaza & Shaw Plaza and Zhongshan Mall.\\r\\n\\r\\nProject Details:\\r\\n\\r\\nDeveloper: SB (Kemaman) Development Pte Ltd\\r\\n\\r\\nAddress: 3 Jalan Kemaman\\r\\n\\r\\nProperty Type: Private Condominium\\r\\n\\r\\nTenure: Freehold\\r\\n\\r\\nTotal Units: 162\\r\\n\\r\\nUnit Mix:1 bedroom, 2 bedroom, 2 bedroom  study, 2 bedroom  studio dual key, 3 bedroom, 3 bedroom (premium), 2 bedroom  studio dual key penthouse and 3 bedroom penthouse\\r\\n\\r\\nCall 96304575 Now To Enquire.                                                                                                                                                                                                                                                                                                                                                                                                                                                                                                                                                                                                                                                                                                                                                                                                                                                                                                                                                                                                                                                                                                                                                                                                                                                                                                                                                                                                                                                                                                                                                                                                                                                                                                                                                                                                                                                                                                                                                                                                                                                                                                                                                                                                                                                                                                                                                                                                                                                               \n",
       "\n",
       "                                                                   details  \\\n",
       "0  Facing,North South,District,D23                                           \n",
       "1  Furnishing,Unfurnished,Facing,North South,Availability,Now,District,D20   \n",
       "2  Facing,South West,Availability,Now,District,D01                           \n",
       "3  Furnishing,Unfurnished,Facing,North South,Availability,Now,District,D12   \n",
       "4  Furnishing,Unfurnished,Availability,Now,District,D12                      \n",
       "\n",
       "             lease  \\\n",
       "0  2024 - 99 years   \n",
       "1  2023 - 99 years   \n",
       "2  2018 - 99 years   \n",
       "3   - Freehold       \n",
       "4  1993 - Freehold   \n",
       "\n",
       "                                                                                           link  \\\n",
       "0  https://www.99.co/singapore/sale/property/dairy-farm-residences-condo-CB4Rz6Sdfb4FvgoKYrBnhJ   \n",
       "1  https://www.99.co/singapore/sale/property/jadescape-condo-yhBy3rdA3sJag26VNCoWHh               \n",
       "2  https://www.99.co/singapore/sale/property/marina-one-residences-condo-epsbRyicZT9cQT8vTAToF    \n",
       "3  https://www.99.co/singapore/sale/property/verticus-condo-NoPhGyiiym5Uqwn35txcKU                \n",
       "4  https://www.99.co/singapore/sale/property/kemaman-point-condo-JGZ5DFVeJPVDh2fTxDVucA           \n",
       "\n",
       "                    name       price property_type   psf_price  \n",
       "0  Dairy Farm Residences  $969,000    Condo         $1,553 psf  \n",
       "1  JadeScape              $1,275,408  Condo         $1,669 psf  \n",
       "2  Marina One Residences  $1,580,000  Condo         $2,225 psf  \n",
       "3  Verticus               $889,000    Condo         $2,016 psf  \n",
       "4  Kemaman Point          $1,244,000  NaN           $1,959 psf  "
      ]
     },
     "execution_count": 3,
     "metadata": {},
     "output_type": "execute_result"
    }
   ],
   "source": [
    "df.head()"
   ]
  },
  {
   "cell_type": "code",
   "execution_count": 4,
   "metadata": {
    "ExecuteTime": {
     "end_time": "2020-04-11T04:42:55.326322Z",
     "start_time": "2020-04-11T04:42:55.274460Z"
    }
   },
   "outputs": [],
   "source": [
    "# web scraping might have pulled duplicates if the same property is listed in multiple categories.\n",
    "# drop duplicates. \n",
    "# if combining data pulled at different times, prices might have changed - in that case, drop duplicates based on link instead and only take the latest pulled data.\n",
    "df = df.drop_duplicates(keep='first')\n",
    "# df.loc[:,'listing_id'] = df['link'].apply(lambda x: x[x.rfind('-')+1:]) # this line extracts the listing id from the link. "
   ]
  },
  {
   "cell_type": "code",
   "execution_count": 5,
   "metadata": {
    "ExecuteTime": {
     "end_time": "2020-04-11T04:42:56.151320Z",
     "start_time": "2020-04-11T04:42:56.020507Z"
    }
   },
   "outputs": [],
   "source": [
    "# price is in string format containing $ and ,.\n",
    "# convert price to numeric\n",
    "df.loc[:,'price'] = pd.to_numeric(df['price'].str.replace('$','').str.replace(',',''),errors='coerce')\n",
    "\n",
    "# convert psf_price to numeric\n",
    "df.loc[:,'psf_price'] = df['psf_price'].str.findall('([0-9]+)').str.join('').astype(int) \n",
    "# df.loc[:,'psf_price'] = df['psf_price'].str.replace('$','').str.replace(',','').str.replace(' psf','').astype(int)] #alternative method\n",
    "\n",
    "# convert area to numeric in sqft\n",
    "df['area'] = df['area'].map(lambda x: int(x.split(' / ')[0].replace(',','').replace(' sqft','')))"
   ]
  },
  {
   "cell_type": "code",
   "execution_count": 6,
   "metadata": {
    "ExecuteTime": {
     "end_time": "2020-04-11T04:42:56.815713Z",
     "start_time": "2020-04-11T04:42:56.810727Z"
    }
   },
   "outputs": [
    {
     "data": {
      "text/plain": [
       "array(['2', nan, '1', '3', '9', '4', '5', '6', '7', '8', '0', '10', ' '],\n",
       "      dtype=object)"
      ]
     },
     "execution_count": 6,
     "metadata": {},
     "output_type": "execute_result"
    }
   ],
   "source": [
    "# bedrooms are not numeric for some reason.\n",
    "df.bedrooms.unique()"
   ]
  },
  {
   "cell_type": "code",
   "execution_count": 7,
   "metadata": {
    "ExecuteTime": {
     "end_time": "2020-04-11T04:42:57.335490Z",
     "start_time": "2020-04-11T04:42:57.316540Z"
    }
   },
   "outputs": [
    {
     "data": {
      "text/html": [
       "<div>\n",
       "<style scoped>\n",
       "    .dataframe tbody tr th:only-of-type {\n",
       "        vertical-align: middle;\n",
       "    }\n",
       "\n",
       "    .dataframe tbody tr th {\n",
       "        vertical-align: top;\n",
       "    }\n",
       "\n",
       "    .dataframe thead th {\n",
       "        text-align: right;\n",
       "    }\n",
       "</style>\n",
       "<table border=\"1\" class=\"dataframe\">\n",
       "  <thead>\n",
       "    <tr style=\"text-align: right;\">\n",
       "      <th></th>\n",
       "      <th>address</th>\n",
       "      <th>amenities</th>\n",
       "      <th>area</th>\n",
       "      <th>bathrooms</th>\n",
       "      <th>bedrooms</th>\n",
       "      <th>description</th>\n",
       "      <th>details</th>\n",
       "      <th>lease</th>\n",
       "      <th>link</th>\n",
       "      <th>name</th>\n",
       "      <th>price</th>\n",
       "      <th>property_type</th>\n",
       "      <th>psf_price</th>\n",
       "    </tr>\n",
       "  </thead>\n",
       "  <tbody>\n",
       "    <tr>\n",
       "      <td>4255</td>\n",
       "      <td>Ernani Street - D15</td>\n",
       "      <td>NaN</td>\n",
       "      <td>1600</td>\n",
       "      <td>5.0</td>\n",
       "      <td></td>\n",
       "      <td>TOP Q1 2020</td>\n",
       "      <td>Availability,Now,Tenancy Current Rent,S$0,Cost of Renovation,S$0,District,D15</td>\n",
       "      <td>1980 - Freehold</td>\n",
       "      <td>https://www.99.co/singapore/sale/property/ernani-street-landed-LopPwsZfrJp2fSaRhz3cF4</td>\n",
       "      <td>Opera Estate</td>\n",
       "      <td>3800000.0</td>\n",
       "      <td>Terraced House</td>\n",
       "      <td>2375</td>\n",
       "    </tr>\n",
       "    <tr>\n",
       "      <td>4257</td>\n",
       "      <td>Watten Estate Road - D11</td>\n",
       "      <td>NaN</td>\n",
       "      <td>4600</td>\n",
       "      <td>5.0</td>\n",
       "      <td></td>\n",
       "      <td>Come Immerse the Peaceful Vibes and Tranquility in this Charming House today!\\nFreehold ! District 11, this Elevated 3 storeys Corner Link-Bungalow House, it is nestled in an exclusive neighborhood with Panoramic greenery view, 100% Privacy, Tranquil and Calming feel. Immaculate Tip Top Condition! \\n\\nArrange a viewing now and make this your dream home today, True Gem! \\n* Freehold, 3 Storeys Link Bungalow \\n* Land size:Approx  4600qft, built in: 5000sqft\\n* 7 Bedrooms (1 Guest room on 1st floor, 6 bedrooms and 1 maid room)\\n* Big garden, Extra Wide Frontage \\n* No Noon Sun, Renovated\\n* Park 3-4 cars, WOW!\\n* Within 1-2 KM to Nanyang Primary school,  RGPS\\n* Bright &amp; Breezy\\n* 10 mins walk to Main Road, Tan Kah Kee MRT.</td>\n",
       "      <td>Availability,Now,Tenancy Current Rent,S$0,Cost of Renovation,S$0,District,D11</td>\n",
       "      <td>- Freehold</td>\n",
       "      <td>https://www.99.co/singapore/sale/property/watten-estate-road-landed-GhnkWajjchUbKVs2nxjvJK</td>\n",
       "      <td>Watten Estate</td>\n",
       "      <td>8900000.0</td>\n",
       "      <td>Bungalow</td>\n",
       "      <td>1935</td>\n",
       "    </tr>\n",
       "    <tr>\n",
       "      <td>4258</td>\n",
       "      <td>Watten Close - D11</td>\n",
       "      <td>NaN</td>\n",
       "      <td>1800</td>\n",
       "      <td>2.0</td>\n",
       "      <td></td>\n",
       "      <td>New Listing! Highly Sought after location! Don’t miss again!\\nDistrict 11 Watten vicinity Intermediate House, Freehold, Elevated 2 Storeys, 4 Bedrooms with a garden, move in condition, serene neighborhood,  Private &amp; tranquil! see to appreciate! Serious seller! \\nMins to city and near amenities, Coronation S.C, Cluny court, Adam food centre, Greenwoods Bistros &amp; Restaurants. Surround by good schools, RGPS, Nanyang Primary, MGS, etc.\\nAlmost sold! View now!Suit A&amp;A or rebuilt. Sell with vacant possession, Key on hand!\\n \\n*Arrange an exclusive viewing today with Joyce  9008 4000</td>\n",
       "      <td>Availability,Now,Tenancy Current Rent,S$0,Cost of Renovation,S$0,District,D11</td>\n",
       "      <td>- Freehold</td>\n",
       "      <td>https://www.99.co/singapore/sale/property/watten-close-landed-YKjUPiPMRHsHK4pBxi2GfP</td>\n",
       "      <td>Watten Estate</td>\n",
       "      <td>4500000.0</td>\n",
       "      <td>Terraced House</td>\n",
       "      <td>2500</td>\n",
       "    </tr>\n",
       "    <tr>\n",
       "      <td>4261</td>\n",
       "      <td>Jalan Dermawan - D23</td>\n",
       "      <td>NaN</td>\n",
       "      <td>8450</td>\n",
       "      <td>3.0</td>\n",
       "      <td></td>\n",
       "      <td>Design your own house or Owner design for You!\\nFreehold Exclusive Cul De Sac 2 Storeys Corner Hilltop House with Goodsized Garden space for you to realize its full Potential. Exclusively Located with Full Privacy, stonethrow to nearby cafes, bars and convenience stores. Come and visit this Auspicious Number today, \\nCall me Joyce Lau 9008 4000 for an Personal Viewing today.\\nLand approx 8500ft, Built up 4000ft.\\n\\nSituated in a quiet residential area, Hillview Garden Estate is surrounded by private condonimums and landed houses. It is near parks like Bukit Batok Nature Park and Bukit Timah Nature Reserve, Dairy Farm Nature Park, Chestnut Nature Park and Rifle Range Nature Park\\n\\nThe closest shopping malls are HillV2, THE RAIL MALL, and West Mall with the nearest train stations such as Hillview MRT (DT3), Bukit Gombak (NS3), and Cashew MRT (DT2).\\n\\nThe nearest primary schools are Lianhua Primary School, Chij Our Lady Queen Of Peace, and Dazhong Primary School.</td>\n",
       "      <td>Availability,Now,Tenancy Current Rent,S$0,Cost of Renovation,S$0,District,D23</td>\n",
       "      <td>- Freehold</td>\n",
       "      <td>https://www.99.co/singapore/sale/property/jalan-dermawan-landed-yf77KAzUtcz8mgVL6VZmEB</td>\n",
       "      <td>Hillview Garden Estate</td>\n",
       "      <td>7400000.0</td>\n",
       "      <td>Semi-Detached House</td>\n",
       "      <td>876</td>\n",
       "    </tr>\n",
       "    <tr>\n",
       "      <td>4345</td>\n",
       "      <td>Jalan Lakum - D28</td>\n",
       "      <td>NaN</td>\n",
       "      <td>3800</td>\n",
       "      <td>7.0</td>\n",
       "      <td></td>\n",
       "      <td>Swimming pool. Lift. Equipped with full solar panels. Top soon.</td>\n",
       "      <td>Availability,Now,Tenancy Current Rent,S$0,Cost of Renovation,S$0,District,D28</td>\n",
       "      <td>2013 - Freehold</td>\n",
       "      <td>https://www.99.co/singapore/sale/property/jalan-lakum-landed-BNhN8GLQNbQakifZRJcHub</td>\n",
       "      <td>Seletar Hills Estate</td>\n",
       "      <td>5950000.0</td>\n",
       "      <td>Terraced House</td>\n",
       "      <td>1566</td>\n",
       "    </tr>\n",
       "    <tr>\n",
       "      <td>4346</td>\n",
       "      <td>Jalan Emas Urai - D23</td>\n",
       "      <td>Jacuzzi,Lap Pool</td>\n",
       "      <td>3821</td>\n",
       "      <td>4.0</td>\n",
       "      <td></td>\n",
       "      <td>Rare 3 storey Cluster House with Basement &amp; Roof terrace.\\n\\nLocated in a Transquil n Greenery environment.\\n\\nCorner Unit with privacy.\\n\\n4 Bedroom ensuites n helper' s room\\n\\nA Roof terrace to enjoy scenery view &amp; pool view.\\n\\nA patio to relax.\\n\\n2 basement parking lot.\\n\\n3891 sqft\\n\\n\\n*** LOVE AT FIRST SIGHT ***\\n\\n*** BEAUTIFULLY RENOVATED CORNER SEMI DETACHED HOUSE IN A SMALL GATED COMMUNITY OF 10 HOUSES ONLY***\\n\\n*** SPACIOUS LIVING AND DINNING AREA ***\\n\\n*** WET AND DRY KITCHEN ***\\n\\n*** SPACIOUS 4 BEDROOMS WITH THREE ROOMS ENSUITE ***\\n\\n*** SPACIOUS OUTDOOR PATIO GARDEN AND UPPER LEVEL ROOF TERRACE ***\\n\\n\\n\\nCondo Facilities at Chestnut Residences \\n\\nChestnut Residences has facilities that residents can enjoy that include a lap pool, Jacuzzi, BBQ area and a private car park.\\n\\nCondo Amenities near Chestnut Residences. \\n\\nChestnut Residences stands amongst many accessible heartland malls which provide indispensable amenities such as shopping, entertainment, and food. These malls include The Rail Mall, Bukit Panjang Plaza, Ten Mile Junction.\\nThere are countless neighbourhood schools and education institutions within close proximity of Chestnut Reside\\n\\nIt is accessible through the nearest train stations such as Cashew MRT (DT2), Hillview MRT (DT3), and Pending (BP8). The nearest primary schools are Chij Our Lady Queen Of Peace, Bukit Panjang Primary School, and Zhenghua Primary School. \\n\\nThis property is close to amenities like Cold Storage Rail Mall , Giant(bangkit Road), and NTUC FAIRPRICE (BUKIT PANJANG PLAZA). The closest shopping malls are Bukit Panjang Plaza.\\n\\nPls contact Irene Ang @ 86936988 \\nEmail</td>\n",
       "      <td>Availability,Now,Tenancy Current Rent,S$0,Cost of Renovation,S$0,District,D23</td>\n",
       "      <td>2009 - 999 years</td>\n",
       "      <td>https://www.99.co/singapore/sale/property/jalan-emas-urai-landed-kjNyqxYmwvMK4btWHx7xjS</td>\n",
       "      <td>Chestnut Residences</td>\n",
       "      <td>2800000.0</td>\n",
       "      <td>Cluster House</td>\n",
       "      <td>733</td>\n",
       "    </tr>\n",
       "    <tr>\n",
       "      <td>4436</td>\n",
       "      <td>Jalan Lim Tai See - D10</td>\n",
       "      <td>Swimming Pool,Security,Jacuzzi,Playground,Parking</td>\n",
       "      <td>0</td>\n",
       "      <td>5.0</td>\n",
       "      <td></td>\n",
       "      <td>*******FREEHOLD STRATA LANDED D10 Cluster House*******\\n\\n?Ventura Heights?\\nBeautiful layout with a Rooftop garden. \\n\\n?Freehold Cluster House in District 10\\n?Living space of 4661 sqft\\n?2 Private parking lots at your door step.\\n?Basement: 1room with toilet (guest room), bomb Shelter, Laundry area + common toilet\\n?1st Floor: Living, Dining area, Kitchen, common toilet\\n?2nd Floor: Master bedroom, Junior Master bedroom (converted into walk-in-wardrobe)\\n?3rd Floor: Kids rooms, Study room, common toilet\\n?Rooftop: Huge open area with shelter, functional for BBQ even in rain or shine with a Overlooking unblocked view\\n\\nTotal of 5bedrooms + 6 toilets\\n\\n?Facilities: Barbecue Area, Swimming Pool, PlayGound, Fitness Area?\\n\\n*** Wheelchair friendly here***\\n\\nMRT Near-by:\\nHolland Village MRT (1.10km)\\nSixth Avenue MRT (1.25km)\\nBuona Vista MRT (1.55km)\\nDover MRT (1.81km)\\nFarrer Road MRT (1.83km)\\nKing Albert Park MRT (1.84km)\\n\\nCall Sharon at 98198774 for an appointment now.</td>\n",
       "      <td>Availability,Now,Tenancy Current Rent,S$0,Cost of Renovation,S$0,District,D10</td>\n",
       "      <td>2011 - Freehold</td>\n",
       "      <td>https://www.99.co/singapore/sale/property/jalan-lim-tai-see-landed-HsTTEnoUj5tS89XS6de9xj</td>\n",
       "      <td>Ventura Heights</td>\n",
       "      <td>3900000.0</td>\n",
       "      <td>Semi-Detached House</td>\n",
       "      <td>837</td>\n",
       "    </tr>\n",
       "    <tr>\n",
       "      <td>4437</td>\n",
       "      <td>Conway Grove - D19</td>\n",
       "      <td>NaN</td>\n",
       "      <td>6190</td>\n",
       "      <td>3.0</td>\n",
       "      <td></td>\n",
       "      <td>*******Freehold Semi-D House in SERANGOON Garden *******\\n\\nBeautiful layout with Swimming Pool Deck\\n\\nFor Sale!\\n?Freehold Semi-Detached House\\n?Land Size : 575.1sqm / 6190sqf\\n?Able to park 2 cars in the driveway with an outside Living room\\n?1st – Living Room and reading corner\\n?Mezzanine: Dining area, Kitchen, common toilet, towards the backyard with patio Dining and a Deck swimming pool. \\n?2nd Floor: Master bedroom with toilet, bedroom 1\\n?Mezzanine: 2 bedrooms with 1 common toilet\\n\\nMRT Near-by:\\nLorong Chuan Mrt (0.68km)\\nSerangoon MRT (1.26km)\\nTavistock MRT (1.42km)\\nSerangoon North MRT (1.73km)\\n\\nSchool:\\nPrimary &amp; Secondary\\nCHIJ- Our Lady Of Good Counsel (0.15km)\\nZhonghua School (0.58km)\\nSt Gariel’s Primary (0.96km)\\nYangzheng Primary (1km)\\nTownville Primary (1.31km)\\nKuo Chuan Presbyterian Primary (1.47km)\\n\\nChildcares:\\nBlossom Discovery Centre (0.28km)\\nGarden Clinic for Babies (0.50km)\\nRosyth Child Care Centre (0.51km)\\n\\nShop, Eat and Chill: \\n5minute walk to Serangoon Garden Way (0.45km). My Village @ Serangoon Gardens, Chomp Chomp Food Centre, Serangoon Garden Market &amp; Food Centre, Pow Sing Kitchen, Sushi Tei Restaurant, Little Wimbly Lu, Supermarkets and more.\\n\\nCall Sharon @ 98198774 for viewing arrangement</td>\n",
       "      <td>Availability,Now,Tenancy Current Rent,S$0,Cost of Renovation,S$0,District,D19</td>\n",
       "      <td>2014 - 999 years</td>\n",
       "      <td>https://www.99.co/singapore/sale/property/conway-grove-landed-eDxDA64xJ4wbLpn8CbnWBk</td>\n",
       "      <td>Serangoon Garden Estate</td>\n",
       "      <td>8000000.0</td>\n",
       "      <td>Semi-Detached House</td>\n",
       "      <td>1292</td>\n",
       "    </tr>\n",
       "    <tr>\n",
       "      <td>4479</td>\n",
       "      <td>Jalan Langgar Bedok - D16</td>\n",
       "      <td>Swimming Pool,Security,Wading Pool,Parking</td>\n",
       "      <td>3485</td>\n",
       "      <td>3.0</td>\n",
       "      <td></td>\n",
       "      <td>Double storey Corner Terrace that sits atop the hill\\n\\nBright and windy. North-East facing\\nSingle loading.\\nCan be rebuild to up to 3 storeys\\n\\n999 years leasehold.</td>\n",
       "      <td>Availability,Now,Tenancy Current Rent,S$0,Cost of Renovation,S$0,District,D16</td>\n",
       "      <td>1986 - 999 years</td>\n",
       "      <td>https://www.99.co/singapore/sale/property/jalan-langgar-bedok-landed-ohhKq9z3sLYTvoWVgeyX97</td>\n",
       "      <td>Lucky Hill</td>\n",
       "      <td>4500000.0</td>\n",
       "      <td>Corner Terrace</td>\n",
       "      <td>1291</td>\n",
       "    </tr>\n",
       "    <tr>\n",
       "      <td>8113</td>\n",
       "      <td>2 Whampoa East - D12</td>\n",
       "      <td>Function Room,Water Feature,Gym,Jacuzzi,Tennis Court,Parking,Viewing Deck,Swimming Pool,Wading Pool,Spa Pool,Playground,Fitness Corner,Security,Lap Pool,BBQ,Hydrotherapy Pool</td>\n",
       "      <td>441</td>\n",
       "      <td>1.0</td>\n",
       "      <td></td>\n",
       "      <td>1bedroom for Sale!\\r\\n\\r\\n\\r\\n- walking distances to Boon Keng mrt station,\\r\\n- good layout\\r\\n- unblock view\\r\\n- no west sun\\r\\n- walking distances to eateries &amp; Amenties \\n- tenanted until July 2018\\r\\n\\r\\n\\r\\nCall Alexis Chia @ 81578929 now for more info!</td>\n",
       "      <td>Furnishing,Partially Furnished,District,D12</td>\n",
       "      <td>2016 - 99 years</td>\n",
       "      <td>https://www.99.co/singapore/sale/property/eight-riversuites-condo-7V4FtZPZRBwBp67MMDd56T</td>\n",
       "      <td>Eight Riversuites</td>\n",
       "      <td>730000.0</td>\n",
       "      <td>Condo</td>\n",
       "      <td>1655</td>\n",
       "    </tr>\n",
       "    <tr>\n",
       "      <td>8116</td>\n",
       "      <td>253C Pasir Panjang Road - D5</td>\n",
       "      <td>Clubhouse,Gym,Swimming Pool,Jacuzzi,Playground,Parking,Security,BBQ</td>\n",
       "      <td>420</td>\n",
       "      <td>1.0</td>\n",
       "      <td></td>\n",
       "      <td>New listing for sales\\n\\nParc Imperial high floor unit block\\nMin to mrt \\nNice layout \\nExcellent location\\nGreat project \\n\\nCall for appt today 90616162 to view</td>\n",
       "      <td>Furnishing,Partially Furnished,District,D05</td>\n",
       "      <td>2010 - Freehold</td>\n",
       "      <td>https://www.99.co/singapore/sale/property/parc-imperial-condo-LLPLiRWyYLWkrdyqEXBN4k</td>\n",
       "      <td>Parc Imperial</td>\n",
       "      <td>699000.0</td>\n",
       "      <td>Condo</td>\n",
       "      <td>1664</td>\n",
       "    </tr>\n",
       "    <tr>\n",
       "      <td>8646</td>\n",
       "      <td>8 Hougang Street 32 - D19</td>\n",
       "      <td>Fun Pool,Clubhouse,Pavilion,Pool Deck,Timber Deck,Waterfall,Jacuzzi,Tennis Court,Security,Lap Pool,BBQ,Playground</td>\n",
       "      <td>710</td>\n",
       "      <td>2.0</td>\n",
       "      <td></td>\n",
       "      <td>Parc Vera\\n\\n2 Bedder with 2 Bathroom \\nHigh Floor and Unblock Panoramic View\\nBright and Breezy Unit \\nSquarish and Efficient Layout\\nQuiet Facing\\nUtility, Yard and Bomb Shelter for Storage Purpose\\nUpcoming Rivercourt BTO opposite Parc Vera is 1 of the fifth new gen neighbourhood centre that provides residents with supermarkets, food court, shops and enrichment centres\\n2stops to Hougang Interchange.\\nUpcoming Cross Island Line will ready in 2029 Defu station will be built along Tampines Road which is just mins walk away.\\nConveniently located to Major Expressway (KPE) for Easy Access to City \\nGreat potential for the area to be “an alternate employment hub” to the Central Business District.\\nMove close to the growth area (Three signature industrial parks at Lorong Halus, Defu and Seletar will be developed and create job opportunities in the North-East region) Lorong Halus and Defu Industrial Parks will be designed for new-generational, high value-added industries such as precision engineering and logistics.\\n\\nAmenities:\\nHougang Plaza, Kang Kar Mall, and Hougang Mall \\nThe nearest NTUC is just a 5min drive away\\nSunshine kids Child care is less than 500m away\\nHougang Community Club at Hougang Ave 3\\n\\nPrimary School:\\nHoly Innocents’ Primary School (510m)\\nXinghua Primary School (690m)\\nCHIJ Our Lady of the Nativity (1.25km)\\nMonfort Junior School (1.40km)\\n\\nSecondary School:\\nYuying Secondary School (770m)\\nHoly Innocents’ High School (1.04km)\\nMonfort Secondary School (1.45km)\\n\\n\\nPlease Call Ivy Ong 9385 7726 for viewing of the actual unit</td>\n",
       "      <td>Availability,Now,Tenancy Current Rent,S$0,Cost of Renovation,S$0,District,D19</td>\n",
       "      <td>2015 - 99 years</td>\n",
       "      <td>https://www.99.co/singapore/sale/property/parc-vera-condo-UAARgUsL4bJQSsoiNfRKZR</td>\n",
       "      <td>Parc Vera</td>\n",
       "      <td>848888.0</td>\n",
       "      <td>Condo</td>\n",
       "      <td>1196</td>\n",
       "    </tr>\n",
       "    <tr>\n",
       "      <td>8949</td>\n",
       "      <td>348 Balestier Road - Floor #12</td>\n",
       "      <td>Gym,Swimming Pool,Jacuzzi,Playground,Fitness Corner,Parking,Security,BBQ</td>\n",
       "      <td>334</td>\n",
       "      <td>1.0</td>\n",
       "      <td></td>\n",
       "      <td>Corner studio unit, high floor and quiet. Main door face NE. Well maintained and good condition. Away from lift landing noise. Selling vacant possession. \\nBehind Shaw Plaza. Walk to public transport and eateries. \\n\\nFor viewing call Cindy @ 9169 3293</td>\n",
       "      <td>Facing,North East,Floor,12,Tenancy Lease Expiry,21 Jun 2020,District,D12</td>\n",
       "      <td>2013 - Freehold</td>\n",
       "      <td>https://www.99.co/singapore/sale/property/prestige-heights-condo-qpxee5RoZ3zoh8ddJEivJT</td>\n",
       "      <td>Prestige Heights</td>\n",
       "      <td>560000.0</td>\n",
       "      <td>Apartment</td>\n",
       "      <td>1677</td>\n",
       "    </tr>\n",
       "    <tr>\n",
       "      <td>15777</td>\n",
       "      <td>15 Tampines Central 7 - D18</td>\n",
       "      <td>Clubhouse,Function Room,Gym,Sauna,Jacuzzi,Tennis Court,Pavilion,Pool Deck,Hydrotherapy Pool,Wading Pool,Spa Pool,Playground,Fitness Corner,Security,Lap Pool,BBQ,Hydrotherapy Pool</td>\n",
       "      <td>1238</td>\n",
       "      <td>2.0</td>\n",
       "      <td></td>\n",
       "      <td>Ground Floor with PES\\nViewing 3 days advance notice</td>\n",
       "      <td>Availability,Now,Tenancy Current Rent,S$0,Cost of Renovation,S$0,District,D18</td>\n",
       "      <td>2015 - 99 years</td>\n",
       "      <td>https://www.99.co/singapore/sale/property/the-tampines-trilliant-condo-nri5YRgifL7GrksHKDP44Z</td>\n",
       "      <td>The Tampines Trilliant</td>\n",
       "      <td>1400000.0</td>\n",
       "      <td>Executive Condo</td>\n",
       "      <td>1131</td>\n",
       "    </tr>\n",
       "  </tbody>\n",
       "</table>\n",
       "</div>"
      ],
      "text/plain": [
       "                              address  \\\n",
       "4255   Ernani Street - D15              \n",
       "4257   Watten Estate Road - D11         \n",
       "4258   Watten Close - D11               \n",
       "4261   Jalan Dermawan - D23             \n",
       "4345   Jalan Lakum - D28                \n",
       "4346   Jalan Emas Urai - D23            \n",
       "4436   Jalan Lim Tai See - D10          \n",
       "4437   Conway Grove - D19               \n",
       "4479   Jalan Langgar Bedok - D16        \n",
       "8113   2 Whampoa East - D12             \n",
       "8116   253C Pasir Panjang Road - D5     \n",
       "8646   8 Hougang Street 32 - D19        \n",
       "8949   348 Balestier Road - Floor #12   \n",
       "15777  15 Tampines Central 7 - D18      \n",
       "\n",
       "                                                                                                                                                                                amenities  \\\n",
       "4255   NaN                                                                                                                                                                                  \n",
       "4257   NaN                                                                                                                                                                                  \n",
       "4258   NaN                                                                                                                                                                                  \n",
       "4261   NaN                                                                                                                                                                                  \n",
       "4345   NaN                                                                                                                                                                                  \n",
       "4346   Jacuzzi,Lap Pool                                                                                                                                                                     \n",
       "4436   Swimming Pool,Security,Jacuzzi,Playground,Parking                                                                                                                                    \n",
       "4437   NaN                                                                                                                                                                                  \n",
       "4479   Swimming Pool,Security,Wading Pool,Parking                                                                                                                                           \n",
       "8113   Function Room,Water Feature,Gym,Jacuzzi,Tennis Court,Parking,Viewing Deck,Swimming Pool,Wading Pool,Spa Pool,Playground,Fitness Corner,Security,Lap Pool,BBQ,Hydrotherapy Pool       \n",
       "8116   Clubhouse,Gym,Swimming Pool,Jacuzzi,Playground,Parking,Security,BBQ                                                                                                                  \n",
       "8646   Fun Pool,Clubhouse,Pavilion,Pool Deck,Timber Deck,Waterfall,Jacuzzi,Tennis Court,Security,Lap Pool,BBQ,Playground                                                                    \n",
       "8949   Gym,Swimming Pool,Jacuzzi,Playground,Fitness Corner,Parking,Security,BBQ                                                                                                             \n",
       "15777  Clubhouse,Function Room,Gym,Sauna,Jacuzzi,Tennis Court,Pavilion,Pool Deck,Hydrotherapy Pool,Wading Pool,Spa Pool,Playground,Fitness Corner,Security,Lap Pool,BBQ,Hydrotherapy Pool   \n",
       "\n",
       "       area  bathrooms bedrooms  \\\n",
       "4255   1600  5.0                  \n",
       "4257   4600  5.0                  \n",
       "4258   1800  2.0                  \n",
       "4261   8450  3.0                  \n",
       "4345   3800  7.0                  \n",
       "4346   3821  4.0                  \n",
       "4436   0     5.0                  \n",
       "4437   6190  3.0                  \n",
       "4479   3485  3.0                  \n",
       "8113   441   1.0                  \n",
       "8116   420   1.0                  \n",
       "8646   710   2.0                  \n",
       "8949   334   1.0                  \n",
       "15777  1238  2.0                  \n",
       "\n",
       "                                                                                                                                                                                                                                                                                                                                                                                                                                                                                                                                                                                                                                                                                                                                                                                                                                                                                                                                                                                                                                                                                                                                                                                                                                                                                                                                                                                                                                                                                                                                                                                                                                                                                                                        description  \\\n",
       "4255   TOP Q1 2020                                                                                                                                                                                                                                                                                                                                                                                                                                                                                                                                                                                                                                                                                                                                                                                                                                                                                                                                                                                                                                                                                                                                                                                                                                                                                                                                                                                                                                                                                                                                                                                                                                                                                                                    \n",
       "4257   Come Immerse the Peaceful Vibes and Tranquility in this Charming House today!\\nFreehold ! District 11, this Elevated 3 storeys Corner Link-Bungalow House, it is nestled in an exclusive neighborhood with Panoramic greenery view, 100% Privacy, Tranquil and Calming feel. Immaculate Tip Top Condition! \\n\\nArrange a viewing now and make this your dream home today, True Gem! \\n* Freehold, 3 Storeys Link Bungalow \\n* Land size:Approx  4600qft, built in: 5000sqft\\n* 7 Bedrooms (1 Guest room on 1st floor, 6 bedrooms and 1 maid room)\\n* Big garden, Extra Wide Frontage \\n* No Noon Sun, Renovated\\n* Park 3-4 cars, WOW!\\n* Within 1-2 KM to Nanyang Primary school,  RGPS\\n* Bright & Breezy\\n* 10 mins walk to Main Road, Tan Kah Kee MRT.                                                                                                                                                                                                                                                                                                                                                                                                                                                                                                                                                                                                                                                                                                                                                                                                                                                                                                                                                                     \n",
       "4258   New Listing! Highly Sought after location! Don’t miss again!\\nDistrict 11 Watten vicinity Intermediate House, Freehold, Elevated 2 Storeys, 4 Bedrooms with a garden, move in condition, serene neighborhood,  Private & tranquil! see to appreciate! Serious seller! \\nMins to city and near amenities, Coronation S.C, Cluny court, Adam food centre, Greenwoods Bistros & Restaurants. Surround by good schools, RGPS, Nanyang Primary, MGS, etc.\\nAlmost sold! View now!Suit A&A or rebuilt. Sell with vacant possession, Key on hand!\\n \\n*Arrange an exclusive viewing today with Joyce  9008 4000                                                                                                                                                                                                                                                                                                                                                                                                                                                                                                                                                                                                                                                                                                                                                                                                                                                                                                                                                                                                                                                                                                                       \n",
       "4261   Design your own house or Owner design for You!\\nFreehold Exclusive Cul De Sac 2 Storeys Corner Hilltop House with Goodsized Garden space for you to realize its full Potential. Exclusively Located with Full Privacy, stonethrow to nearby cafes, bars and convenience stores. Come and visit this Auspicious Number today, \\nCall me Joyce Lau 9008 4000 for an Personal Viewing today.\\nLand approx 8500ft, Built up 4000ft.\\n\\nSituated in a quiet residential area, Hillview Garden Estate is surrounded by private condonimums and landed houses. It is near parks like Bukit Batok Nature Park and Bukit Timah Nature Reserve, Dairy Farm Nature Park, Chestnut Nature Park and Rifle Range Nature Park\\n\\nThe closest shopping malls are HillV2, THE RAIL MALL, and West Mall with the nearest train stations such as Hillview MRT (DT3), Bukit Gombak (NS3), and Cashew MRT (DT2).\\n\\nThe nearest primary schools are Lianhua Primary School, Chij Our Lady Queen Of Peace, and Dazhong Primary School.                                                                                                                                                                                                                                                                                                                                                                                                                                                                                                                                                                                                                                                                                                               \n",
       "4345   Swimming pool. Lift. Equipped with full solar panels. Top soon.                                                                                                                                                                                                                                                                                                                                                                                                                                                                                                                                                                                                                                                                                                                                                                                                                                                                                                                                                                                                                                                                                                                                                                                                                                                                                                                                                                                                                                                                                                                                                                                                                                                                \n",
       "4346   Rare 3 storey Cluster House with Basement & Roof terrace.\\n\\nLocated in a Transquil n Greenery environment.\\n\\nCorner Unit with privacy.\\n\\n4 Bedroom ensuites n helper' s room\\n\\nA Roof terrace to enjoy scenery view & pool view.\\n\\nA patio to relax.\\n\\n2 basement parking lot.\\n\\n3891 sqft\\n\\n\\n*** LOVE AT FIRST SIGHT ***\\n\\n*** BEAUTIFULLY RENOVATED CORNER SEMI DETACHED HOUSE IN A SMALL GATED COMMUNITY OF 10 HOUSES ONLY***\\n\\n*** SPACIOUS LIVING AND DINNING AREA ***\\n\\n*** WET AND DRY KITCHEN ***\\n\\n*** SPACIOUS 4 BEDROOMS WITH THREE ROOMS ENSUITE ***\\n\\n*** SPACIOUS OUTDOOR PATIO GARDEN AND UPPER LEVEL ROOF TERRACE ***\\n\\n\\n\\nCondo Facilities at Chestnut Residences \\n\\nChestnut Residences has facilities that residents can enjoy that include a lap pool, Jacuzzi, BBQ area and a private car park.\\n\\nCondo Amenities near Chestnut Residences. \\n\\nChestnut Residences stands amongst many accessible heartland malls which provide indispensable amenities such as shopping, entertainment, and food. These malls include The Rail Mall, Bukit Panjang Plaza, Ten Mile Junction.\\nThere are countless neighbourhood schools and education institutions within close proximity of Chestnut Reside\\n\\nIt is accessible through the nearest train stations such as Cashew MRT (DT2), Hillview MRT (DT3), and Pending (BP8). The nearest primary schools are Chij Our Lady Queen Of Peace, Bukit Panjang Primary School, and Zhenghua Primary School. \\n\\nThis property is close to amenities like Cold Storage Rail Mall , Giant(bangkit Road), and NTUC FAIRPRICE (BUKIT PANJANG PLAZA). The closest shopping malls are Bukit Panjang Plaza.\\n\\nPls contact Irene Ang @ 86936988 \\nEmail    \n",
       "4436   *******FREEHOLD STRATA LANDED D10 Cluster House*******\\n\\n?Ventura Heights?\\nBeautiful layout with a Rooftop garden. \\n\\n?Freehold Cluster House in District 10\\n?Living space of 4661 sqft\\n?2 Private parking lots at your door step.\\n?Basement: 1room with toilet (guest room), bomb Shelter, Laundry area + common toilet\\n?1st Floor: Living, Dining area, Kitchen, common toilet\\n?2nd Floor: Master bedroom, Junior Master bedroom (converted into walk-in-wardrobe)\\n?3rd Floor: Kids rooms, Study room, common toilet\\n?Rooftop: Huge open area with shelter, functional for BBQ even in rain or shine with a Overlooking unblocked view\\n\\nTotal of 5bedrooms + 6 toilets\\n\\n?Facilities: Barbecue Area, Swimming Pool, PlayGound, Fitness Area?\\n\\n*** Wheelchair friendly here***\\n\\nMRT Near-by:\\nHolland Village MRT (1.10km)\\nSixth Avenue MRT (1.25km)\\nBuona Vista MRT (1.55km)\\nDover MRT (1.81km)\\nFarrer Road MRT (1.83km)\\nKing Albert Park MRT (1.84km)\\n\\nCall Sharon at 98198774 for an appointment now.                                                                                                                                                                                                                                                                                                                                                                                                                                                                                                                                                                                                                                                                                              \n",
       "4437   *******Freehold Semi-D House in SERANGOON Garden *******\\n\\nBeautiful layout with Swimming Pool Deck\\n\\nFor Sale!\\n?Freehold Semi-Detached House\\n?Land Size : 575.1sqm / 6190sqf\\n?Able to park 2 cars in the driveway with an outside Living room\\n?1st – Living Room and reading corner\\n?Mezzanine: Dining area, Kitchen, common toilet, towards the backyard with patio Dining and a Deck swimming pool. \\n?2nd Floor: Master bedroom with toilet, bedroom 1\\n?Mezzanine: 2 bedrooms with 1 common toilet\\n\\nMRT Near-by:\\nLorong Chuan Mrt (0.68km)\\nSerangoon MRT (1.26km)\\nTavistock MRT (1.42km)\\nSerangoon North MRT (1.73km)\\n\\nSchool:\\nPrimary & Secondary\\nCHIJ- Our Lady Of Good Counsel (0.15km)\\nZhonghua School (0.58km)\\nSt Gariel’s Primary (0.96km)\\nYangzheng Primary (1km)\\nTownville Primary (1.31km)\\nKuo Chuan Presbyterian Primary (1.47km)\\n\\nChildcares:\\nBlossom Discovery Centre (0.28km)\\nGarden Clinic for Babies (0.50km)\\nRosyth Child Care Centre (0.51km)\\n\\nShop, Eat and Chill: \\n5minute walk to Serangoon Garden Way (0.45km). My Village @ Serangoon Gardens, Chomp Chomp Food Centre, Serangoon Garden Market & Food Centre, Pow Sing Kitchen, Sushi Tei Restaurant, Little Wimbly Lu, Supermarkets and more.\\n\\nCall Sharon @ 98198774 for viewing arrangement                                                                                                                                                                                                                                                                                                                                                                                                                     \n",
       "4479   Double storey Corner Terrace that sits atop the hill\\n\\nBright and windy. North-East facing\\nSingle loading.\\nCan be rebuild to up to 3 storeys\\n\\n999 years leasehold.                                                                                                                                                                                                                                                                                                                                                                                                                                                                                                                                                                                                                                                                                                                                                                                                                                                                                                                                                                                                                                                                                                                                                                                                                                                                                                                                                                                                                                                                                                                                                        \n",
       "8113   1bedroom for Sale!\\r\\n\\r\\n\\r\\n- walking distances to Boon Keng mrt station,\\r\\n- good layout\\r\\n- unblock view\\r\\n- no west sun\\r\\n- walking distances to eateries & Amenties \\n- tenanted until July 2018\\r\\n\\r\\n\\r\\nCall Alexis Chia @ 81578929 now for more info!                                                                                                                                                                                                                                                                                                                                                                                                                                                                                                                                                                                                                                                                                                                                                                                                                                                                                                                                                                                                                                                                                                                                                                                                                                                                                                                                                                                                                                                           \n",
       "8116   New listing for sales\\n\\nParc Imperial high floor unit block\\nMin to mrt \\nNice layout \\nExcellent location\\nGreat project \\n\\nCall for appt today 90616162 to view                                                                                                                                                                                                                                                                                                                                                                                                                                                                                                                                                                                                                                                                                                                                                                                                                                                                                                                                                                                                                                                                                                                                                                                                                                                                                                                                                                                                                                                                                                                                                            \n",
       "8646   Parc Vera\\n\\n2 Bedder with 2 Bathroom \\nHigh Floor and Unblock Panoramic View\\nBright and Breezy Unit \\nSquarish and Efficient Layout\\nQuiet Facing\\nUtility, Yard and Bomb Shelter for Storage Purpose\\nUpcoming Rivercourt BTO opposite Parc Vera is 1 of the fifth new gen neighbourhood centre that provides residents with supermarkets, food court, shops and enrichment centres\\n2stops to Hougang Interchange.\\nUpcoming Cross Island Line will ready in 2029 Defu station will be built along Tampines Road which is just mins walk away.\\nConveniently located to Major Expressway (KPE) for Easy Access to City \\nGreat potential for the area to be “an alternate employment hub” to the Central Business District.\\nMove close to the growth area (Three signature industrial parks at Lorong Halus, Defu and Seletar will be developed and create job opportunities in the North-East region) Lorong Halus and Defu Industrial Parks will be designed for new-generational, high value-added industries such as precision engineering and logistics.\\n\\nAmenities:\\nHougang Plaza, Kang Kar Mall, and Hougang Mall \\nThe nearest NTUC is just a 5min drive away\\nSunshine kids Child care is less than 500m away\\nHougang Community Club at Hougang Ave 3\\n\\nPrimary School:\\nHoly Innocents’ Primary School (510m)\\nXinghua Primary School (690m)\\nCHIJ Our Lady of the Nativity (1.25km)\\nMonfort Junior School (1.40km)\\n\\nSecondary School:\\nYuying Secondary School (770m)\\nHoly Innocents’ High School (1.04km)\\nMonfort Secondary School (1.45km)\\n\\n\\nPlease Call Ivy Ong 9385 7726 for viewing of the actual unit                                                                                       \n",
       "8949   Corner studio unit, high floor and quiet. Main door face NE. Well maintained and good condition. Away from lift landing noise. Selling vacant possession. \\nBehind Shaw Plaza. Walk to public transport and eateries. \\n\\nFor viewing call Cindy @ 9169 3293                                                                                                                                                                                                                                                                                                                                                                                                                                                                                                                                                                                                                                                                                                                                                                                                                                                                                                                                                                                                                                                                                                                                                                                                                                                                                                                                                                                                                                                                   \n",
       "15777  Ground Floor with PES\\nViewing 3 days advance notice                                                                                                                                                                                                                                                                                                                                                                                                                                                                                                                                                                                                                                                                                                                                                                                                                                                                                                                                                                                                                                                                                                                                                                                                                                                                                                                                                                                                                                                                                                                                                                                                                                                                           \n",
       "\n",
       "                                                                             details  \\\n",
       "4255   Availability,Now,Tenancy Current Rent,S$0,Cost of Renovation,S$0,District,D15   \n",
       "4257   Availability,Now,Tenancy Current Rent,S$0,Cost of Renovation,S$0,District,D11   \n",
       "4258   Availability,Now,Tenancy Current Rent,S$0,Cost of Renovation,S$0,District,D11   \n",
       "4261   Availability,Now,Tenancy Current Rent,S$0,Cost of Renovation,S$0,District,D23   \n",
       "4345   Availability,Now,Tenancy Current Rent,S$0,Cost of Renovation,S$0,District,D28   \n",
       "4346   Availability,Now,Tenancy Current Rent,S$0,Cost of Renovation,S$0,District,D23   \n",
       "4436   Availability,Now,Tenancy Current Rent,S$0,Cost of Renovation,S$0,District,D10   \n",
       "4437   Availability,Now,Tenancy Current Rent,S$0,Cost of Renovation,S$0,District,D19   \n",
       "4479   Availability,Now,Tenancy Current Rent,S$0,Cost of Renovation,S$0,District,D16   \n",
       "8113   Furnishing,Partially Furnished,District,D12                                     \n",
       "8116   Furnishing,Partially Furnished,District,D05                                     \n",
       "8646   Availability,Now,Tenancy Current Rent,S$0,Cost of Renovation,S$0,District,D19   \n",
       "8949   Facing,North East,Floor,12,Tenancy Lease Expiry,21 Jun 2020,District,D12        \n",
       "15777  Availability,Now,Tenancy Current Rent,S$0,Cost of Renovation,S$0,District,D18   \n",
       "\n",
       "                  lease  \\\n",
       "4255   1980 - Freehold    \n",
       "4257    - Freehold        \n",
       "4258    - Freehold        \n",
       "4261    - Freehold        \n",
       "4345   2013 - Freehold    \n",
       "4346   2009 - 999 years   \n",
       "4436   2011 - Freehold    \n",
       "4437   2014 - 999 years   \n",
       "4479   1986 - 999 years   \n",
       "8113   2016 - 99 years    \n",
       "8116   2010 - Freehold    \n",
       "8646   2015 - 99 years    \n",
       "8949   2013 - Freehold    \n",
       "15777  2015 - 99 years    \n",
       "\n",
       "                                                                                                link  \\\n",
       "4255   https://www.99.co/singapore/sale/property/ernani-street-landed-LopPwsZfrJp2fSaRhz3cF4           \n",
       "4257   https://www.99.co/singapore/sale/property/watten-estate-road-landed-GhnkWajjchUbKVs2nxjvJK      \n",
       "4258   https://www.99.co/singapore/sale/property/watten-close-landed-YKjUPiPMRHsHK4pBxi2GfP            \n",
       "4261   https://www.99.co/singapore/sale/property/jalan-dermawan-landed-yf77KAzUtcz8mgVL6VZmEB          \n",
       "4345   https://www.99.co/singapore/sale/property/jalan-lakum-landed-BNhN8GLQNbQakifZRJcHub             \n",
       "4346   https://www.99.co/singapore/sale/property/jalan-emas-urai-landed-kjNyqxYmwvMK4btWHx7xjS         \n",
       "4436   https://www.99.co/singapore/sale/property/jalan-lim-tai-see-landed-HsTTEnoUj5tS89XS6de9xj       \n",
       "4437   https://www.99.co/singapore/sale/property/conway-grove-landed-eDxDA64xJ4wbLpn8CbnWBk            \n",
       "4479   https://www.99.co/singapore/sale/property/jalan-langgar-bedok-landed-ohhKq9z3sLYTvoWVgeyX97     \n",
       "8113   https://www.99.co/singapore/sale/property/eight-riversuites-condo-7V4FtZPZRBwBp67MMDd56T        \n",
       "8116   https://www.99.co/singapore/sale/property/parc-imperial-condo-LLPLiRWyYLWkrdyqEXBN4k            \n",
       "8646   https://www.99.co/singapore/sale/property/parc-vera-condo-UAARgUsL4bJQSsoiNfRKZR                \n",
       "8949   https://www.99.co/singapore/sale/property/prestige-heights-condo-qpxee5RoZ3zoh8ddJEivJT         \n",
       "15777  https://www.99.co/singapore/sale/property/the-tampines-trilliant-condo-nri5YRgifL7GrksHKDP44Z   \n",
       "\n",
       "                          name      price        property_type  psf_price  \n",
       "4255   Opera Estate             3800000.0  Terraced House       2375       \n",
       "4257   Watten Estate            8900000.0  Bungalow             1935       \n",
       "4258   Watten Estate            4500000.0  Terraced House       2500       \n",
       "4261   Hillview Garden Estate   7400000.0  Semi-Detached House  876        \n",
       "4345   Seletar Hills Estate     5950000.0  Terraced House       1566       \n",
       "4346   Chestnut Residences      2800000.0  Cluster House        733        \n",
       "4436   Ventura Heights          3900000.0  Semi-Detached House  837        \n",
       "4437   Serangoon Garden Estate  8000000.0  Semi-Detached House  1292       \n",
       "4479   Lucky Hill               4500000.0  Corner Terrace       1291       \n",
       "8113   Eight Riversuites        730000.0   Condo                1655       \n",
       "8116   Parc Imperial            699000.0   Condo                1664       \n",
       "8646   Parc Vera                848888.0   Condo                1196       \n",
       "8949   Prestige Heights         560000.0   Apartment            1677       \n",
       "15777  The Tampines Trilliant   1400000.0  Executive Condo      1131       "
      ]
     },
     "execution_count": 7,
     "metadata": {},
     "output_type": "execute_result"
    }
   ],
   "source": [
    "# it's because bedroom data has string containing whitespace ' '. \n",
    "df[df.bedrooms==' ']"
   ]
  },
  {
   "cell_type": "code",
   "execution_count": 8,
   "metadata": {
    "ExecuteTime": {
     "end_time": "2020-04-11T04:42:58.146420Z",
     "start_time": "2020-04-11T04:42:58.113511Z"
    }
   },
   "outputs": [],
   "source": [
    "# these rows have number of bathroom data filled, which is a good proxy for the value of number of bedrooms\n",
    "df.loc[df.bedrooms==' ','bedrooms'] = df[df.bedrooms==' ']['bathrooms']\n",
    "df.loc[:,'bedrooms'] = pd.to_numeric(df['bedrooms'])"
   ]
  },
  {
   "cell_type": "code",
   "execution_count": 9,
   "metadata": {
    "ExecuteTime": {
     "end_time": "2020-04-11T04:42:59.271565Z",
     "start_time": "2020-04-11T04:42:59.210689Z"
    }
   },
   "outputs": [],
   "source": [
    "# some property_type is na. some of this information can be inferred from the link (99.co....<landed>.... or 99.co...<hdb>...)\n",
    "df.loc[(df.property_type.isna())&(df.link.str.contains('landed')),'property_type'] = 'Landed'\n",
    "df.loc[(df.property_type.isna())&(df.link.str.contains('hdb')),'property_type'] = 'HDB'\n",
    "df.loc[(df.property_type.isna())&(df.link.str.contains('condo')),'property_type'] = 'Condo'"
   ]
  },
  {
   "cell_type": "markdown",
   "metadata": {},
   "source": [
    "## EDA"
   ]
  },
  {
   "cell_type": "code",
   "execution_count": 10,
   "metadata": {
    "ExecuteTime": {
     "end_time": "2020-04-11T04:43:06.306088Z",
     "start_time": "2020-04-11T04:43:05.819355Z"
    }
   },
   "outputs": [
    {
     "data": {
      "text/plain": [
       "<matplotlib.axes._subplots.AxesSubplot at 0x24ca2572f08>"
      ]
     },
     "execution_count": 10,
     "metadata": {},
     "output_type": "execute_result"
    },
    {
     "data": {
      "image/png": "[encoded data removed]",
      "text/plain": [
       "<Figure size 2160x432 with 1 Axes>"
      ]
     },
     "metadata": {
      "needs_background": "light"
     },
     "output_type": "display_data"
    }
   ],
   "source": [
    "# EDA on price data\n",
    "plt.figure(figsize=(30, 6))\n",
    "sns.boxplot(data=df, x='property_type', y='price')"
   ]
  },
  {
   "cell_type": "code",
   "execution_count": 11,
   "metadata": {
    "ExecuteTime": {
     "end_time": "2020-04-11T04:43:06.705985Z",
     "start_time": "2020-04-11T04:43:06.691025Z"
    }
   },
   "outputs": [],
   "source": [
    "# there is an outlier at over $600mil\n",
    "# remove outlier\n",
    "df = df[df.price<5e8]"
   ]
  },
  {
   "cell_type": "code",
   "execution_count": 12,
   "metadata": {
    "ExecuteTime": {
     "end_time": "2020-04-11T04:43:07.787232Z",
     "start_time": "2020-04-11T04:43:07.315455Z"
    }
   },
   "outputs": [
    {
     "data": {
      "text/plain": [
       "<matplotlib.axes._subplots.AxesSubplot at 0x24ca3028ac8>"
      ]
     },
     "execution_count": 12,
     "metadata": {},
     "output_type": "execute_result"
    },
    {
     "data": {
      "image/png": "[encoded data removed]",
      "text/plain": [
       "<Figure size 2160x432 with 1 Axes>"
      ]
     },
     "metadata": {
      "needs_background": "light"
     },
     "output_type": "display_data"
    }
   ],
   "source": [
    "### EDA based on property type\n",
    "# box plot\n",
    "plt.figure(figsize=(30, 6))\n",
    "sns.boxplot(data=df, x='property_type', y='price')"
   ]
  },
  {
   "cell_type": "code",
   "execution_count": 13,
   "metadata": {
    "ExecuteTime": {
     "end_time": "2020-04-11T04:43:08.584063Z",
     "start_time": "2020-04-11T04:43:08.539208Z"
    },
    "scrolled": true
   },
   "outputs": [
    {
     "data": {
      "text/html": [
       "<div>\n",
       "<style scoped>\n",
       "    .dataframe tbody tr th:only-of-type {\n",
       "        vertical-align: middle;\n",
       "    }\n",
       "\n",
       "    .dataframe tbody tr th {\n",
       "        vertical-align: top;\n",
       "    }\n",
       "\n",
       "    .dataframe thead th {\n",
       "        text-align: right;\n",
       "    }\n",
       "</style>\n",
       "<table border=\"1\" class=\"dataframe\">\n",
       "  <thead>\n",
       "    <tr style=\"text-align: right;\">\n",
       "      <th></th>\n",
       "      <th>count</th>\n",
       "      <th>mean</th>\n",
       "      <th>std</th>\n",
       "      <th>min</th>\n",
       "      <th>25%</th>\n",
       "      <th>50%</th>\n",
       "      <th>75%</th>\n",
       "      <th>max</th>\n",
       "    </tr>\n",
       "    <tr>\n",
       "      <th>property_type</th>\n",
       "      <th></th>\n",
       "      <th></th>\n",
       "      <th></th>\n",
       "      <th></th>\n",
       "      <th></th>\n",
       "      <th></th>\n",
       "      <th></th>\n",
       "      <th></th>\n",
       "    </tr>\n",
       "  </thead>\n",
       "  <tbody>\n",
       "    <tr>\n",
       "      <td>Apartment</td>\n",
       "      <td>349.0</td>\n",
       "      <td>2.045329e+06</td>\n",
       "      <td>2.158176e+06</td>\n",
       "      <td>480000.0</td>\n",
       "      <td>1000000.0</td>\n",
       "      <td>1380000.0</td>\n",
       "      <td>2068000.0</td>\n",
       "      <td>24000000.0</td>\n",
       "    </tr>\n",
       "    <tr>\n",
       "      <td>Bungalow</td>\n",
       "      <td>1456.0</td>\n",
       "      <td>1.103977e+07</td>\n",
       "      <td>6.997294e+06</td>\n",
       "      <td>100000.0</td>\n",
       "      <td>6800000.0</td>\n",
       "      <td>9100000.0</td>\n",
       "      <td>13007015.0</td>\n",
       "      <td>88000000.0</td>\n",
       "    </tr>\n",
       "    <tr>\n",
       "      <td>Cluster House</td>\n",
       "      <td>522.0</td>\n",
       "      <td>3.261654e+06</td>\n",
       "      <td>1.386101e+06</td>\n",
       "      <td>1190000.0</td>\n",
       "      <td>2482500.0</td>\n",
       "      <td>3032000.0</td>\n",
       "      <td>3880000.0</td>\n",
       "      <td>17439488.0</td>\n",
       "    </tr>\n",
       "    <tr>\n",
       "      <td>Condo</td>\n",
       "      <td>7532.0</td>\n",
       "      <td>1.912430e+06</td>\n",
       "      <td>2.260570e+06</td>\n",
       "      <td>0.0</td>\n",
       "      <td>985750.0</td>\n",
       "      <td>1380000.0</td>\n",
       "      <td>1980000.0</td>\n",
       "      <td>52217000.0</td>\n",
       "    </tr>\n",
       "    <tr>\n",
       "      <td>Conservation House</td>\n",
       "      <td>22.0</td>\n",
       "      <td>5.576273e+06</td>\n",
       "      <td>3.127837e+06</td>\n",
       "      <td>949999.0</td>\n",
       "      <td>2680000.0</td>\n",
       "      <td>5175000.0</td>\n",
       "      <td>8500000.0</td>\n",
       "      <td>9800000.0</td>\n",
       "    </tr>\n",
       "    <tr>\n",
       "      <td>Corner Terrace</td>\n",
       "      <td>861.0</td>\n",
       "      <td>4.049343e+06</td>\n",
       "      <td>1.316525e+06</td>\n",
       "      <td>700000.0</td>\n",
       "      <td>3200000.0</td>\n",
       "      <td>3900000.0</td>\n",
       "      <td>4690000.0</td>\n",
       "      <td>16130000.0</td>\n",
       "    </tr>\n",
       "    <tr>\n",
       "      <td>Executive Condo</td>\n",
       "      <td>804.0</td>\n",
       "      <td>1.081893e+06</td>\n",
       "      <td>2.831442e+05</td>\n",
       "      <td>700000.0</td>\n",
       "      <td>899075.0</td>\n",
       "      <td>998000.0</td>\n",
       "      <td>1210000.0</td>\n",
       "      <td>3980000.0</td>\n",
       "    </tr>\n",
       "    <tr>\n",
       "      <td>Good Class Bungalow</td>\n",
       "      <td>127.0</td>\n",
       "      <td>2.911844e+07</td>\n",
       "      <td>1.167995e+07</td>\n",
       "      <td>4188000.0</td>\n",
       "      <td>21500000.0</td>\n",
       "      <td>29600000.0</td>\n",
       "      <td>33900000.0</td>\n",
       "      <td>80000000.0</td>\n",
       "    </tr>\n",
       "    <tr>\n",
       "      <td>HDB</td>\n",
       "      <td>725.0</td>\n",
       "      <td>5.314612e+05</td>\n",
       "      <td>2.446089e+05</td>\n",
       "      <td>218000.0</td>\n",
       "      <td>370000.0</td>\n",
       "      <td>490000.0</td>\n",
       "      <td>620000.0</td>\n",
       "      <td>2200000.0</td>\n",
       "    </tr>\n",
       "    <tr>\n",
       "      <td>HDB 2 Rooms</td>\n",
       "      <td>233.0</td>\n",
       "      <td>3.426155e+05</td>\n",
       "      <td>1.523236e+05</td>\n",
       "      <td>218000.0</td>\n",
       "      <td>268000.0</td>\n",
       "      <td>310000.0</td>\n",
       "      <td>368000.0</td>\n",
       "      <td>2150000.0</td>\n",
       "    </tr>\n",
       "    <tr>\n",
       "      <td>HDB 3 Rooms</td>\n",
       "      <td>1698.0</td>\n",
       "      <td>4.213644e+05</td>\n",
       "      <td>1.652049e+05</td>\n",
       "      <td>218888.0</td>\n",
       "      <td>300000.0</td>\n",
       "      <td>370000.0</td>\n",
       "      <td>493000.0</td>\n",
       "      <td>1950000.0</td>\n",
       "    </tr>\n",
       "    <tr>\n",
       "      <td>HDB 4 Rooms</td>\n",
       "      <td>2585.0</td>\n",
       "      <td>5.181075e+05</td>\n",
       "      <td>1.664953e+05</td>\n",
       "      <td>250000.0</td>\n",
       "      <td>418000.0</td>\n",
       "      <td>475000.0</td>\n",
       "      <td>580000.0</td>\n",
       "      <td>4000000.0</td>\n",
       "    </tr>\n",
       "    <tr>\n",
       "      <td>HDB 5 Rooms</td>\n",
       "      <td>1947.0</td>\n",
       "      <td>6.090200e+05</td>\n",
       "      <td>1.621999e+05</td>\n",
       "      <td>339000.0</td>\n",
       "      <td>488000.0</td>\n",
       "      <td>568000.0</td>\n",
       "      <td>698000.0</td>\n",
       "      <td>1300000.0</td>\n",
       "    </tr>\n",
       "    <tr>\n",
       "      <td>HDB Executive</td>\n",
       "      <td>784.0</td>\n",
       "      <td>6.833676e+05</td>\n",
       "      <td>1.296995e+05</td>\n",
       "      <td>399999.0</td>\n",
       "      <td>588000.0</td>\n",
       "      <td>660000.0</td>\n",
       "      <td>765750.0</td>\n",
       "      <td>1200000.0</td>\n",
       "    </tr>\n",
       "    <tr>\n",
       "      <td>Jumbo HDB</td>\n",
       "      <td>7.0</td>\n",
       "      <td>6.434126e+05</td>\n",
       "      <td>1.050399e+05</td>\n",
       "      <td>510000.0</td>\n",
       "      <td>572500.0</td>\n",
       "      <td>658888.0</td>\n",
       "      <td>705000.0</td>\n",
       "      <td>780000.0</td>\n",
       "    </tr>\n",
       "    <tr>\n",
       "      <td>Land Only</td>\n",
       "      <td>6.0</td>\n",
       "      <td>1.220115e+07</td>\n",
       "      <td>5.694368e+06</td>\n",
       "      <td>1012000.0</td>\n",
       "      <td>13444500.0</td>\n",
       "      <td>13690000.0</td>\n",
       "      <td>13886666.0</td>\n",
       "      <td>17500000.0</td>\n",
       "    </tr>\n",
       "    <tr>\n",
       "      <td>Landed</td>\n",
       "      <td>359.0</td>\n",
       "      <td>3.809341e+06</td>\n",
       "      <td>6.345227e+06</td>\n",
       "      <td>328000.0</td>\n",
       "      <td>999000.0</td>\n",
       "      <td>2180000.0</td>\n",
       "      <td>3785000.0</td>\n",
       "      <td>63000000.0</td>\n",
       "    </tr>\n",
       "    <tr>\n",
       "      <td>Semi-Detached House</td>\n",
       "      <td>1980.0</td>\n",
       "      <td>5.084602e+06</td>\n",
       "      <td>2.181201e+06</td>\n",
       "      <td>638000.0</td>\n",
       "      <td>3977745.0</td>\n",
       "      <td>4800000.0</td>\n",
       "      <td>5880000.0</td>\n",
       "      <td>60130003.0</td>\n",
       "    </tr>\n",
       "    <tr>\n",
       "      <td>Shophouse</td>\n",
       "      <td>18.0</td>\n",
       "      <td>3.249678e+06</td>\n",
       "      <td>2.471928e+06</td>\n",
       "      <td>724200.0</td>\n",
       "      <td>1287500.0</td>\n",
       "      <td>2590000.0</td>\n",
       "      <td>4975000.0</td>\n",
       "      <td>9500000.0</td>\n",
       "    </tr>\n",
       "    <tr>\n",
       "      <td>Terraced House</td>\n",
       "      <td>2007.0</td>\n",
       "      <td>3.277082e+06</td>\n",
       "      <td>1.172426e+06</td>\n",
       "      <td>550000.0</td>\n",
       "      <td>2664444.0</td>\n",
       "      <td>3250000.0</td>\n",
       "      <td>3888444.0</td>\n",
       "      <td>28000000.0</td>\n",
       "    </tr>\n",
       "    <tr>\n",
       "      <td>Townhouse</td>\n",
       "      <td>36.0</td>\n",
       "      <td>2.954278e+06</td>\n",
       "      <td>1.623019e+06</td>\n",
       "      <td>950000.0</td>\n",
       "      <td>1850000.0</td>\n",
       "      <td>2781500.0</td>\n",
       "      <td>3200000.0</td>\n",
       "      <td>8200000.0</td>\n",
       "    </tr>\n",
       "  </tbody>\n",
       "</table>\n",
       "</div>"
      ],
      "text/plain": [
       "                      count          mean           std        min  \\\n",
       "property_type                                                        \n",
       "Apartment            349.0   2.045329e+06  2.158176e+06  480000.0    \n",
       "Bungalow             1456.0  1.103977e+07  6.997294e+06  100000.0    \n",
       "Cluster House        522.0   3.261654e+06  1.386101e+06  1190000.0   \n",
       "Condo                7532.0  1.912430e+06  2.260570e+06  0.0         \n",
       "Conservation House   22.0    5.576273e+06  3.127837e+06  949999.0    \n",
       "Corner Terrace       861.0   4.049343e+06  1.316525e+06  700000.0    \n",
       "Executive Condo      804.0   1.081893e+06  2.831442e+05  700000.0    \n",
       "Good Class Bungalow  127.0   2.911844e+07  1.167995e+07  4188000.0   \n",
       "HDB                  725.0   5.314612e+05  2.446089e+05  218000.0    \n",
       "HDB 2 Rooms          233.0   3.426155e+05  1.523236e+05  218000.0    \n",
       "HDB 3 Rooms          1698.0  4.213644e+05  1.652049e+05  218888.0    \n",
       "HDB 4 Rooms          2585.0  5.181075e+05  1.664953e+05  250000.0    \n",
       "HDB 5 Rooms          1947.0  6.090200e+05  1.621999e+05  339000.0    \n",
       "HDB Executive        784.0   6.833676e+05  1.296995e+05  399999.0    \n",
       "Jumbo HDB            7.0     6.434126e+05  1.050399e+05  510000.0    \n",
       "Land Only            6.0     1.220115e+07  5.694368e+06  1012000.0   \n",
       "Landed               359.0   3.809341e+06  6.345227e+06  328000.0    \n",
       "Semi-Detached House  1980.0  5.084602e+06  2.181201e+06  638000.0    \n",
       "Shophouse            18.0    3.249678e+06  2.471928e+06  724200.0    \n",
       "Terraced House       2007.0  3.277082e+06  1.172426e+06  550000.0    \n",
       "Townhouse            36.0    2.954278e+06  1.623019e+06  950000.0    \n",
       "\n",
       "                            25%         50%         75%         max  \n",
       "property_type                                                        \n",
       "Apartment            1000000.0   1380000.0   2068000.0   24000000.0  \n",
       "Bungalow             6800000.0   9100000.0   13007015.0  88000000.0  \n",
       "Cluster House        2482500.0   3032000.0   3880000.0   17439488.0  \n",
       "Condo                985750.0    1380000.0   1980000.0   52217000.0  \n",
       "Conservation House   2680000.0   5175000.0   8500000.0   9800000.0   \n",
       "Corner Terrace       3200000.0   3900000.0   4690000.0   16130000.0  \n",
       "Executive Condo      899075.0    998000.0    1210000.0   3980000.0   \n",
       "Good Class Bungalow  21500000.0  29600000.0  33900000.0  80000000.0  \n",
       "HDB                  370000.0    490000.0    620000.0    2200000.0   \n",
       "HDB 2 Rooms          268000.0    310000.0    368000.0    2150000.0   \n",
       "HDB 3 Rooms          300000.0    370000.0    493000.0    1950000.0   \n",
       "HDB 4 Rooms          418000.0    475000.0    580000.0    4000000.0   \n",
       "HDB 5 Rooms          488000.0    568000.0    698000.0    1300000.0   \n",
       "HDB Executive        588000.0    660000.0    765750.0    1200000.0   \n",
       "Jumbo HDB            572500.0    658888.0    705000.0    780000.0    \n",
       "Land Only            13444500.0  13690000.0  13886666.0  17500000.0  \n",
       "Landed               999000.0    2180000.0   3785000.0   63000000.0  \n",
       "Semi-Detached House  3977745.0   4800000.0   5880000.0   60130003.0  \n",
       "Shophouse            1287500.0   2590000.0   4975000.0   9500000.0   \n",
       "Terraced House       2664444.0   3250000.0   3888444.0   28000000.0  \n",
       "Townhouse            1850000.0   2781500.0   3200000.0   8200000.0   "
      ]
     },
     "execution_count": 13,
     "metadata": {},
     "output_type": "execute_result"
    }
   ],
   "source": [
    "### EDA based on property type\n",
    "# summary price stats\n",
    "df.groupby('property_type')['price'].describe()"
   ]
  },
  {
   "cell_type": "code",
   "execution_count": 14,
   "metadata": {
    "ExecuteTime": {
     "end_time": "2020-04-11T04:43:09.441771Z",
     "start_time": "2020-04-11T04:43:09.426811Z"
    },
    "scrolled": true
   },
   "outputs": [
    {
     "data": {
      "text/html": [
       "<div>\n",
       "<style scoped>\n",
       "    .dataframe tbody tr th:only-of-type {\n",
       "        vertical-align: middle;\n",
       "    }\n",
       "\n",
       "    .dataframe tbody tr th {\n",
       "        vertical-align: top;\n",
       "    }\n",
       "\n",
       "    .dataframe thead th {\n",
       "        text-align: right;\n",
       "    }\n",
       "</style>\n",
       "<table border=\"1\" class=\"dataframe\">\n",
       "  <thead>\n",
       "    <tr style=\"text-align: right;\">\n",
       "      <th></th>\n",
       "      <th>mean</th>\n",
       "      <th>baseline_rmse</th>\n",
       "    </tr>\n",
       "    <tr>\n",
       "      <th>property_type</th>\n",
       "      <th></th>\n",
       "      <th></th>\n",
       "    </tr>\n",
       "  </thead>\n",
       "  <tbody>\n",
       "    <tr>\n",
       "      <td>Apartment</td>\n",
       "      <td>2.045329e+06</td>\n",
       "      <td>2.155081e+06</td>\n",
       "    </tr>\n",
       "    <tr>\n",
       "      <td>Bungalow</td>\n",
       "      <td>1.103977e+07</td>\n",
       "      <td>6.994890e+06</td>\n",
       "    </tr>\n",
       "    <tr>\n",
       "      <td>Cluster House</td>\n",
       "      <td>3.261654e+06</td>\n",
       "      <td>1.384772e+06</td>\n",
       "    </tr>\n",
       "    <tr>\n",
       "      <td>Condo</td>\n",
       "      <td>1.912430e+06</td>\n",
       "      <td>2.260420e+06</td>\n",
       "    </tr>\n",
       "    <tr>\n",
       "      <td>Conservation House</td>\n",
       "      <td>5.576273e+06</td>\n",
       "      <td>3.055923e+06</td>\n",
       "    </tr>\n",
       "    <tr>\n",
       "      <td>Corner Terrace</td>\n",
       "      <td>4.049343e+06</td>\n",
       "      <td>1.315760e+06</td>\n",
       "    </tr>\n",
       "    <tr>\n",
       "      <td>Executive Condo</td>\n",
       "      <td>1.081893e+06</td>\n",
       "      <td>2.829680e+05</td>\n",
       "    </tr>\n",
       "    <tr>\n",
       "      <td>Good Class Bungalow</td>\n",
       "      <td>2.911844e+07</td>\n",
       "      <td>1.163388e+07</td>\n",
       "    </tr>\n",
       "    <tr>\n",
       "      <td>HDB</td>\n",
       "      <td>5.314612e+05</td>\n",
       "      <td>2.444401e+05</td>\n",
       "    </tr>\n",
       "    <tr>\n",
       "      <td>HDB 2 Rooms</td>\n",
       "      <td>3.426155e+05</td>\n",
       "      <td>1.519964e+05</td>\n",
       "    </tr>\n",
       "    <tr>\n",
       "      <td>HDB 3 Rooms</td>\n",
       "      <td>4.213644e+05</td>\n",
       "      <td>1.651562e+05</td>\n",
       "    </tr>\n",
       "    <tr>\n",
       "      <td>HDB 4 Rooms</td>\n",
       "      <td>5.181075e+05</td>\n",
       "      <td>1.664631e+05</td>\n",
       "    </tr>\n",
       "    <tr>\n",
       "      <td>HDB 5 Rooms</td>\n",
       "      <td>6.090200e+05</td>\n",
       "      <td>1.621583e+05</td>\n",
       "    </tr>\n",
       "    <tr>\n",
       "      <td>HDB Executive</td>\n",
       "      <td>6.833676e+05</td>\n",
       "      <td>1.296167e+05</td>\n",
       "    </tr>\n",
       "    <tr>\n",
       "      <td>Jumbo HDB</td>\n",
       "      <td>6.434126e+05</td>\n",
       "      <td>9.724802e+04</td>\n",
       "    </tr>\n",
       "    <tr>\n",
       "      <td>Land Only</td>\n",
       "      <td>1.220115e+07</td>\n",
       "      <td>5.198223e+06</td>\n",
       "    </tr>\n",
       "    <tr>\n",
       "      <td>Landed</td>\n",
       "      <td>3.809341e+06</td>\n",
       "      <td>6.336384e+06</td>\n",
       "    </tr>\n",
       "    <tr>\n",
       "      <td>Semi-Detached House</td>\n",
       "      <td>5.084602e+06</td>\n",
       "      <td>2.180650e+06</td>\n",
       "    </tr>\n",
       "    <tr>\n",
       "      <td>Shophouse</td>\n",
       "      <td>3.249678e+06</td>\n",
       "      <td>2.402282e+06</td>\n",
       "    </tr>\n",
       "    <tr>\n",
       "      <td>Terraced House</td>\n",
       "      <td>3.277082e+06</td>\n",
       "      <td>1.172134e+06</td>\n",
       "    </tr>\n",
       "    <tr>\n",
       "      <td>Townhouse</td>\n",
       "      <td>2.954278e+06</td>\n",
       "      <td>1.600319e+06</td>\n",
       "    </tr>\n",
       "  </tbody>\n",
       "</table>\n",
       "</div>"
      ],
      "text/plain": [
       "                             mean  baseline_rmse\n",
       "property_type                                   \n",
       "Apartment            2.045329e+06  2.155081e+06 \n",
       "Bungalow             1.103977e+07  6.994890e+06 \n",
       "Cluster House        3.261654e+06  1.384772e+06 \n",
       "Condo                1.912430e+06  2.260420e+06 \n",
       "Conservation House   5.576273e+06  3.055923e+06 \n",
       "Corner Terrace       4.049343e+06  1.315760e+06 \n",
       "Executive Condo      1.081893e+06  2.829680e+05 \n",
       "Good Class Bungalow  2.911844e+07  1.163388e+07 \n",
       "HDB                  5.314612e+05  2.444401e+05 \n",
       "HDB 2 Rooms          3.426155e+05  1.519964e+05 \n",
       "HDB 3 Rooms          4.213644e+05  1.651562e+05 \n",
       "HDB 4 Rooms          5.181075e+05  1.664631e+05 \n",
       "HDB 5 Rooms          6.090200e+05  1.621583e+05 \n",
       "HDB Executive        6.833676e+05  1.296167e+05 \n",
       "Jumbo HDB            6.434126e+05  9.724802e+04 \n",
       "Land Only            1.220115e+07  5.198223e+06 \n",
       "Landed               3.809341e+06  6.336384e+06 \n",
       "Semi-Detached House  5.084602e+06  2.180650e+06 \n",
       "Shophouse            3.249678e+06  2.402282e+06 \n",
       "Terraced House       3.277082e+06  1.172134e+06 \n",
       "Townhouse            2.954278e+06  1.600319e+06 "
      ]
     },
     "execution_count": 14,
     "metadata": {},
     "output_type": "execute_result"
    }
   ],
   "source": [
    "### baseline prediction of regression model\n",
    "# using mean price by property type\n",
    "# the baseline RMSE is calculated from the property price compared to the mean price of its property type - calculation is equivalent to std dev with ddof=0\n",
    "def baseline_rmse(x):\n",
    "    return x.std(ddof=0)\n",
    "df.groupby('property_type')['price'].agg(['mean',baseline_rmse])"
   ]
  },
  {
   "cell_type": "code",
   "execution_count": 15,
   "metadata": {
    "ExecuteTime": {
     "end_time": "2020-04-11T04:43:12.830214Z",
     "start_time": "2020-04-11T04:43:12.546938Z"
    }
   },
   "outputs": [
    {
     "data": {
      "text/plain": [
       "<matplotlib.axes._subplots.AxesSubplot at 0x24ca36bd148>"
      ]
     },
     "execution_count": 15,
     "metadata": {},
     "output_type": "execute_result"
    },
    {
     "data": {
      "image/png": "[encoded data removed]",
      "text/plain": [
       "<Figure size 432x288 with 1 Axes>"
      ]
     },
     "metadata": {
      "needs_background": "light"
     },
     "output_type": "display_data"
    }
   ],
   "source": [
    "sns.scatterplot(data=df,x='area',y='price')"
   ]
  },
  {
   "cell_type": "code",
   "execution_count": 16,
   "metadata": {
    "ExecuteTime": {
     "end_time": "2020-04-11T04:43:13.728841Z",
     "start_time": "2020-04-11T04:43:13.707902Z"
    }
   },
   "outputs": [
    {
     "data": {
      "text/html": [
       "<div>\n",
       "<style scoped>\n",
       "    .dataframe tbody tr th:only-of-type {\n",
       "        vertical-align: middle;\n",
       "    }\n",
       "\n",
       "    .dataframe tbody tr th {\n",
       "        vertical-align: top;\n",
       "    }\n",
       "\n",
       "    .dataframe thead th {\n",
       "        text-align: right;\n",
       "    }\n",
       "</style>\n",
       "<table border=\"1\" class=\"dataframe\">\n",
       "  <thead>\n",
       "    <tr style=\"text-align: right;\">\n",
       "      <th></th>\n",
       "      <th>address</th>\n",
       "      <th>amenities</th>\n",
       "      <th>area</th>\n",
       "      <th>bathrooms</th>\n",
       "      <th>bedrooms</th>\n",
       "      <th>description</th>\n",
       "      <th>details</th>\n",
       "      <th>lease</th>\n",
       "      <th>link</th>\n",
       "      <th>name</th>\n",
       "      <th>price</th>\n",
       "      <th>property_type</th>\n",
       "      <th>psf_price</th>\n",
       "    </tr>\n",
       "  </thead>\n",
       "  <tbody>\n",
       "    <tr>\n",
       "      <td>15</td>\n",
       "      <td>Jalan Jintan - D9</td>\n",
       "      <td>Maid Room,Greenery View</td>\n",
       "      <td>17760</td>\n",
       "      <td>3.0</td>\n",
       "      <td>4.0</td>\n",
       "      <td>2 storey inter terrace at Mount Elizabeth vicinity \\nOrchard Road at door step.\\nOriginal condition.\\nDo up to your own taste.\\nRarely available.\\nNear many good schools too.\\nCall KL Goh 98417666 to view now.</td>\n",
       "      <td>Condition,Land Only / For Rebuilding,Landed House Area Zoning,3 Storey Mixed Landed,District,D09</td>\n",
       "      <td>- Freehold</td>\n",
       "      <td>https://www.99.co/singapore/sale/property/jalan-jintan-landed-Cr9epLerZbokYZRxNLsfk3</td>\n",
       "      <td>Kimsia Park</td>\n",
       "      <td>5280000.0</td>\n",
       "      <td>Terraced House</td>\n",
       "      <td>297</td>\n",
       "    </tr>\n",
       "    <tr>\n",
       "      <td>17</td>\n",
       "      <td>Holland Grove View - D10</td>\n",
       "      <td>Stove,Renovated,Aircon,Balcony</td>\n",
       "      <td>35520</td>\n",
       "      <td>5.0</td>\n",
       "      <td>4.0</td>\n",
       "      <td>Central New List: \\n\\nD10 - Holland vicinity \\n2.5 Storey Semi Detached \\n999 Years\\nLand : approx 3300sf\\nBuild : approx 5500sf\\n4 bedrooms \\nSwinning Pool/ roof terrace/ cozy Bar area/ In house entertainment &amp;amp; security system.\\nNo afternoon sun\\nAsking view to offer\\nCall KL Goh 98417666 now.</td>\n",
       "      <td>Facing,South,Landed House Area Zoning,2 Storey Semi D,District,D10</td>\n",
       "      <td>1997 - 99 years</td>\n",
       "      <td>https://www.99.co/singapore/sale/property/holland-grove-view-landed-pkEhFnyqJsGrNWjKMrQbnX</td>\n",
       "      <td>Holland Grove</td>\n",
       "      <td>6600000.0</td>\n",
       "      <td>Semi-Detached House</td>\n",
       "      <td>186</td>\n",
       "    </tr>\n",
       "    <tr>\n",
       "      <td>51</td>\n",
       "      <td>Garlick Avenue - D10</td>\n",
       "      <td>Maid Room,Greenery View,Patio / PES,Ground Floor,Balcony</td>\n",
       "      <td>16170</td>\n",
       "      <td>9.0</td>\n",
       "      <td>6.0</td>\n",
       "      <td>Rare good class bungalow on elevated land\\nMajestic 2 storey with 5 bedrooms   super huge master bedroom   entertainment room, study room. Grand entrance. \\nAlfresco dining area\\nSwimming pool\\nMature garden</td>\n",
       "      <td>Furnishing,Partially Furnished,Facing,South,Availability,Now,Landed House Area Zoning,Others,District,D10</td>\n",
       "      <td>-</td>\n",
       "      <td>https://www.99.co/singapore/sale/property/garlick-avenue-landed-izhZX4EJxuaumAVJ8CL3PS</td>\n",
       "      <td>Garlick Avenue</td>\n",
       "      <td>28000000.0</td>\n",
       "      <td>Good Class Bungalow</td>\n",
       "      <td>1732</td>\n",
       "    </tr>\n",
       "    <tr>\n",
       "      <td>56</td>\n",
       "      <td>Oakwood Grove - D25</td>\n",
       "      <td>Maid Room,Utility Room,Study Room,High Ceiling,Greenery View,Fibre Ready,Balcony</td>\n",
       "      <td>12312</td>\n",
       "      <td>8.0</td>\n",
       "      <td>9.0</td>\n",
       "      <td>D25 Landed\\n\\nLand size 12,312 Sqft\\nCurrent Built up 6,640 Sqft\\nPermitted Built up 8,600 Sqft\\n\\nAsking $6,200,000 (land $504 psf)\\n\\nSuitable for multi gen multi families\\n9 Rooms 8 Baths\\n\\nMins to Marsiling Central\\nAmenities nearby\\nMins to BKE &amp; SLE\\n\\nGround floor\\n2 Living room\\n1 huge dining area\\n1 granny/guest room en-suite\\n2 kitchen\\n2 bathrooms\\nMaids and stores\\n\\n2nd floor\\n3 bedrooms en-suite\\n2 bedrooms/study \\n\\n3rd floor\\n1 living area\\n2 bedroom en-suite\\n1 study\\n\\nPark more than 9 cars\\nBig garden potential for swimming pool\\n\\n99 Leasehold from 1995 (Bal 75)</td>\n",
       "      <td>Facing,East,Availability,Now,Landed House Area Zoning,3 Storey Mixed Landed,Last Renovated Date,01 Jan 2000,Re-wiring/Structural Renovation,Yes,District,D25</td>\n",
       "      <td>-</td>\n",
       "      <td>https://www.99.co/singapore/sale/property/oakwood-grove-landed-rEynn7xfaokwSLvsmDAeT6</td>\n",
       "      <td>Oakwood Grove</td>\n",
       "      <td>6200000.0</td>\n",
       "      <td>Bungalow</td>\n",
       "      <td>504</td>\n",
       "    </tr>\n",
       "    <tr>\n",
       "      <td>84</td>\n",
       "      <td>Oakwood Grove - D25</td>\n",
       "      <td>Maid Room,Greenery View,Patio / PES,Renovated,Balcony</td>\n",
       "      <td>12321</td>\n",
       "      <td>8.0</td>\n",
       "      <td>9.0</td>\n",
       "      <td>D25 Landed\\n\\nLand size 12,312 Sqft\\nCurrent Built up 6,640 Sqft\\nPermitted Built up 8,600 Sqft\\n\\nAsking was $6,200,000 (land $504 psf)\\nPrice Reduced!!\\nOnly $5,xxx,000.\\nMust sell!\\n\\nSuitable for multi gen multi families\\n9 Rooms 8 Baths\\n\\nMins to Marsiling Central\\nAmenities nearby\\nMins to BKE &amp; SLE\\n\\nGround floor\\n2 Living room\\n1 huge dining area\\n1 granny/guest room en-suite\\n2 kitchen\\n2 bathrooms\\nMaids and stores\\n\\n2nd floor\\n3 bedrooms en-suite\\n2 bedrooms/study \\n\\n3rd floor\\n1 living area\\n2 bedroom en-suite\\n1 study\\n\\nPark more than 9 cars\\nBig garden potential for swimming pool\\n\\n1KM to Fuchun Pri\\n1KM to Si Ling Pri\\n\\n99 Leasehold from 1995 (Bal 75)\\n\\nContact Ruth @ 9799-7734 for viewing!</td>\n",
       "      <td>Facing,East,Availability,Now,Landed House Area Zoning,Others,District,D25</td>\n",
       "      <td>-</td>\n",
       "      <td>https://www.99.co/singapore/sale/property/oakwood-grove-landed-nHeGwFpnCrzZZgwTJdKerJ</td>\n",
       "      <td>Oakwood Grove</td>\n",
       "      <td>5500008.0</td>\n",
       "      <td>Bungalow</td>\n",
       "      <td>446</td>\n",
       "    </tr>\n",
       "    <tr>\n",
       "      <td>...</td>\n",
       "      <td>...</td>\n",
       "      <td>...</td>\n",
       "      <td>...</td>\n",
       "      <td>...</td>\n",
       "      <td>...</td>\n",
       "      <td>...</td>\n",
       "      <td>...</td>\n",
       "      <td>...</td>\n",
       "      <td>...</td>\n",
       "      <td>...</td>\n",
       "      <td>...</td>\n",
       "      <td>...</td>\n",
       "      <td>...</td>\n",
       "    </tr>\n",
       "    <tr>\n",
       "      <td>24033</td>\n",
       "      <td>Singapore 824176 - D19</td>\n",
       "      <td>Greenery View,Balcony,Bomb Shelter,Renovated</td>\n",
       "      <td>12744</td>\n",
       "      <td>2.0</td>\n",
       "      <td>3.0</td>\n",
       "      <td>Hi There! Are you looking for a Spacious, Bright and yet being price conscious? Look no more! This is the HDB 5 Room Flat that you are looking for!\\n\\nBenefit of buying this Property\\n\\n1.       Spacious with a estimate size of 110 sqm (1184 sqft)\\n2.       A balcony that you can chill out with red wine after a long day of work.\\n3.       3 physical spacious rooms.\\n4.       Long kitchen.\\n5.       No west sun.\\n6.       Minutes to  Meridian LRT station.\\n7. \\t   Flat video @ https://youtu.be/67gePsVBEhM\\n7.       The Benefit of buying this flat @ https://youtu.be/FDtFK-XEH3U\\nExclusive listing.\\n\\n Amenities from this flat (Distance are estimated)\\n\\nA.      Trains (MRT / LRT)\\n1.       Meridian (PE2) 0.13 km\\n2.       Cove (PE1) 0.41 km\\n3.       Coral Edge (PE3) 0.58 km\\n4.       Oasis (PE 6) 0.60 km\\n5.       Kadaloor (PE5) 0.79 km\\n6.       Damai (PE7) 0.80 km\\n7.       Riviera (PE4) 0.84 km\\n8.       Rumbia (SE2) 0.86 km\\n9.       Compassvale (SE1) 1.06 km\\n \\nB.      Bus Stops\\n1.       Blk 173B (Bus: 83, 62, 62A, 3, 6N) 0.12 km\\n2.       Blk 108 (Bus: 3, 62, 83) 0.17 km\\n3.       Blk 178 (Bus: 136) 0.23 km\\n4.       Bet Blks 187/188 (Bus: 85, 6N, 3, 83) 0.23 km Blk 196C (Bus: 136) 0.24 km\\n \\nC.      Groceries &amp; Supermarts\\n1.       NTUC Fairprice (Punggol Plaza) 0.57 km\\n2.        Sheng Siong Hypermarket(Punggol Central) 0.74 km\\n3.        NTUC Fairprice (Punggol Drive Block 612) 0.75 km\\n4.        NTUC Fairprice (Rivervale Mall) 0.84 km\\n\\n\\nD.      Schools (Primary, Secondary)\\n1.       Edgefield Primary School 0.30 km\\n2.       Greendale Primary School 0.36 km\\n3.       Mee Toh School 0.38 km\\n4.       Punggol Secondary School 0.47 km\\n5.       Horizon Primary School 0.48 km\\n6.       Rivervale Primary School 0.74 km\\n7.       Oasis Primary School 0.77 km\\n\\nA Picture is worth a thousand words, how about many pictures and 2 videos, check them out!\\n\\nSeeing is believing, 走过路过, 千万不要错过\\n \\nCall , for an exclusive viewing!!</td>\n",
       "      <td>Furnishing,Partially Furnished,Facing,North,Availability,Now,District,D19</td>\n",
       "      <td>2003 -</td>\n",
       "      <td>https://www.99.co/singapore/sale/property/176d-edgefield-plains-hdb-Lq9TPSWViweDD9i5StouL9</td>\n",
       "      <td>176D Edgefield Plains</td>\n",
       "      <td>400000.0</td>\n",
       "      <td>HDB 5 Rooms</td>\n",
       "      <td>31</td>\n",
       "    </tr>\n",
       "    <tr>\n",
       "      <td>24040</td>\n",
       "      <td>Singapore 791469 - D28</td>\n",
       "      <td>NaN</td>\n",
       "      <td>10774</td>\n",
       "      <td>2.0</td>\n",
       "      <td>3.0</td>\n",
       "      <td>**New Exclusive listing v high floor unit**\\r\\nMOP in March 2020 \\r\\n\\r\\n- Rare and Tastefully renovated 4I units \\r\\n- Above #20 level\\r\\n- Quiet environment \\r\\n- No odd shape\\r\\n- lift level\\r\\n- spacious and Squarish living and dinning area \\r\\n- modern fully furnished kitchen with attached service yard \\r\\n- within 5min walk to Fernvale green primary school!! \\r\\n- It is 100% MOVE IN CONDITION!! \\r\\n\\r\\nDon’t miss this chance before it’s gone \\n\\r\\nView to appreciate \\r\\nMartin Ng \\r\\n83388842</td>\n",
       "      <td>District,D28</td>\n",
       "      <td>- 99 years</td>\n",
       "      <td>https://www.99.co/singapore/sale/property/469a-sengkang-west-way-hdb-ayHfK8AfbdqNBiVbqBmhhn</td>\n",
       "      <td>469A Sengkang West Way</td>\n",
       "      <td>498000.0</td>\n",
       "      <td>HDB 3 Rooms</td>\n",
       "      <td>46</td>\n",
       "    </tr>\n",
       "    <tr>\n",
       "      <td>24083</td>\n",
       "      <td>Singapore 824601 - D19</td>\n",
       "      <td>Maid Room,Low Floor,Greenery View,Renovated,Bomb Shelter</td>\n",
       "      <td>10537</td>\n",
       "      <td>2.0</td>\n",
       "      <td>3.0</td>\n",
       "      <td>Hey there! Searching for HDB 4 Room flat that is within close proximity to Punggol MRT station, and yet have the convenience of buying things from 24 hrs Sheng Siong Supermart and minutes to My ,  where you can enjoy the lush greenery and abundance fresh air? Well, this could be the flat that you are looking from?\\nProperty Description\\n1. An Immediate HDB 4 Room Flat for Immediate Sale.\\n2. 3 Physical Rooms.\\n3. Low Floor.\\n4. Compact kitchen with yard.\\n5. An encouraging environment that is well suited for individuals and also for young couple starting a family.\\n6. Flat video @ https://youtu.be/pGPQbS0RZjI\\n\\nAmenities near this flat (all distances are approximated)\\nTrains (MRT / LRT)\\nA. Damai (PE7) 0.25 km\\nB. Cove (PE1) 0.46 km\\nC. Oasis (PE 6) 0.54 km\\nD. Punggol (NE17 PTC) 0.65 km\\n\\n \\nBus Stops\\nA. Punggol Sec Sch (Bus: 386, 83, 85, 3, 136) 0.11 km\\nB. Edgefield Pr Sch (Bus: 3, 83, 85, 136, 386, 6N) 0.14 km\\nC. Blk 301A (Bus: 84) 0.18 km\\nD. Blk 604A (Bus: 84) 0.19 km\\nE. Punggol Sec Sch (Bus: 386) 0.24 km\\nF. Blk 612A (Bus: 50) 0.24 km\\n \\n \\nGroceries &amp; Supermarts\\nA. NTUC Fairprice (Punggol Drive Block 612) 0.20 km\\nB. Sheng Siong Hypermarket(Punggol Central) 0.21 km\\nSeeing is believing, please call , for an exclusive viewing.</td>\n",
       "      <td>Furnishing,Partially Furnished,Facing,North,Availability,Now,District,D19</td>\n",
       "      <td>2012 - 99 years</td>\n",
       "      <td>https://www.99.co/singapore/sale/property/601d-punggol-central-hdb-PyWhf7P3LNSYXfV47Je2zg</td>\n",
       "      <td>601D Punggol Central</td>\n",
       "      <td>430000.0</td>\n",
       "      <td>HDB 4 Rooms</td>\n",
       "      <td>41</td>\n",
       "    </tr>\n",
       "    <tr>\n",
       "      <td>24086</td>\n",
       "      <td>Singapore 560501 - D20</td>\n",
       "      <td>Greenery View,Balcony</td>\n",
       "      <td>150845</td>\n",
       "      <td>3.0</td>\n",
       "      <td>3.0</td>\n",
       "      <td>Mins Walk To Amk Hub &amp; MRT, North South Facing! Motivated Seller!!! \\n\\n--- Mid Floor Corner Spacious 5 Room Flat Near MRT For Sale----\\n\\n✰ Asking Below Market Value!!!\\n✰ 10 Mins Walk To Ang Mo Kio MRT Station (NS Line).\\n✰ 121sqm / 1302sqft!\\n✰ Serene Enviroment yet Convenient Location!\\n✰ One direct bus to Nanyang Poly within 10 mins! \\n✰ Mid Floor Corner Unit!\\n✰ North South Facing With Greenery View\\n✰ No Afternoon Sun\\n✰ Toilet and lift upgraded \\n✰ No Extension Needed, Buyer Can Contra!!!\\n\\nSchools within 1 km:\\n- Jing Shan Pri Sch\\n- Mayflower Pri Sch\\n\\nSchools within 1 - 2km:\\n- Anderson Pri Sch\\n- Ang Mo Kio Pri Sch\\n- CHIJ St. Nicholas Girls' Sch\\n- Teck Ghee Pri Sch\\n- Townsville Pri Sch \\n\\n☎ 9798 7489  For Exclusive Viewing Appt\\n\\nLaven Loo 吕欣颐\\nPropNex Realty\\n 65 9798 7489\\nWa.me/6597987489</td>\n",
       "      <td>Furnishing,Partially Furnished,Facing,North,Availability,Now,District,D20</td>\n",
       "      <td>1981 - 99 years</td>\n",
       "      <td>https://www.99.co/singapore/sale/property/501-ang-mo-kio-avenue-5-hdb-qo4ipNkUKBjP4smwB2s2UD</td>\n",
       "      <td>501 Ang Mo Kio Avenue 5</td>\n",
       "      <td>510000.0</td>\n",
       "      <td>HDB 5 Rooms</td>\n",
       "      <td>3</td>\n",
       "    </tr>\n",
       "    <tr>\n",
       "      <td>24091</td>\n",
       "      <td>Singapore 511525 - D18</td>\n",
       "      <td>NaN</td>\n",
       "      <td>10774</td>\n",
       "      <td>2.0</td>\n",
       "      <td>3.0</td>\n",
       "      <td>5 yr old newest cluster hdb in Pasir Ris for Sale ! \\n- renovated condition , fully air-con\\n- condition is like brand new as owner only stay 5 months only\\n- 5min walk to Pasir Ris Mrt, hawker center, White Sands shopping mall \\n- 24hrs supermarket, food court downstairs\\n- McDonald’s,  sports recreation centre a short walk away\\n- surrounded by garden greenery. Nearby is beautiful pond at town park area for prawning/fishing/alfresco F&amp;B \\n- jog to popular Pasir Ris Park and beach area\\nBe the first to view this unit and appreciate its value! \\n\\nPlease contact Christopher 92275777 for viewing appointment now.</td>\n",
       "      <td>Availability,Now,District,D18</td>\n",
       "      <td>2015 - 99 years</td>\n",
       "      <td>https://www.99.co/singapore/sale/property/525a-pasir-ris-street-51-hdb-pDBuV988eNr7AKxH3jZZMK</td>\n",
       "      <td>525A Pasir Ris Street 51</td>\n",
       "      <td>533001.0</td>\n",
       "      <td>HDB 4 Rooms</td>\n",
       "      <td>49</td>\n",
       "    </tr>\n",
       "  </tbody>\n",
       "</table>\n",
       "<p>380 rows × 13 columns</p>\n",
       "</div>"
      ],
      "text/plain": [
       "                        address  \\\n",
       "15     Jalan Jintan - D9          \n",
       "17     Holland Grove View - D10   \n",
       "51     Garlick Avenue - D10       \n",
       "56     Oakwood Grove - D25        \n",
       "84     Oakwood Grove - D25        \n",
       "...                    ...        \n",
       "24033  Singapore 824176 - D19     \n",
       "24040  Singapore 791469 - D28     \n",
       "24083  Singapore 824601 - D19     \n",
       "24086  Singapore 560501 - D20     \n",
       "24091  Singapore 511525 - D18     \n",
       "\n",
       "                                                                              amenities  \\\n",
       "15     Maid Room,Greenery View                                                            \n",
       "17     Stove,Renovated,Aircon,Balcony                                                     \n",
       "51     Maid Room,Greenery View,Patio / PES,Ground Floor,Balcony                           \n",
       "56     Maid Room,Utility Room,Study Room,High Ceiling,Greenery View,Fibre Ready,Balcony   \n",
       "84     Maid Room,Greenery View,Patio / PES,Renovated,Balcony                              \n",
       "...                                                      ...                              \n",
       "24033  Greenery View,Balcony,Bomb Shelter,Renovated                                       \n",
       "24040  NaN                                                                                \n",
       "24083  Maid Room,Low Floor,Greenery View,Renovated,Bomb Shelter                           \n",
       "24086  Greenery View,Balcony                                                              \n",
       "24091  NaN                                                                                \n",
       "\n",
       "         area  bathrooms  bedrooms  \\\n",
       "15     17760   3.0        4.0        \n",
       "17     35520   5.0        4.0        \n",
       "51     16170   9.0        6.0        \n",
       "56     12312   8.0        9.0        \n",
       "84     12321   8.0        9.0        \n",
       "...      ...   ...        ...        \n",
       "24033  12744   2.0        3.0        \n",
       "24040  10774   2.0        3.0        \n",
       "24083  10537   2.0        3.0        \n",
       "24086  150845  3.0        3.0        \n",
       "24091  10774   2.0        3.0        \n",
       "\n",
       "                                                                                                                                                                                                                                                                                                                                                                                                                                                                                                                                                                                                                                                                                                                                                                                                                                                                                                                                                                                                                                                                                                                                                                                                                                                                                                                                                                                                                                                                                                                                                                                                                                                                                                                                                                                                                                                                                                                                                                                                                                          description  \\\n",
       "15     2 storey inter terrace at Mount Elizabeth vicinity \\nOrchard Road at door step.\\nOriginal condition.\\nDo up to your own taste.\\nRarely available.\\nNear many good schools too.\\nCall KL Goh 98417666 to view now.                                                                                                                                                                                                                                                                                                                                                                                                                                                                                                                                                                                                                                                                                                                                                                                                                                                                                                                                                                                                                                                                                                                                                                                                                                                                                                                                                                                                                                                                                                                                                                                                                                                                                                                                                                                                                                \n",
       "17     Central New List: \\n\\nD10 - Holland vicinity \\n2.5 Storey Semi Detached \\n999 Years\\nLand : approx 3300sf\\nBuild : approx 5500sf\\n4 bedrooms \\nSwinning Pool/ roof terrace/ cozy Bar area/ In house entertainment &amp; security system.\\nNo afternoon sun\\nAsking view to offer\\nCall KL Goh 98417666 now.                                                                                                                                                                                                                                                                                                                                                                                                                                                                                                                                                                                                                                                                                                                                                                                                                                                                                                                                                                                                                                                                                                                                                                                                                                                                                                                                                                                                                                                                                                                                                                                                                                                                                                                                      \n",
       "51     Rare good class bungalow on elevated land\\nMajestic 2 storey with 5 bedrooms   super huge master bedroom   entertainment room, study room. Grand entrance. \\nAlfresco dining area\\nSwimming pool\\nMature garden                                                                                                                                                                                                                                                                                                                                                                                                                                                                                                                                                                                                                                                                                                                                                                                                                                                                                                                                                                                                                                                                                                                                                                                                                                                                                                                                                                                                                                                                                                                                                                                                                                                                                                                                                                                                                                  \n",
       "56     D25 Landed\\n\\nLand size 12,312 Sqft\\nCurrent Built up 6,640 Sqft\\nPermitted Built up 8,600 Sqft\\n\\nAsking $6,200,000 (land $504 psf)\\n\\nSuitable for multi gen multi families\\n9 Rooms 8 Baths\\n\\nMins to Marsiling Central\\nAmenities nearby\\nMins to BKE & SLE\\n\\nGround floor\\n2 Living room\\n1 huge dining area\\n1 granny/guest room en-suite\\n2 kitchen\\n2 bathrooms\\nMaids and stores\\n\\n2nd floor\\n3 bedrooms en-suite\\n2 bedrooms/study \\n\\n3rd floor\\n1 living area\\n2 bedroom en-suite\\n1 study\\n\\nPark more than 9 cars\\nBig garden potential for swimming pool\\n\\n99 Leasehold from 1995 (Bal 75)                                                                                                                                                                                                                                                                                                                                                                                                                                                                                                                                                                                                                                                                                                                                                                                                                                                                                                                                                                                                                                                                                                                                                                                                                                                                                                                                                                                                                                    \n",
       "84     D25 Landed\\n\\nLand size 12,312 Sqft\\nCurrent Built up 6,640 Sqft\\nPermitted Built up 8,600 Sqft\\n\\nAsking was $6,200,000 (land $504 psf)\\nPrice Reduced!!\\nOnly $5,xxx,000.\\nMust sell!\\n\\nSuitable for multi gen multi families\\n9 Rooms 8 Baths\\n\\nMins to Marsiling Central\\nAmenities nearby\\nMins to BKE & SLE\\n\\nGround floor\\n2 Living room\\n1 huge dining area\\n1 granny/guest room en-suite\\n2 kitchen\\n2 bathrooms\\nMaids and stores\\n\\n2nd floor\\n3 bedrooms en-suite\\n2 bedrooms/study \\n\\n3rd floor\\n1 living area\\n2 bedroom en-suite\\n1 study\\n\\nPark more than 9 cars\\nBig garden potential for swimming pool\\n\\n1KM to Fuchun Pri\\n1KM to Si Ling Pri\\n\\n99 Leasehold from 1995 (Bal 75)\\n\\nContact Ruth @ 9799-7734 for viewing!                                                                                                                                                                                                                                                                                                                                                                                                                                                                                                                                                                                                                                                                                                                                                                                                                                                                                                                                                                                                                                                                                                                                                                                                                                                                                               \n",
       "...                                                                                                                                                                                                                                                                                                                                                                                                                                                                                                                                                                                                                                                                                                                                                   ...                                                                                                                                                                                                                                                                                                                                                                                                                                                                                                                                                                                                                                                                                                                                                                                                                                                                                                                                                                                                                                                                                                                                                                                                                                                                                               \n",
       "24033  Hi There! Are you looking for a Spacious, Bright and yet being price conscious? Look no more! This is the HDB 5 Room Flat that you are looking for!\\n\\nBenefit of buying this Property\\n\\n1.       Spacious with a estimate size of 110 sqm (1184 sqft)\\n2.       A balcony that you can chill out with red wine after a long day of work.\\n3.       3 physical spacious rooms.\\n4.       Long kitchen.\\n5.       No west sun.\\n6.       Minutes to  Meridian LRT station.\\n7. \\t   Flat video @ https://youtu.be/67gePsVBEhM\\n7.       The Benefit of buying this flat @ https://youtu.be/FDtFK-XEH3U\\nExclusive listing.\\n\\n Amenities from this flat (Distance are estimated)\\n\\nA.      Trains (MRT / LRT)\\n1.       Meridian (PE2) 0.13 km\\n2.       Cove (PE1) 0.41 km\\n3.       Coral Edge (PE3) 0.58 km\\n4.       Oasis (PE 6) 0.60 km\\n5.       Kadaloor (PE5) 0.79 km\\n6.       Damai (PE7) 0.80 km\\n7.       Riviera (PE4) 0.84 km\\n8.       Rumbia (SE2) 0.86 km\\n9.       Compassvale (SE1) 1.06 km\\n \\nB.      Bus Stops\\n1.       Blk 173B (Bus: 83, 62, 62A, 3, 6N) 0.12 km\\n2.       Blk 108 (Bus: 3, 62, 83) 0.17 km\\n3.       Blk 178 (Bus: 136) 0.23 km\\n4.       Bet Blks 187/188 (Bus: 85, 6N, 3, 83) 0.23 km Blk 196C (Bus: 136) 0.24 km\\n \\nC.      Groceries & Supermarts\\n1.       NTUC Fairprice (Punggol Plaza) 0.57 km\\n2.        Sheng Siong Hypermarket(Punggol Central) 0.74 km\\n3.        NTUC Fairprice (Punggol Drive Block 612) 0.75 km\\n4.        NTUC Fairprice (Rivervale Mall) 0.84 km\\n\\n\\nD.      Schools (Primary, Secondary)\\n1.       Edgefield Primary School 0.30 km\\n2.       Greendale Primary School 0.36 km\\n3.       Mee Toh School 0.38 km\\n4.       Punggol Secondary School 0.47 km\\n5.       Horizon Primary School 0.48 km\\n6.       Rivervale Primary School 0.74 km\\n7.       Oasis Primary School 0.77 km\\n\\nA Picture is worth a thousand words, how about many pictures and 2 videos, check them out!\\n\\nSeeing is believing, 走过路过, 千万不要错过\\n \\nCall , for an exclusive viewing!!   \n",
       "24040  **New Exclusive listing v high floor unit**\\r\\nMOP in March 2020 \\r\\n\\r\\n- Rare and Tastefully renovated 4I units \\r\\n- Above #20 level\\r\\n- Quiet environment \\r\\n- No odd shape\\r\\n- lift level\\r\\n- spacious and Squarish living and dinning area \\r\\n- modern fully furnished kitchen with attached service yard \\r\\n- within 5min walk to Fernvale green primary school!! \\r\\n- It is 100% MOVE IN CONDITION!! \\r\\n\\r\\nDon’t miss this chance before it’s gone \\n\\r\\nView to appreciate \\r\\nMartin Ng \\r\\n83388842                                                                                                                                                                                                                                                                                                                                                                                                                                                                                                                                                                                                                                                                                                                                                                                                                                                                                                                                                                                                                                                                                                                                                                                                                                                                                                                                                                                                                                                                                                                          \n",
       "24083  Hey there! Searching for HDB 4 Room flat that is within close proximity to Punggol MRT station, and yet have the convenience of buying things from 24 hrs Sheng Siong Supermart and minutes to My ,  where you can enjoy the lush greenery and abundance fresh air? Well, this could be the flat that you are looking from?\\nProperty Description\\n1. An Immediate HDB 4 Room Flat for Immediate Sale.\\n2. 3 Physical Rooms.\\n3. Low Floor.\\n4. Compact kitchen with yard.\\n5. An encouraging environment that is well suited for individuals and also for young couple starting a family.\\n6. Flat video @ https://youtu.be/pGPQbS0RZjI\\n\\nAmenities near this flat (all distances are approximated)\\nTrains (MRT / LRT)\\nA. Damai (PE7) 0.25 km\\nB. Cove (PE1) 0.46 km\\nC. Oasis (PE 6) 0.54 km\\nD. Punggol (NE17 PTC) 0.65 km\\n\\n \\nBus Stops\\nA. Punggol Sec Sch (Bus: 386, 83, 85, 3, 136) 0.11 km\\nB. Edgefield Pr Sch (Bus: 3, 83, 85, 136, 386, 6N) 0.14 km\\nC. Blk 301A (Bus: 84) 0.18 km\\nD. Blk 604A (Bus: 84) 0.19 km\\nE. Punggol Sec Sch (Bus: 386) 0.24 km\\nF. Blk 612A (Bus: 50) 0.24 km\\n \\n \\nGroceries & Supermarts\\nA. NTUC Fairprice (Punggol Drive Block 612) 0.20 km\\nB. Sheng Siong Hypermarket(Punggol Central) 0.21 km\\nSeeing is believing, please call , for an exclusive viewing.                                                                                                                                                                                                                                                                                                                                                                                                                                                                                                                                                                                                                                                                                                                                    \n",
       "24086  Mins Walk To Amk Hub & MRT, North South Facing! Motivated Seller!!! \\n\\n--- Mid Floor Corner Spacious 5 Room Flat Near MRT For Sale----\\n\\n✰ Asking Below Market Value!!!\\n✰ 10 Mins Walk To Ang Mo Kio MRT Station (NS Line).\\n✰ 121sqm / 1302sqft!\\n✰ Serene Enviroment yet Convenient Location!\\n✰ One direct bus to Nanyang Poly within 10 mins! \\n✰ Mid Floor Corner Unit!\\n✰ North South Facing With Greenery View\\n✰ No Afternoon Sun\\n✰ Toilet and lift upgraded \\n✰ No Extension Needed, Buyer Can Contra!!!\\n\\nSchools within 1 km:\\n- Jing Shan Pri Sch\\n- Mayflower Pri Sch\\n\\nSchools within 1 - 2km:\\n- Anderson Pri Sch\\n- Ang Mo Kio Pri Sch\\n- CHIJ St. Nicholas Girls' Sch\\n- Teck Ghee Pri Sch\\n- Townsville Pri Sch \\n\\n☎ 9798 7489  For Exclusive Viewing Appt\\n\\nLaven Loo 吕欣颐\\nPropNex Realty\\n 65 9798 7489\\nWa.me/6597987489                                                                                                                                                                                                                                                                                                                                                                                                                                                                                                                                                                                                                                                                                                                                                                                                                                                                                                                                                                                                                                                                                                                                                                                            \n",
       "24091  5 yr old newest cluster hdb in Pasir Ris for Sale ! \\n- renovated condition , fully air-con\\n- condition is like brand new as owner only stay 5 months only\\n- 5min walk to Pasir Ris Mrt, hawker center, White Sands shopping mall \\n- 24hrs supermarket, food court downstairs\\n- McDonald’s,  sports recreation centre a short walk away\\n- surrounded by garden greenery. Nearby is beautiful pond at town park area for prawning/fishing/alfresco F&B \\n- jog to popular Pasir Ris Park and beach area\\nBe the first to view this unit and appreciate its value! \\n\\nPlease contact Christopher 92275777 for viewing appointment now.                                                                                                                                                                                                                                                                                                                                                                                                                                                                                                                                                                                                                                                                                                                                                                                                                                                                                                                                                                                                                                                                                                                                                                                                                                                                                                                                                                                                       \n",
       "\n",
       "                                                                                                                                                            details  \\\n",
       "15     Condition,Land Only / For Rebuilding,Landed House Area Zoning,3 Storey Mixed Landed,District,D09                                                               \n",
       "17     Facing,South,Landed House Area Zoning,2 Storey Semi D,District,D10                                                                                             \n",
       "51     Furnishing,Partially Furnished,Facing,South,Availability,Now,Landed House Area Zoning,Others,District,D10                                                      \n",
       "56     Facing,East,Availability,Now,Landed House Area Zoning,3 Storey Mixed Landed,Last Renovated Date,01 Jan 2000,Re-wiring/Structural Renovation,Yes,District,D25   \n",
       "84     Facing,East,Availability,Now,Landed House Area Zoning,Others,District,D25                                                                                      \n",
       "...                                                                          ...                                                                                      \n",
       "24033  Furnishing,Partially Furnished,Facing,North,Availability,Now,District,D19                                                                                      \n",
       "24040  District,D28                                                                                                                                                   \n",
       "24083  Furnishing,Partially Furnished,Facing,North,Availability,Now,District,D19                                                                                      \n",
       "24086  Furnishing,Partially Furnished,Facing,North,Availability,Now,District,D20                                                                                      \n",
       "24091  Availability,Now,District,D18                                                                                                                                  \n",
       "\n",
       "                 lease  \\\n",
       "15      - Freehold       \n",
       "17     1997 - 99 years   \n",
       "51      -                \n",
       "56      -                \n",
       "84      -                \n",
       "...    ...               \n",
       "24033  2003 -            \n",
       "24040   - 99 years       \n",
       "24083  2012 - 99 years   \n",
       "24086  1981 - 99 years   \n",
       "24091  2015 - 99 years   \n",
       "\n",
       "                                                                                                link  \\\n",
       "15     https://www.99.co/singapore/sale/property/jalan-jintan-landed-Cr9epLerZbokYZRxNLsfk3            \n",
       "17     https://www.99.co/singapore/sale/property/holland-grove-view-landed-pkEhFnyqJsGrNWjKMrQbnX      \n",
       "51     https://www.99.co/singapore/sale/property/garlick-avenue-landed-izhZX4EJxuaumAVJ8CL3PS          \n",
       "56     https://www.99.co/singapore/sale/property/oakwood-grove-landed-rEynn7xfaokwSLvsmDAeT6           \n",
       "84     https://www.99.co/singapore/sale/property/oakwood-grove-landed-nHeGwFpnCrzZZgwTJdKerJ           \n",
       "...                                                                                      ...           \n",
       "24033  https://www.99.co/singapore/sale/property/176d-edgefield-plains-hdb-Lq9TPSWViweDD9i5StouL9      \n",
       "24040  https://www.99.co/singapore/sale/property/469a-sengkang-west-way-hdb-ayHfK8AfbdqNBiVbqBmhhn     \n",
       "24083  https://www.99.co/singapore/sale/property/601d-punggol-central-hdb-PyWhf7P3LNSYXfV47Je2zg       \n",
       "24086  https://www.99.co/singapore/sale/property/501-ang-mo-kio-avenue-5-hdb-qo4ipNkUKBjP4smwB2s2UD    \n",
       "24091  https://www.99.co/singapore/sale/property/525a-pasir-ris-street-51-hdb-pDBuV988eNr7AKxH3jZZMK   \n",
       "\n",
       "                           name       price        property_type  psf_price  \n",
       "15     Kimsia Park               5280000.0   Terraced House       297        \n",
       "17     Holland Grove             6600000.0   Semi-Detached House  186        \n",
       "51     Garlick Avenue            28000000.0  Good Class Bungalow  1732       \n",
       "56     Oakwood Grove             6200000.0   Bungalow             504        \n",
       "84     Oakwood Grove             5500008.0   Bungalow             446        \n",
       "...              ...                   ...        ...             ...        \n",
       "24033  176D Edgefield Plains     400000.0    HDB 5 Rooms          31         \n",
       "24040  469A Sengkang West Way    498000.0    HDB 3 Rooms          46         \n",
       "24083  601D Punggol Central      430000.0    HDB 4 Rooms          41         \n",
       "24086  501 Ang Mo Kio Avenue 5   510000.0    HDB 5 Rooms          3          \n",
       "24091  525A Pasir Ris Street 51  533001.0    HDB 4 Rooms          49         \n",
       "\n",
       "[380 rows x 13 columns]"
      ]
     },
     "execution_count": 16,
     "metadata": {},
     "output_type": "execute_result"
    }
   ],
   "source": [
    "# there are outliers for area information, which have been wrongly entered by the property agent. \n",
    "df[df.area>10000]"
   ]
  },
  {
   "cell_type": "code",
   "execution_count": 17,
   "metadata": {
    "ExecuteTime": {
     "end_time": "2020-04-11T04:43:14.300288Z",
     "start_time": "2020-04-11T04:43:14.274354Z"
    }
   },
   "outputs": [],
   "source": [
    "# can be seen that many HDB listings have area of over 10,000 sqft which is not possible.\n",
    "# from https://www.teoalida.com/singapore/hdbrecords/, the largest hdb is 215sqm.\n",
    "# filter out hdb with area > 215sqm (2315sqft)\n",
    "df = df[~(df.property_type.str.contains('HDB')&(df.area>2315))]\n",
    "\n",
    "# biggest landed property in singapore is 52000sqft. filter out property with area >52,000sqft\n",
    "df = df[df.area<52000]"
   ]
  },
  {
   "cell_type": "code",
   "execution_count": 18,
   "metadata": {
    "ExecuteTime": {
     "end_time": "2020-04-11T04:43:14.816909Z",
     "start_time": "2020-04-11T04:43:14.801946Z"
    }
   },
   "outputs": [],
   "source": [
    "### Extract the district information\n",
    "# most district information is in the address column after the hyphen\n",
    "df.loc[:,'district'] = df['address'].apply(lambda x: x.split(' - ')[1])"
   ]
  },
  {
   "cell_type": "code",
   "execution_count": 19,
   "metadata": {
    "ExecuteTime": {
     "end_time": "2020-04-11T04:43:15.244145Z",
     "start_time": "2020-04-11T04:43:15.238166Z"
    }
   },
   "outputs": [
    {
     "data": {
      "text/plain": [
       "array(['D23', 'D20', 'D1', 'D12', 'D9', 'D15', 'D18', 'D19', 'D17', 'D3',\n",
       "       'D10', 'D5', 'D13', 'D11', 'D28', 'D26', 'D7', 'D21', 'D14', 'D16',\n",
       "       'D27', 'D8', 'D4', 'D25', 'D22', 'Floor #04', 'Floor #10',\n",
       "       'Floor #01', 'Floor #09', 'Floor #00', 'D2', 'Floor #03',\n",
       "       'Floor #07', 'Floor #02', 'Floor #3', 'Floor #Low ', 'Floor #Low',\n",
       "       'Floor #05', 'Floor #27', 'Floor #High', 'Floor #28', 'Floor #11',\n",
       "       'Floor #ground floor', 'Floor #15', 'Floor #12', 'Floor #08',\n",
       "       'Floor #06', 'Floor #High Floor', 'Floor #high', 'Floor #low',\n",
       "       'Floor #20', 'Floor #16', 'Floor #23', 'Floor #18', 'Floor #19',\n",
       "       'Floor #17', 'Floor #14', 'Floor #13', 'Floor #30', 'Floor #34',\n",
       "       'Floor #21', 'Floor #8', 'Floor #6', 'Floor #24', 'Floor #1',\n",
       "       'Floor #Mid', 'Floor #22', 'Floor #44', 'Floor #Ground',\n",
       "       'Floor #high /floor', 'Floor #31', 'Floor #41',\n",
       "       'Floor #low, mid, high', 'Floor #18 ', 'D6', 'Floor #penthouse',\n",
       "       'Floor ##05', 'Floor #26', 'Floor #2', 'Floor #40', 'Floor #29',\n",
       "       'Floor #3 Levels with Basement', 'Floor #5', 'Floor #61',\n",
       "       'Floor #43', 'Floor #Low  Floor', 'Floor #33', 'Floor #49',\n",
       "       'Floor #high flr,  unblock greenery view,  $1600psf', 'Floor #38',\n",
       "       'Floor #36', 'Floor #Mid Floor', 'Floor #High Floor ',\n",
       "       'Floor #2nd', 'Floor ##04', 'Floor ##12', 'Floor ## 02',\n",
       "       'Floor ##08', 'Floor #42', 'Floor #7', 'Floor #Above 14 floor',\n",
       "       'Floor #25', 'Floor ##Mid-floor', 'Floor #Top Floor #22',\n",
       "       'Floor #High floor'], dtype=object)"
      ]
     },
     "execution_count": 19,
     "metadata": {},
     "output_type": "execute_result"
    }
   ],
   "source": [
    "df.district.unique()"
   ]
  },
  {
   "cell_type": "code",
   "execution_count": 22,
   "metadata": {
    "ExecuteTime": {
     "end_time": "2020-04-11T04:44:18.738126Z",
     "start_time": "2020-04-11T04:44:18.732152Z"
    }
   },
   "outputs": [],
   "source": [
    "# seems like the info sometimes contains floor information. try to extract that info too.\n",
    "# if there is a floor number, extract number. else, extract floor type.\n",
    "# there are a few floor types: top/penthouse, high, mid, low, ground\n",
    "def extract_floor_from_address(address):\n",
    "    address = address.lower()\n",
    "    if re.search(r'#(\\d+)',address):\n",
    "        return int(re.findall(r'#(\\d+)',address)[0])\n",
    "    elif ('penthouse' in address) or ('top' in address):\n",
    "        return 'Top'\n",
    "\n",
    "def extract_floor_type_from_address(address):\n",
    "    address = address.lower()\n",
    "    if ('penthouse' in address) or ('top' in address):\n",
    "        return 'Top'\n",
    "    elif ('mid' in address):\n",
    "        return 'Mid'\n",
    "    elif ('high' in address):\n",
    "        return 'High'\n",
    "    elif ('ground' in address):\n",
    "        return 'Low'\n",
    "    else:\n",
    "        return np.nan"
   ]
  },
  {
   "cell_type": "code",
   "execution_count": 23,
   "metadata": {
    "ExecuteTime": {
     "end_time": "2020-04-11T04:44:19.179944Z",
     "start_time": "2020-04-11T04:44:19.149057Z"
    }
   },
   "outputs": [],
   "source": [
    "df.loc[:,'floor_type'] = df['district'].apply(extract_floor_type_from_address)"
   ]
  },
  {
   "cell_type": "code",
   "execution_count": 24,
   "metadata": {
    "ExecuteTime": {
     "end_time": "2020-04-11T04:44:19.395532Z",
     "start_time": "2020-04-11T04:44:19.350653Z"
    }
   },
   "outputs": [],
   "source": [
    "df.loc[:,'floor'] = df['district'].apply(extract_floor_from_address)"
   ]
  },
  {
   "cell_type": "code",
   "execution_count": 29,
   "metadata": {
    "ExecuteTime": {
     "end_time": "2020-04-11T04:46:11.046017Z",
     "start_time": "2020-04-11T04:46:11.038038Z"
    }
   },
   "outputs": [
    {
     "data": {
      "text/plain": [
       "array(['D23', 'D20', 'D1', 'D12', 'D9', 'D15', 'D18', 'D19', 'D17', 'D3',\n",
       "       'D10', 'D5', 'D13', 'D11', 'D28', 'D26', 'D7', 'D21', 'D14', 'D16',\n",
       "       'D27', 'D8', 'D4', 'D25', 'D22', 'Floor #04', 'Floor #10',\n",
       "       'Floor #01', 'Floor #09', 'Floor #00', 'D2', 'Floor #03',\n",
       "       'Floor #07', 'Floor #02', 'Floor #3', 'Floor #Low ', 'Floor #Low',\n",
       "       'Floor #05', 'Floor #27', 'Floor #High', 'Floor #28', 'Floor #11',\n",
       "       'Floor #ground floor', 'Floor #15', 'Floor #12', 'Floor #08',\n",
       "       'Floor #06', 'Floor #High Floor', 'Floor #high', 'Floor #low',\n",
       "       'Floor #20', 'Floor #16', 'Floor #23', 'Floor #18', 'Floor #19',\n",
       "       'Floor #17', 'Floor #14', 'Floor #13', 'Floor #30', 'Floor #34',\n",
       "       'Floor #21', 'Floor #8', 'Floor #6', 'Floor #24', 'Floor #1',\n",
       "       'Floor #Mid', 'Floor #22', 'Floor #44', 'Floor #Ground',\n",
       "       'Floor #high /floor', 'Floor #31', 'Floor #41',\n",
       "       'Floor #low, mid, high', 'Floor #18 ', 'D6', 'Floor #penthouse',\n",
       "       'Floor ##05', 'Floor #26', 'Floor #2', 'Floor #40', 'Floor #29',\n",
       "       'Floor #3 Levels with Basement', 'Floor #5', 'Floor #61',\n",
       "       'Floor #43', 'Floor #Low  Floor', 'Floor #33', 'Floor #49',\n",
       "       'Floor #high flr,  unblock greenery view,  $1600psf', 'Floor #38',\n",
       "       'Floor #36', 'Floor #Mid Floor', 'Floor #High Floor ',\n",
       "       'Floor #2nd', 'Floor ##04', 'Floor ##12', 'Floor ## 02',\n",
       "       'Floor ##08', 'Floor #42', 'Floor #7', 'Floor #Above 14 floor',\n",
       "       'Floor #25', 'Floor ##Mid-floor', 'Floor #Top Floor #22',\n",
       "       'Floor #High floor'], dtype=object)"
      ]
     },
     "execution_count": 29,
     "metadata": {},
     "output_type": "execute_result"
    }
   ],
   "source": [
    "df.district.unique()"
   ]
  },
  {
   "cell_type": "code",
   "execution_count": 32,
   "metadata": {
    "ExecuteTime": {
     "end_time": "2020-04-11T04:47:18.617229Z",
     "start_time": "2020-04-11T04:47:18.559384Z"
    }
   },
   "outputs": [],
   "source": [
    "df.loc[:,'district'] = df['district'].apply(lambda x: re.findall('(D\\d+)',x)[0] if re.search('(D\\d+)',x) else np.nan)"
   ]
  },
  {
   "cell_type": "code",
   "execution_count": 34,
   "metadata": {
    "ExecuteTime": {
     "end_time": "2020-04-11T04:47:33.746829Z",
     "start_time": "2020-04-11T04:47:33.731855Z"
    }
   },
   "outputs": [
    {
     "name": "stdout",
     "output_type": "stream",
     "text": [
      "<class 'pandas.core.frame.DataFrame'>\n",
      "Int64Index: 23964 entries, 0 to 24157\n",
      "Data columns (total 16 columns):\n",
      "address          23964 non-null object\n",
      "amenities        18401 non-null object\n",
      "area             23964 non-null int64\n",
      "bathrooms        22639 non-null float64\n",
      "bedrooms         22639 non-null float64\n",
      "description      23325 non-null object\n",
      "details          23383 non-null object\n",
      "lease            23964 non-null object\n",
      "link             23964 non-null object\n",
      "name             23964 non-null object\n",
      "price            23964 non-null float64\n",
      "property_type    23964 non-null object\n",
      "psf_price        23964 non-null int32\n",
      "district         23359 non-null object\n",
      "floor_type       27 non-null object\n",
      "floor            571 non-null object\n",
      "dtypes: float64(3), int32(1), int64(1), object(11)\n",
      "memory usage: 3.0+ MB\n"
     ]
    }
   ],
   "source": [
    "df.info()\n",
    "# most district info is filled"
   ]
  },
  {
   "cell_type": "code",
   "execution_count": 95,
   "metadata": {
    "ExecuteTime": {
     "end_time": "2020-04-11T05:37:10.496982Z",
     "start_time": "2020-04-11T05:37:10.483019Z"
    }
   },
   "outputs": [],
   "source": [
    "### get address without the district info\n",
    "df.loc[:,'address'] = df['address'].apply(lambda x: x.split(' - ')[0])"
   ]
  },
  {
   "cell_type": "code",
   "execution_count": 98,
   "metadata": {
    "ExecuteTime": {
     "end_time": "2020-04-11T05:39:05.661310Z",
     "start_time": "2020-04-11T05:39:05.618391Z"
    }
   },
   "outputs": [],
   "source": [
    "### get built-date and lease duration from lease column\n",
    "df.loc[:,'built_date'] = df['lease'].apply(lambda x: x.split(' - ')[0])\n",
    "df.loc[:,'lease_duration'] = df['lease'].apply(lambda x: x.split(' - ')[1])"
   ]
  },
  {
   "cell_type": "code",
   "execution_count": null,
   "metadata": {
    "ExecuteTime": {
     "start_time": "2020-04-11T07:22:37.708Z"
    }
   },
   "outputs": [
    {
     "name": "stdout",
     "output_type": "stream",
     "text": [
      "failed on  The Whitley Residences\n",
      "failed on  The Whitley Residences\n",
      "failed on  Thomson Hills Estate\n",
      "failed on  Jalan Ilmu\n",
      "failed on  Namly Close\n",
      "failed on  Beng Tong Mansion\n",
      "failed on  Macpherson Garden Estate\n",
      "failed on  The Whitley Residences\n",
      "failed on  Braddell Heights Estate\n",
      "failed on  Llyn Gardens\n",
      "failed on  Thomson Hills Estate\n",
      "failed on  The Whitley Residences\n",
      "failed on  Thomson Hills Estate\n",
      "failed on  Alana\n",
      "failed on  Emerald Hill Conservation Area\n",
      "failed on  The Whitley Residences\n",
      "failed on  Thomson Hills Estate\n",
      "failed on  Luxus Hill Drive\n",
      "failed on  Thomson Hills Estate\n",
      "failed on  Picardy Gardens\n",
      "failed on  Thomson Hills Estate\n",
      "failed on  Thomson Hills Estate\n",
      "failed on  Woodgrove Estate\n",
      "failed on  Thomson Hills Estate\n",
      "failed on  Ernani Street\n",
      "failed on  Frankel Estate\n",
      "failed on  Sanny Park\n",
      "failed on  Charlton 18\n",
      "failed on  Thomson Hills Estate\n",
      "failed on  Thomson Hills Estate\n",
      "failed on  The Whitley Residences\n",
      "failed on  Thomson Hills Estate\n",
      "failed on  Thomson Hills Estate\n",
      "failed on  Ernani Street\n",
      "failed on  Thomson Hills Estate\n",
      "failed on  Nineteen Shelford Road\n",
      "failed on  Kaleido\n",
      "failed on  Thomson Hills Estate\n",
      "failed on  Ponggol Seventeenth Avenue\n",
      "failed on  Brighton Crest\n",
      "failed on  Thomson Hills Estate\n",
      "failed on  Thomson Hills Estate\n",
      "failed on  Thomson Hills Estate\n",
      "failed on  Thomson Hills Estate\n",
      "failed on  Frankel Estate\n",
      "failed on  The Whitley Residences\n",
      "failed on  Caldecott Hill Estate\n",
      "failed on  Chwee Chian View\n",
      "failed on  Thomson Hills Estate\n",
      "failed on  Nineteen Shelford Road\n",
      "failed on  Thomson Hills Estate\n",
      "failed on  One Tree Hill Collection\n",
      "failed on  Thomson Hills Estate\n",
      "failed on  Sembawang Hills Estate\n",
      "failed on  The Whitley Residences\n",
      "failed on  Hougang Avenue 7\n",
      "failed on  Thomson Hills Estate\n",
      "failed on  Hillview Estate\n",
      "failed on  Yong Seng Estate\n",
      "failed on  One Tree Hill Collection\n",
      "failed on  The Whitley Residences\n",
      "failed on  Eastwood Green Terraces\n",
      "failed on  Sembawang Straits Estate\n",
      "failed on  Frankel Avenue\n",
      "failed on  Kembangan Estate\n",
      "failed on  The Whitley Residences\n",
      "failed on  Dunearn Estate\n",
      "failed on  Frankel Estate\n",
      "failed on  Peakview Estate\n",
      "failed on  Alana\n",
      "failed on  Little India Conservation Area\n",
      "failed on  Holland Grove Park\n",
      "failed on  Nim Collection\n",
      "failed on  Little India Conservation Area\n",
      "failed on  The Whitley Residences\n",
      "failed on  Whitley Road\n",
      "failed on  Nim Collection\n",
      "failed on  Langsat Road\n",
      "failed on  English Villas\n",
      "failed on  The Whitley Residences\n"
     ]
    }
   ],
   "source": [
    "### get full address, lat, lon using geocoder\n",
    "def return_lat_lon(address):\n",
    "    try: \n",
    "        address, (latitude, longitude)  = geolocator.geocode(address,country_codes='SG')\n",
    "        return address, latitude, longitude\n",
    "    except:\n",
    "        print('failed on ',address)\n",
    "        return np.nan, np.nan, np.nan\n",
    "df.loc[:,'full_address'], df.loc[:,'latitude'], df.loc[:,'longitude'] = zip(*df['address'].apply(return_lat_lon))"
   ]
  },
  {
   "cell_type": "code",
   "execution_count": null,
   "metadata": {
    "ExecuteTime": {
     "start_time": "2020-04-11T07:54:31.380Z"
    }
   },
   "outputs": [],
   "source": [
    "df.address"
   ]
  },
  {
   "cell_type": "code",
   "execution_count": 205,
   "metadata": {
    "ExecuteTime": {
     "end_time": "2020-04-11T07:21:46.287632Z",
     "start_time": "2020-04-11T07:21:46.210834Z"
    }
   },
   "outputs": [
    {
     "name": "stdout",
     "output_type": "stream",
     "text": [
      "<class 'pandas.core.frame.DataFrame'>\n",
      "Int64Index: 23964 entries, 0 to 24157\n",
      "Data columns (total 18 columns):\n",
      "address           23964 non-null object\n",
      "amenities         18401 non-null object\n",
      "area              23964 non-null int64\n",
      "bathrooms         22639 non-null float64\n",
      "bedrooms          22639 non-null float64\n",
      "description       23325 non-null object\n",
      "details           23383 non-null object\n",
      "lease             23964 non-null object\n",
      "link              23964 non-null object\n",
      "name              23964 non-null object\n",
      "price             23964 non-null float64\n",
      "property_type     23964 non-null object\n",
      "psf_price         23964 non-null int32\n",
      "district          23359 non-null object\n",
      "floor_type        27 non-null object\n",
      "floor             571 non-null object\n",
      "TOP               23964 non-null object\n",
      "lease_duration    23964 non-null object\n",
      "dtypes: float64(3), int32(1), int64(1), object(13)\n",
      "memory usage: 3.4+ MB\n"
     ]
    }
   ],
   "source": [
    "df.info()"
   ]
  },
  {
   "cell_type": "code",
   "execution_count": null,
   "metadata": {},
   "outputs": [],
   "source": []
  },
  {
   "cell_type": "code",
   "execution_count": null,
   "metadata": {},
   "outputs": [],
   "source": []
  },
  {
   "cell_type": "code",
   "execution_count": null,
   "metadata": {},
   "outputs": [],
   "source": [
    "geol"
   ]
  },
  {
   "cell_type": "code",
   "execution_count": 105,
   "metadata": {
    "ExecuteTime": {
     "end_time": "2020-04-11T05:44:58.298754Z",
     "start_time": "2020-04-11T05:44:58.293755Z"
    }
   },
   "outputs": [],
   "source": [
    "test_df = df.head().copy()"
   ]
  },
  {
   "cell_type": "code",
   "execution_count": 109,
   "metadata": {
    "ExecuteTime": {
     "end_time": "2020-04-11T05:46:47.617028Z",
     "start_time": "2020-04-11T05:46:47.598081Z"
    }
   },
   "outputs": [
    {
     "data": {
      "text/html": [
       "<div>\n",
       "<style scoped>\n",
       "    .dataframe tbody tr th:only-of-type {\n",
       "        vertical-align: middle;\n",
       "    }\n",
       "\n",
       "    .dataframe tbody tr th {\n",
       "        vertical-align: top;\n",
       "    }\n",
       "\n",
       "    .dataframe thead th {\n",
       "        text-align: right;\n",
       "    }\n",
       "</style>\n",
       "<table border=\"1\" class=\"dataframe\">\n",
       "  <thead>\n",
       "    <tr style=\"text-align: right;\">\n",
       "      <th></th>\n",
       "      <th>address</th>\n",
       "      <th>amenities</th>\n",
       "      <th>area</th>\n",
       "      <th>bathrooms</th>\n",
       "      <th>bedrooms</th>\n",
       "      <th>description</th>\n",
       "      <th>details</th>\n",
       "      <th>lease</th>\n",
       "      <th>link</th>\n",
       "      <th>name</th>\n",
       "      <th>price</th>\n",
       "      <th>property_type</th>\n",
       "      <th>psf_price</th>\n",
       "      <th>district</th>\n",
       "      <th>floor_type</th>\n",
       "      <th>floor</th>\n",
       "      <th>TOP</th>\n",
       "      <th>lease_duration</th>\n",
       "    </tr>\n",
       "  </thead>\n",
       "  <tbody>\n",
       "    <tr>\n",
       "      <td>0</td>\n",
       "      <td>12 Dairy Farm Lane</td>\n",
       "      <td>Function Room,Water Feature,High Ceiling,Gym,Jet Pool,Yoga Corner,Tennis Court,Mid Floor,Undrewater Fitness Station,Outdoor Dining,Balcony,City View,Pool View,Renovated,Hammocks,Lap Pool,Greenery View,Pool Deck,Lounge,Wading Pool,Fountain,Playground,Fitness Corner,High Floor,Security,Fibre Ready,Reflexology Path,BBQ</td>\n",
       "      <td>624</td>\n",
       "      <td>2.0</td>\n",
       "      <td>2.0</td>\n",
       "      <td>DAIRY FARM RESIDENCES – BRIEF\\nOur development concept is derived from a self-contained complete life symbolised by a full circle. Without a start or an end, it signifies “infinity”, representing the endless possibilities one can enjoy in this integrated development. Here, you see a complete life at Dairy Farm Residences made up of 3 worlds: Nature. Retail. Home.\\nOccupying a site area of approximately 20,000 sqm, Dairy Farm Residences is the first unique integrated development in the Dairy Farm vicinity with two levels of retail (ground floor and basement 1). There will be a gourmet supermarket, a food hall, a childcare centre, food and beverage and retail shops offering a one stop convenience at the doorstep to residents and people living within the vicinity.\\nLocated along Petir Road and Dairy Farm Road, there is unparallel connectivity via the Bukit Timah Expressway (BKE) and Upper Bukit Timah Road. Within just a kilometer from Hillview MRT on the Downtown Line, the development is highly accessible, close to prestigious schools and retail amenities, bringing together all of life’s essentials and pleasures under one roof. Aside from a conveniently located bus stop at Petir Road, there will also be a shuttle bus service from Dairy Farm Residences to Hillview &amp; Bukit Panjang MRT stations.\\nDairy Farm Residences is conveniently connected by cycling and pedestrian networks within the Western Adventure Loop and Rail Corridor (Central) of the Park Connector Network. With its close proximity to Dairy Farm Nature Park, Bukit Timah Nature Reserve, Zhenghua Nature Park, Chestnut Nature Park and Central Catchment Nature Reserve, Dairy Farm Residences is within the heart of the city’s most forested enclave; offering a true retreat from the hustle and bustle of urban Singapore,.\\nRepresenting living in harmony at its finest in a peaceful and calm environment surrounded by floral pleasure of greenery, Dairy Farm Residences offers 460 luxurious residential homes. Arranged in two exclusive 15-storey and two 5-storey towers, Dairy Farm Residences offers a choice of spacious 2, 3 and 4 bedroom layouts with the 2 bedroom units ranging from 624 to 775 sqft; the 3 bedroom 915 to 1,313 sqft and 4 bedroom 1,335 to 1,475 sqft. To safeguard residents’ privacy, the residential towers are segregated from the commercial podium. Separate car park spaces are provisioned in the basement levels. Vehicular and pedestrian access will be from Dairy Farm Lane.\\nEach unit will have extending balconies that welcome the essence of nature blending seamlessly into the home. Homes on the upper floors will enjoy spectacular picturesque views of the Bukit Timah Nature Park to the west and the Central Catchment Nature Reserve and Upper Pierce Reservoir to the east.\\nInspired by wood grain patterns, the recreational zones are artistically stacked into levels that form The Woods, The Canopy and The Oasis. The infinity pool will have an undisrupted panoramic view of the surrounding nature, creating a unique experience of swimming in the sky. Located underneath the pool are pockets of intimate spaces such as function rooms, spa and gymnasium, effectively articulating subtle characters of the timber and transforming it into three-dimensional and unique spaces.\\nAs the development has a large ratio of home to communal space, Dairy Farm Residences has the aspects of resort living within nature, a modern escape into the woods. To create a sense of space where residents can feel they have entered a realm of tranquility and comfort, other facilities include a an elegantly appointed multi-purpose clubhouse, 50m lap pool, all day dining spaces, barbeque pits, tennis court, sun deck and bespoke lifestyle pavilions. By allowing the residents to interact with the woods outside and within the development, we aim to offer an immersive experience of the woods; allowing residents to feel a sense of solitude and comfort being away from the busy outside world.\\nDairy Farm Residences is also a residential development with a strong environmental conscience that actively embraces a sustainable way of living. A BCA’s Green Mark Gold Plus development and adopting a green and low energy approach, 90% of the units are in north–south orientation to reduce solar heat gain; while others will enjoy stunning pool views.\\nIt’s time to discover a complete life at the Dairy Farm Residences.                                            http://virtualtours.sg/tours/dairyfarm/</td>\n",
       "      <td>Facing,North South,District,D23</td>\n",
       "      <td>2024 - 99 years</td>\n",
       "      <td>https://www.99.co/singapore/sale/property/dairy-farm-residences-condo-CB4Rz6Sdfb4FvgoKYrBnhJ</td>\n",
       "      <td>Dairy Farm Residences</td>\n",
       "      <td>969000.0</td>\n",
       "      <td>Condo</td>\n",
       "      <td>1553</td>\n",
       "      <td>D23</td>\n",
       "      <td>NaN</td>\n",
       "      <td>None</td>\n",
       "      <td>2024</td>\n",
       "      <td>99 years</td>\n",
       "    </tr>\n",
       "    <tr>\n",
       "      <td>1</td>\n",
       "      <td>2 Shunfu Road</td>\n",
       "      <td>Jogging Track,Games Room,Gym,Sea View,Steam Room,Tennis Court,Pond,Karaoke,Balcony,Infinity Pool,Pavilion,Greenery View,Lounge,Swimming Pool,Waterfall,Playground,Fibre Ready,Reflexology Path</td>\n",
       "      <td>764</td>\n",
       "      <td>NaN</td>\n",
       "      <td>NaN</td>\n",
       "      <td>Jadescape (Former Shunfu Ville)\\r\\n\\r\\nJadescape is situated along Shunfu Road, within close proximity to Bishan and Upper Thomson\\r\\n\\r\\nWide range of 613 units from 1 BR to 5 BR for different needs and budget\\r\\n\\r\\nApproximately 7 minutes walk to Marymount MRT Station. Also within close proximity to the upcoming Thomson-East Coast Line station\\r\\n\\r\\nClose proximity to various famous eateries and reputable schools like Raffles Institution and Catholic High\\r\\n\\r\\nGood unit mix of 1 bedrooms to 5 bedroom units to suit different needs.\\r\\n\\r\\nCall 88228988 Now To Enquire.</td>\n",
       "      <td>Furnishing,Unfurnished,Facing,North South,Availability,Now,District,D20</td>\n",
       "      <td>2023 - 99 years</td>\n",
       "      <td>https://www.99.co/singapore/sale/property/jadescape-condo-yhBy3rdA3sJag26VNCoWHh</td>\n",
       "      <td>JadeScape</td>\n",
       "      <td>1275408.0</td>\n",
       "      <td>Condo</td>\n",
       "      <td>1669</td>\n",
       "      <td>D20</td>\n",
       "      <td>NaN</td>\n",
       "      <td>None</td>\n",
       "      <td>2023</td>\n",
       "      <td>99 years</td>\n",
       "    </tr>\n",
       "    <tr>\n",
       "      <td>2</td>\n",
       "      <td>21 Marina Way</td>\n",
       "      <td>Clubhouse,Gym,City View,Jacuzzi,Outdoor Dining,Balcony,Multi-purpose Hall,Bomb Shelter,Pavilion,Greenery View,Pool Deck,Lounge,Mini Golf Range,Wading Pool,Hydrotherapy Pool,Fitness Corner,High Floor,Fibre Ready,Lap Pool,BBQ</td>\n",
       "      <td>710</td>\n",
       "      <td>2.0</td>\n",
       "      <td>1.0</td>\n",
       "      <td>Prices dropped. Hurry! \\nBrought to you by M+S. \\n\\nWith 4 MRT stations to choose from, reaching out to the corners of Singapore has never been easier. \\n\\nMarina One, being flank by 2 parks namely: Central Linear Park &amp; Marina South Station Park, provides the greenery and open space for families to enjoy the outdoor activities right in the city. \\n\\nWith it's unique architectural design, The Heart @ Marina One will be an amazing feature within the development. \\n\\nMany luxury restaurants, retail shops situated within The Heart @ Marina One. \\n\\nCity living has never been so convenient, with the many amenities available within the vicinity.</td>\n",
       "      <td>Facing,South West,Availability,Now,District,D01</td>\n",
       "      <td>2018 - 99 years</td>\n",
       "      <td>https://www.99.co/singapore/sale/property/marina-one-residences-condo-epsbRyicZT9cQT8vTAToF</td>\n",
       "      <td>Marina One Residences</td>\n",
       "      <td>1580000.0</td>\n",
       "      <td>Condo</td>\n",
       "      <td>2225</td>\n",
       "      <td>D1</td>\n",
       "      <td>NaN</td>\n",
       "      <td>None</td>\n",
       "      <td>2018</td>\n",
       "      <td>99 years</td>\n",
       "    </tr>\n",
       "    <tr>\n",
       "      <td>3</td>\n",
       "      <td>3 Jalan Kemaman</td>\n",
       "      <td>Clubhouse,Pool Deck,Sky Lounge,Gym,Tennis Court,Parking,Undrewater Fitness Station,Outdoor Dining,Sky Terrace,Balcony,Bomb Shelter,Pavilion,Greenery View,Open Terrace,Swimming Pool,Spa Pool,Playground,Fitness Corner,High Floor,Security,Fibre Ready,Lap Pool,BBQ</td>\n",
       "      <td>441</td>\n",
       "      <td>1.0</td>\n",
       "      <td>1.0</td>\n",
       "      <td>VERTICUS – DISTRICT 12 – JALAN KEMAMAN\\r\\n\\r\\nLocated in the most undervalued RCR (Rest of Central Region) district, Verticus is a freehold development by SB (Kemaman) Development Pte Ltd. This development comprises of 162 units with a unit mix of 1 bedroom, 2 bedroom, 2 bedroom   study, 2 bedroom   studio dual key, 3 bedroom, 3 bedroom (premium), 2 bedroom   studio key penthouse, 3 bedroom penthouse and 4 bedroom penthouse.\\r\\n\\r\\nVerticus is just next to Novena healthcare city and is within walking distance to Toa Payoh and Novena MRT station.Residents would be able to enjoy a wide selection of F&amp;B options as the development is surrounded by famous eateries such as Balestier Market Food Court, Boon Tong Kee, Balestier Bak Kut Teh, Wheeler’s Yard, Whampoa Market &amp; Food Centre and more.\\r\\n\\r\\nThere is variety of lifestyle amenities with Balestier Plaza &amp; Shaw Plaza just minutes’ walk away from the development.Shopping malls such as United Square Shopping Mall, , Novena Square, Square 2 @ Novena are all a short distance away from the development.\\r\\n\\r\\nZhongshan Mall and Zhongshan Park are within walking distance - less than 5 minutes walk.\\n\\nProject Highlights:\\r\\n\\r\\nFreehold\\r\\n\\r\\nMost undervalued RCR (Rest of Central Region) district\\r\\n\\r\\nHuge upside potential\\r\\n\\r\\nNext to Novena Healthcare City\\r\\n\\r\\nWalking distance to Toa Payoh and Novena MRT\\r\\n\\r\\nNear to international schools\\r\\n\\r\\nSurrounded by famous eateries\\r\\n\\r\\n\\nMinutes walk to Balestier Plaza &amp; Shaw Plaza and Zhongshan Mall.\\r\\n\\r\\nProject Details:\\r\\n\\r\\nDeveloper: SB (Kemaman) Development Pte Ltd\\r\\n\\r\\nAddress: 3 Jalan Kemaman\\r\\n\\r\\nProperty Type: Private Condominium\\r\\n\\r\\nTenure: Freehold\\r\\n\\r\\nTotal Units: 162\\r\\n\\r\\nUnit Mix:1 bedroom, 2 bedroom, 2 bedroom   study, 2 bedroom   studio dual key, 3 bedroom, 3 bedroom (premium), 2 bedroom   studio dual key penthouse and 3 bedroom penthouse\\r\\n\\r\\nCall 96304575 Now To Enquire.</td>\n",
       "      <td>Furnishing,Unfurnished,Facing,North South,Availability,Now,District,D12</td>\n",
       "      <td>- Freehold</td>\n",
       "      <td>https://www.99.co/singapore/sale/property/verticus-condo-NoPhGyiiym5Uqwn35txcKU</td>\n",
       "      <td>Verticus</td>\n",
       "      <td>889000.0</td>\n",
       "      <td>Condo</td>\n",
       "      <td>2016</td>\n",
       "      <td>D12</td>\n",
       "      <td>NaN</td>\n",
       "      <td>None</td>\n",
       "      <td></td>\n",
       "      <td>Freehold</td>\n",
       "    </tr>\n",
       "    <tr>\n",
       "      <td>4</td>\n",
       "      <td>5 Jalan Kemaman</td>\n",
       "      <td>Clubhouse,Bomb Shelter,Greenery View,Swimming Pool,Wading Pool,Squash Court,Parking,High Floor,Security,Fibre Ready,Gym,Balcony</td>\n",
       "      <td>635</td>\n",
       "      <td>1.0</td>\n",
       "      <td>2.0</td>\n",
       "      <td>VERTICUS – FREEHOLD at DISTRICT 12 – JALAN KEMAMAN\\r\\n\\r\\nLocated in the most undervalued RCR (Rest of Central Region) district, Verticus is a freehold development by SB (Kemaman) Development Pte Ltd. \\n\\nThis development comprises of 162 units with a unit mix of 1 bedroom, 2 bedroom, 2 bedroom  study, 2 bedroom  studio dual key, 3 bedroom, 3 bedroom (premium), 2 bedroom  studio dual key penthouse, 3 bedroom penthouse and 4 bedroom penthouse.\\r\\n\\r\\nVerticus is just next to Health City Novena (great tenant pool) and is within walking distance to Toa Payoh and Novena MRT station.\\n\\nHuge land plot with condominium facilities located at city fringe, comfortably tucked away in the folds Balestier’s serenity.\\n\\nResidents would be able to enjoy a wide selection of F&amp;B options as the development is surrounded by famous eateries such as Balestier Market Food Court, Boon Tong Kee Chicken Rice, Balestier Bak Kut Teh, Wheeler’s Yard, Whampoa Market &amp; Hawker Center and more.\\n\\nThere is variety of lifestyle amenities with Balestier Plaza &amp; Shaw Plaza just minutes’ walk away from the development.Shopping malls such as United Square Shopping Mall, , Novena Square, Square 2 @ Novena are all a short distance away from the development.\\r\\n\\r\\nZhongshan Mall and Zhongshan Park are within walking distance - less than 5 minutes walk.\\n\\nProject Highlights:\\r\\n\\r\\nFreehold\\r\\n\\r\\nMost undervalued RCR (Rest of Central Region) district\\r\\n\\r\\nHuge upside potential\\r\\n\\r\\nNext to Novena Healthcare City\\r\\n\\r\\nWalking distance to Toa Payoh and Novena MRT\\r\\n\\r\\nNear to international schools\\r\\n\\r\\nSurrounded by famous eateries\\r\\n\\r\\nMinutes walk to Balestier Plaza &amp; Shaw Plaza and Zhongshan Mall.\\r\\n\\r\\nProject Details:\\r\\n\\r\\nDeveloper: SB (Kemaman) Development Pte Ltd\\r\\n\\r\\nAddress: 3 Jalan Kemaman\\r\\n\\r\\nProperty Type: Private Condominium\\r\\n\\r\\nTenure: Freehold\\r\\n\\r\\nTotal Units: 162\\r\\n\\r\\nUnit Mix:1 bedroom, 2 bedroom, 2 bedroom  study, 2 bedroom  studio dual key, 3 bedroom, 3 bedroom (premium), 2 bedroom  studio dual key penthouse and 3 bedroom penthouse\\r\\n\\r\\nCall 96304575 Now To Enquire.</td>\n",
       "      <td>Furnishing,Unfurnished,Availability,Now,District,D12</td>\n",
       "      <td>1993 - Freehold</td>\n",
       "      <td>https://www.99.co/singapore/sale/property/kemaman-point-condo-JGZ5DFVeJPVDh2fTxDVucA</td>\n",
       "      <td>Kemaman Point</td>\n",
       "      <td>1244000.0</td>\n",
       "      <td>Condo</td>\n",
       "      <td>1959</td>\n",
       "      <td>D12</td>\n",
       "      <td>NaN</td>\n",
       "      <td>None</td>\n",
       "      <td>1993</td>\n",
       "      <td>Freehold</td>\n",
       "    </tr>\n",
       "  </tbody>\n",
       "</table>\n",
       "</div>"
      ],
      "text/plain": [
       "              address  \\\n",
       "0  12 Dairy Farm Lane   \n",
       "1  2 Shunfu Road        \n",
       "2  21 Marina Way        \n",
       "3  3 Jalan Kemaman      \n",
       "4  5 Jalan Kemaman      \n",
       "\n",
       "                                                                                                                                                                                                                                                                                                                       amenities  \\\n",
       "0  Function Room,Water Feature,High Ceiling,Gym,Jet Pool,Yoga Corner,Tennis Court,Mid Floor,Undrewater Fitness Station,Outdoor Dining,Balcony,City View,Pool View,Renovated,Hammocks,Lap Pool,Greenery View,Pool Deck,Lounge,Wading Pool,Fountain,Playground,Fitness Corner,High Floor,Security,Fibre Ready,Reflexology Path,BBQ   \n",
       "1  Jogging Track,Games Room,Gym,Sea View,Steam Room,Tennis Court,Pond,Karaoke,Balcony,Infinity Pool,Pavilion,Greenery View,Lounge,Swimming Pool,Waterfall,Playground,Fibre Ready,Reflexology Path                                                                                                                                  \n",
       "2  Clubhouse,Gym,City View,Jacuzzi,Outdoor Dining,Balcony,Multi-purpose Hall,Bomb Shelter,Pavilion,Greenery View,Pool Deck,Lounge,Mini Golf Range,Wading Pool,Hydrotherapy Pool,Fitness Corner,High Floor,Fibre Ready,Lap Pool,BBQ                                                                                                 \n",
       "3  Clubhouse,Pool Deck,Sky Lounge,Gym,Tennis Court,Parking,Undrewater Fitness Station,Outdoor Dining,Sky Terrace,Balcony,Bomb Shelter,Pavilion,Greenery View,Open Terrace,Swimming Pool,Spa Pool,Playground,Fitness Corner,High Floor,Security,Fibre Ready,Lap Pool,BBQ                                                            \n",
       "4  Clubhouse,Bomb Shelter,Greenery View,Swimming Pool,Wading Pool,Squash Court,Parking,High Floor,Security,Fibre Ready,Gym,Balcony                                                                                                                                                                                                 \n",
       "\n",
       "   area  bathrooms  bedrooms  \\\n",
       "0  624   2.0        2.0        \n",
       "1  764  NaN        NaN         \n",
       "2  710   2.0        1.0        \n",
       "3  441   1.0        1.0        \n",
       "4  635   1.0        2.0        \n",
       "\n",
       "                                                                                                                                                                                                                                                                                                                                                                                                                                                                                                                                                                                                                                                                                                                                                                                                                                                                                                                                                                                                                                                                                                                                                                                                                                                                                                                                                                                                                                                                                                                                                                                                                                                                                                                                                                                                                                                                                                                                                                                                                                                                                                                                                                                                                                                                                                                                                                                                                                                                                                                                                                                                                                                                                                                                                                                                                                                                                                                                                                                                                                                                                                                                                                                                                                                                                                                                                                                                                                                                                                                                                                                                                                                                                                                                                                                                                                                                                                                                                                                                                                                                                                                                                                                                                                                                                                                                                                                                                                                                                                                                                                                                                                                      description  \\\n",
       "0  DAIRY FARM RESIDENCES – BRIEF\\nOur development concept is derived from a self-contained complete life symbolised by a full circle. Without a start or an end, it signifies “infinity”, representing the endless possibilities one can enjoy in this integrated development. Here, you see a complete life at Dairy Farm Residences made up of 3 worlds: Nature. Retail. Home.\\nOccupying a site area of approximately 20,000 sqm, Dairy Farm Residences is the first unique integrated development in the Dairy Farm vicinity with two levels of retail (ground floor and basement 1). There will be a gourmet supermarket, a food hall, a childcare centre, food and beverage and retail shops offering a one stop convenience at the doorstep to residents and people living within the vicinity.\\nLocated along Petir Road and Dairy Farm Road, there is unparallel connectivity via the Bukit Timah Expressway (BKE) and Upper Bukit Timah Road. Within just a kilometer from Hillview MRT on the Downtown Line, the development is highly accessible, close to prestigious schools and retail amenities, bringing together all of life’s essentials and pleasures under one roof. Aside from a conveniently located bus stop at Petir Road, there will also be a shuttle bus service from Dairy Farm Residences to Hillview & Bukit Panjang MRT stations.\\nDairy Farm Residences is conveniently connected by cycling and pedestrian networks within the Western Adventure Loop and Rail Corridor (Central) of the Park Connector Network. With its close proximity to Dairy Farm Nature Park, Bukit Timah Nature Reserve, Zhenghua Nature Park, Chestnut Nature Park and Central Catchment Nature Reserve, Dairy Farm Residences is within the heart of the city’s most forested enclave; offering a true retreat from the hustle and bustle of urban Singapore,.\\nRepresenting living in harmony at its finest in a peaceful and calm environment surrounded by floral pleasure of greenery, Dairy Farm Residences offers 460 luxurious residential homes. Arranged in two exclusive 15-storey and two 5-storey towers, Dairy Farm Residences offers a choice of spacious 2, 3 and 4 bedroom layouts with the 2 bedroom units ranging from 624 to 775 sqft; the 3 bedroom 915 to 1,313 sqft and 4 bedroom 1,335 to 1,475 sqft. To safeguard residents’ privacy, the residential towers are segregated from the commercial podium. Separate car park spaces are provisioned in the basement levels. Vehicular and pedestrian access will be from Dairy Farm Lane.\\nEach unit will have extending balconies that welcome the essence of nature blending seamlessly into the home. Homes on the upper floors will enjoy spectacular picturesque views of the Bukit Timah Nature Park to the west and the Central Catchment Nature Reserve and Upper Pierce Reservoir to the east.\\nInspired by wood grain patterns, the recreational zones are artistically stacked into levels that form The Woods, The Canopy and The Oasis. The infinity pool will have an undisrupted panoramic view of the surrounding nature, creating a unique experience of swimming in the sky. Located underneath the pool are pockets of intimate spaces such as function rooms, spa and gymnasium, effectively articulating subtle characters of the timber and transforming it into three-dimensional and unique spaces.\\nAs the development has a large ratio of home to communal space, Dairy Farm Residences has the aspects of resort living within nature, a modern escape into the woods. To create a sense of space where residents can feel they have entered a realm of tranquility and comfort, other facilities include a an elegantly appointed multi-purpose clubhouse, 50m lap pool, all day dining spaces, barbeque pits, tennis court, sun deck and bespoke lifestyle pavilions. By allowing the residents to interact with the woods outside and within the development, we aim to offer an immersive experience of the woods; allowing residents to feel a sense of solitude and comfort being away from the busy outside world.\\nDairy Farm Residences is also a residential development with a strong environmental conscience that actively embraces a sustainable way of living. A BCA’s Green Mark Gold Plus development and adopting a green and low energy approach, 90% of the units are in north–south orientation to reduce solar heat gain; while others will enjoy stunning pool views.\\nIt’s time to discover a complete life at the Dairy Farm Residences.                                            http://virtualtours.sg/tours/dairyfarm/   \n",
       "1  Jadescape (Former Shunfu Ville)\\r\\n\\r\\nJadescape is situated along Shunfu Road, within close proximity to Bishan and Upper Thomson\\r\\n\\r\\nWide range of 613 units from 1 BR to 5 BR for different needs and budget\\r\\n\\r\\nApproximately 7 minutes walk to Marymount MRT Station. Also within close proximity to the upcoming Thomson-East Coast Line station\\r\\n\\r\\nClose proximity to various famous eateries and reputable schools like Raffles Institution and Catholic High\\r\\n\\r\\nGood unit mix of 1 bedrooms to 5 bedroom units to suit different needs.\\r\\n\\r\\nCall 88228988 Now To Enquire.                                                                                                                                                                                                                                                                                                                                                                                                                                                                                                                                                                                                                                                                                                                                                                                                                                                                                                                                                                                                                                                                                                                                                                                                                                                                                                                                                                                                                                                                                                                                                                                                                                                                                                                                                                                                                                                                                                                                                                                                                                                                                                                                                                                                                                                                                                                                                                                                                                                                                                                                                                                                                                                                                                                                                                                                                                                                                                                                                                                                                                                                                                                                                                                                                                                                                                                                                                                                                                                                                                                                                                                                                                                                                                                                                                                                                                                                                                                                                                                                                                                              \n",
       "2  Prices dropped. Hurry! \\nBrought to you by M+S. \\n\\nWith 4 MRT stations to choose from, reaching out to the corners of Singapore has never been easier. \\n\\nMarina One, being flank by 2 parks namely: Central Linear Park & Marina South Station Park, provides the greenery and open space for families to enjoy the outdoor activities right in the city. \\n\\nWith it's unique architectural design, The Heart @ Marina One will be an amazing feature within the development. \\n\\nMany luxury restaurants, retail shops situated within The Heart @ Marina One. \\n\\nCity living has never been so convenient, with the many amenities available within the vicinity.                                                                                                                                                                                                                                                                                                                                                                                                                                                                                                                                                                                                                                                                                                                                                                                                                                                                                                                                                                                                                                                                                                                                                                                                                                                                                                                                                                                                                                                                                                                                                                                                                                                                                                                                                                                                                                                                                                                                                                                                                                                                                                                                                                                                                                                                                                                                                                                                                                                                                                                                                                                                                                                                                                                                                                                                                                                                                                                                                                                                                                                                                                                                                                                                                                                                                                                                                                                                                                                                                                                                                                                                                                                                                                                                                                                                                                                                                                                                                                                         \n",
       "3  VERTICUS – DISTRICT 12 – JALAN KEMAMAN\\r\\n\\r\\nLocated in the most undervalued RCR (Rest of Central Region) district, Verticus is a freehold development by SB (Kemaman) Development Pte Ltd. This development comprises of 162 units with a unit mix of 1 bedroom, 2 bedroom, 2 bedroom   study, 2 bedroom   studio dual key, 3 bedroom, 3 bedroom (premium), 2 bedroom   studio key penthouse, 3 bedroom penthouse and 4 bedroom penthouse.\\r\\n\\r\\nVerticus is just next to Novena healthcare city and is within walking distance to Toa Payoh and Novena MRT station.Residents would be able to enjoy a wide selection of F&B options as the development is surrounded by famous eateries such as Balestier Market Food Court, Boon Tong Kee, Balestier Bak Kut Teh, Wheeler’s Yard, Whampoa Market & Food Centre and more.\\r\\n\\r\\nThere is variety of lifestyle amenities with Balestier Plaza & Shaw Plaza just minutes’ walk away from the development.Shopping malls such as United Square Shopping Mall, , Novena Square, Square 2 @ Novena are all a short distance away from the development.\\r\\n\\r\\nZhongshan Mall and Zhongshan Park are within walking distance - less than 5 minutes walk.\\n\\nProject Highlights:\\r\\n\\r\\nFreehold\\r\\n\\r\\nMost undervalued RCR (Rest of Central Region) district\\r\\n\\r\\nHuge upside potential\\r\\n\\r\\nNext to Novena Healthcare City\\r\\n\\r\\nWalking distance to Toa Payoh and Novena MRT\\r\\n\\r\\nNear to international schools\\r\\n\\r\\nSurrounded by famous eateries\\r\\n\\r\\n\\nMinutes walk to Balestier Plaza & Shaw Plaza and Zhongshan Mall.\\r\\n\\r\\nProject Details:\\r\\n\\r\\nDeveloper: SB (Kemaman) Development Pte Ltd\\r\\n\\r\\nAddress: 3 Jalan Kemaman\\r\\n\\r\\nProperty Type: Private Condominium\\r\\n\\r\\nTenure: Freehold\\r\\n\\r\\nTotal Units: 162\\r\\n\\r\\nUnit Mix:1 bedroom, 2 bedroom, 2 bedroom   study, 2 bedroom   studio dual key, 3 bedroom, 3 bedroom (premium), 2 bedroom   studio dual key penthouse and 3 bedroom penthouse\\r\\n\\r\\nCall 96304575 Now To Enquire.                                                                                                                                                                                                                                                                                                                                                                                                                                                                                                                                                                                                                                                                                                                                                                                                                                                                                                                                                                                                                                                                                                                                                                                                                                                                                                                                                                                                                                                                                                                                                                                                                                                                                                                                                                                                                                                                                                                                                                                                                                                                                                                                                                                                                                                                                                                                                                                                                                                                                                                                                                                                                                            \n",
       "4  VERTICUS – FREEHOLD at DISTRICT 12 – JALAN KEMAMAN\\r\\n\\r\\nLocated in the most undervalued RCR (Rest of Central Region) district, Verticus is a freehold development by SB (Kemaman) Development Pte Ltd. \\n\\nThis development comprises of 162 units with a unit mix of 1 bedroom, 2 bedroom, 2 bedroom  study, 2 bedroom  studio dual key, 3 bedroom, 3 bedroom (premium), 2 bedroom  studio dual key penthouse, 3 bedroom penthouse and 4 bedroom penthouse.\\r\\n\\r\\nVerticus is just next to Health City Novena (great tenant pool) and is within walking distance to Toa Payoh and Novena MRT station.\\n\\nHuge land plot with condominium facilities located at city fringe, comfortably tucked away in the folds Balestier’s serenity.\\n\\nResidents would be able to enjoy a wide selection of F&B options as the development is surrounded by famous eateries such as Balestier Market Food Court, Boon Tong Kee Chicken Rice, Balestier Bak Kut Teh, Wheeler’s Yard, Whampoa Market & Hawker Center and more.\\n\\nThere is variety of lifestyle amenities with Balestier Plaza & Shaw Plaza just minutes’ walk away from the development.Shopping malls such as United Square Shopping Mall, , Novena Square, Square 2 @ Novena are all a short distance away from the development.\\r\\n\\r\\nZhongshan Mall and Zhongshan Park are within walking distance - less than 5 minutes walk.\\n\\nProject Highlights:\\r\\n\\r\\nFreehold\\r\\n\\r\\nMost undervalued RCR (Rest of Central Region) district\\r\\n\\r\\nHuge upside potential\\r\\n\\r\\nNext to Novena Healthcare City\\r\\n\\r\\nWalking distance to Toa Payoh and Novena MRT\\r\\n\\r\\nNear to international schools\\r\\n\\r\\nSurrounded by famous eateries\\r\\n\\r\\nMinutes walk to Balestier Plaza & Shaw Plaza and Zhongshan Mall.\\r\\n\\r\\nProject Details:\\r\\n\\r\\nDeveloper: SB (Kemaman) Development Pte Ltd\\r\\n\\r\\nAddress: 3 Jalan Kemaman\\r\\n\\r\\nProperty Type: Private Condominium\\r\\n\\r\\nTenure: Freehold\\r\\n\\r\\nTotal Units: 162\\r\\n\\r\\nUnit Mix:1 bedroom, 2 bedroom, 2 bedroom  study, 2 bedroom  studio dual key, 3 bedroom, 3 bedroom (premium), 2 bedroom  studio dual key penthouse and 3 bedroom penthouse\\r\\n\\r\\nCall 96304575 Now To Enquire.                                                                                                                                                                                                                                                                                                                                                                                                                                                                                                                                                                                                                                                                                                                                                                                                                                                                                                                                                                                                                                                                                                                                                                                                                                                                                                                                                                                                                                                                                                                                                                                                                                                                                                                                                                                                                                                                                                                                                                                                                                                                                                                                                                                                                                                                                                                                                                                                                                                               \n",
       "\n",
       "                                                                   details  \\\n",
       "0  Facing,North South,District,D23                                           \n",
       "1  Furnishing,Unfurnished,Facing,North South,Availability,Now,District,D20   \n",
       "2  Facing,South West,Availability,Now,District,D01                           \n",
       "3  Furnishing,Unfurnished,Facing,North South,Availability,Now,District,D12   \n",
       "4  Furnishing,Unfurnished,Availability,Now,District,D12                      \n",
       "\n",
       "             lease  \\\n",
       "0  2024 - 99 years   \n",
       "1  2023 - 99 years   \n",
       "2  2018 - 99 years   \n",
       "3   - Freehold       \n",
       "4  1993 - Freehold   \n",
       "\n",
       "                                                                                           link  \\\n",
       "0  https://www.99.co/singapore/sale/property/dairy-farm-residences-condo-CB4Rz6Sdfb4FvgoKYrBnhJ   \n",
       "1  https://www.99.co/singapore/sale/property/jadescape-condo-yhBy3rdA3sJag26VNCoWHh               \n",
       "2  https://www.99.co/singapore/sale/property/marina-one-residences-condo-epsbRyicZT9cQT8vTAToF    \n",
       "3  https://www.99.co/singapore/sale/property/verticus-condo-NoPhGyiiym5Uqwn35txcKU                \n",
       "4  https://www.99.co/singapore/sale/property/kemaman-point-condo-JGZ5DFVeJPVDh2fTxDVucA           \n",
       "\n",
       "                    name      price property_type  psf_price district  \\\n",
       "0  Dairy Farm Residences  969000.0   Condo         1553       D23       \n",
       "1  JadeScape              1275408.0  Condo         1669       D20       \n",
       "2  Marina One Residences  1580000.0  Condo         2225       D1        \n",
       "3  Verticus               889000.0   Condo         2016       D12       \n",
       "4  Kemaman Point          1244000.0  Condo         1959       D12       \n",
       "\n",
       "  floor_type floor   TOP lease_duration  \n",
       "0  NaN        None  2024  99 years       \n",
       "1  NaN        None  2023  99 years       \n",
       "2  NaN        None  2018  99 years       \n",
       "3  NaN        None        Freehold       \n",
       "4  NaN        None  1993  Freehold       "
      ]
     },
     "execution_count": 109,
     "metadata": {},
     "output_type": "execute_result"
    }
   ],
   "source": [
    "test_df"
   ]
  },
  {
   "cell_type": "code",
   "execution_count": 110,
   "metadata": {
    "ExecuteTime": {
     "end_time": "2020-04-11T05:46:59.326401Z",
     "start_time": "2020-04-11T05:46:58.530568Z"
    }
   },
   "outputs": [
    {
     "data": {
      "text/plain": [
       "('Dairy Farm Lane, Dairy Farm, Northwest, 677621, Singapore',\n",
       " 1.3659306,\n",
       " 103.7735731)"
      ]
     },
     "execution_count": 110,
     "metadata": {},
     "output_type": "execute_result"
    }
   ],
   "source": [
    "return_lat_lon('12 Dairy Farm Lane')"
   ]
  },
  {
   "cell_type": "code",
   "execution_count": 122,
   "metadata": {
    "ExecuteTime": {
     "end_time": "2020-04-11T05:53:00.222328Z",
     "start_time": "2020-04-11T05:53:00.214350Z"
    }
   },
   "outputs": [],
   "source": [
    "test_df2 = pd.DataFrame(columns=['full_address','latitude','longitude'])"
   ]
  },
  {
   "cell_type": "code",
   "execution_count": null,
   "metadata": {},
   "outputs": [],
   "source": []
  },
  {
   "cell_type": "code",
   "execution_count": 123,
   "metadata": {
    "ExecuteTime": {
     "end_time": "2020-04-11T05:53:18.172200Z",
     "start_time": "2020-04-11T05:53:13.870705Z"
    }
   },
   "outputs": [],
   "source": [
    "test_df2 = test_df2.append(test_df.address.apply(return_lat_lon))"
   ]
  },
  {
   "cell_type": "code",
   "execution_count": 124,
   "metadata": {
    "ExecuteTime": {
     "end_time": "2020-04-11T05:53:19.193092Z",
     "start_time": "2020-04-11T05:53:19.182119Z"
    }
   },
   "outputs": [
    {
     "data": {
      "text/html": [
       "<div>\n",
       "<style scoped>\n",
       "    .dataframe tbody tr th:only-of-type {\n",
       "        vertical-align: middle;\n",
       "    }\n",
       "\n",
       "    .dataframe tbody tr th {\n",
       "        vertical-align: top;\n",
       "    }\n",
       "\n",
       "    .dataframe thead th {\n",
       "        text-align: right;\n",
       "    }\n",
       "</style>\n",
       "<table border=\"1\" class=\"dataframe\">\n",
       "  <thead>\n",
       "    <tr style=\"text-align: right;\">\n",
       "      <th></th>\n",
       "      <th>full_address</th>\n",
       "      <th>latitude</th>\n",
       "      <th>longitude</th>\n",
       "      <th>0</th>\n",
       "      <th>1</th>\n",
       "      <th>2</th>\n",
       "      <th>3</th>\n",
       "      <th>4</th>\n",
       "    </tr>\n",
       "  </thead>\n",
       "  <tbody>\n",
       "    <tr>\n",
       "      <td>address</td>\n",
       "      <td>NaN</td>\n",
       "      <td>NaN</td>\n",
       "      <td>NaN</td>\n",
       "      <td>[Dairy Farm Lane, Dairy Farm, Northwest, 677621, Singapore, 1.3659306, 103.7735731]</td>\n",
       "      <td>[Shunfu Road, Ang Mo Kio Neighbourhood Marker Sign, Sin Ming, Singapore, Central, 575629, Singapore, 1.353224, 103.8360152]</td>\n",
       "      <td>[Marina Way, Chinatown, Shenton Way, Singapore, Central, 018935, Singapore, 1.2771432, 103.8538859]</td>\n",
       "      <td>[Jalan Kemaman, Balestier, Singapore, Central, 329325, Singapore, 1.3273179, 103.8511507]</td>\n",
       "      <td>[5, Jalan Kemaman, Balestier, Singapore, Central, 329325, Singapore, 1.3264358, 103.85074522057057]</td>\n",
       "    </tr>\n",
       "  </tbody>\n",
       "</table>\n",
       "</div>"
      ],
      "text/plain": [
       "        full_address latitude longitude  \\\n",
       "address  NaN          NaN      NaN        \n",
       "\n",
       "                                                                                           0  \\\n",
       "address  [Dairy Farm Lane, Dairy Farm, Northwest, 677621, Singapore, 1.3659306, 103.7735731]   \n",
       "\n",
       "                                                                                                                                   1  \\\n",
       "address  [Shunfu Road, Ang Mo Kio Neighbourhood Marker Sign, Sin Ming, Singapore, Central, 575629, Singapore, 1.353224, 103.8360152]   \n",
       "\n",
       "                                                                                                           2  \\\n",
       "address  [Marina Way, Chinatown, Shenton Way, Singapore, Central, 018935, Singapore, 1.2771432, 103.8538859]   \n",
       "\n",
       "                                                                                                 3  \\\n",
       "address  [Jalan Kemaman, Balestier, Singapore, Central, 329325, Singapore, 1.3273179, 103.8511507]   \n",
       "\n",
       "                                                                                                           4  \n",
       "address  [5, Jalan Kemaman, Balestier, Singapore, Central, 329325, Singapore, 1.3264358, 103.85074522057057]  "
      ]
     },
     "execution_count": 124,
     "metadata": {},
     "output_type": "execute_result"
    }
   ],
   "source": [
    "test_df2"
   ]
  },
  {
   "cell_type": "code",
   "execution_count": 174,
   "metadata": {
    "ExecuteTime": {
     "end_time": "2020-04-11T07:08:29.976057Z",
     "start_time": "2020-04-11T07:08:29.972068Z"
    }
   },
   "outputs": [],
   "source": []
  },
  {
   "cell_type": "code",
   "execution_count": 171,
   "metadata": {
    "ExecuteTime": {
     "end_time": "2020-04-11T07:05:14.117009Z",
     "start_time": "2020-04-11T07:05:09.998219Z"
    }
   },
   "outputs": [],
   "source": [
    "a = test_df.address.apply(return_lat_lon)"
   ]
  },
  {
   "cell_type": "code",
   "execution_count": 192,
   "metadata": {
    "ExecuteTime": {
     "end_time": "2020-04-11T07:18:29.779097Z",
     "start_time": "2020-04-11T07:18:29.773146Z"
    }
   },
   "outputs": [],
   "source": [
    "a=pd.DataFrame(columns=['a','b','c'])"
   ]
  },
  {
   "cell_type": "code",
   "execution_count": 199,
   "metadata": {
    "ExecuteTime": {
     "end_time": "2020-04-11T07:19:26.644680Z",
     "start_time": "2020-04-11T07:19:26.639692Z"
    }
   },
   "outputs": [],
   "source": [
    "a=pd.DataFrame()"
   ]
  },
  {
   "cell_type": "code",
   "execution_count": 176,
   "metadata": {
    "ExecuteTime": {
     "end_time": "2020-04-11T07:11:17.966279Z",
     "start_time": "2020-04-11T07:11:13.762593Z"
    }
   },
   "outputs": [],
   "source": [
    "a['a'],a['b'],a['c'] = zip(*test_df.address.apply(return_lat_lon))"
   ]
  },
  {
   "cell_type": "code",
   "execution_count": 177,
   "metadata": {
    "ExecuteTime": {
     "end_time": "2020-04-11T07:11:21.792622Z",
     "start_time": "2020-04-11T07:11:21.786637Z"
    }
   },
   "outputs": [
    {
     "data": {
      "text/plain": [
       "0    [Dairy Farm Lane, Dairy Farm, Northwest, 677621, Singapore, 1.3659306, 103.7735731]                                                                                                                                                                                                                                                                                            \n",
       "1    [Shunfu Road, Ang Mo Kio Neighbourhood Marker Sign, Sin Ming, Singapore, Central, 575629, Singapore, 1.353224, 103.8360152]                                                                                                                                                                                                                                                    \n",
       "2    [Marina Way, Chinatown, Shenton Way, Singapore, Central, 018935, Singapore, 1.2771432, 103.8538859]                                                                                                                                                                                                                                                                            \n",
       "3    [Jalan Kemaman, Balestier, Singapore, Central, 329325, Singapore, 1.3273179, 103.8511507]                                                                                                                                                                                                                                                                                      \n",
       "4    [5, Jalan Kemaman, Balestier, Singapore, Central, 329325, Singapore, 1.3264358, 103.85074522057057]                                                                                                                                                                                                                                                                            \n",
       "a    (Dairy Farm Lane, Dairy Farm, Northwest, 677621, Singapore, Shunfu Road, Ang Mo Kio Neighbourhood Marker Sign, Sin Ming, Singapore, Central, 575629, Singapore, Marina Way, Chinatown, Shenton Way, Singapore, Central, 018935, Singapore, Jalan Kemaman, Balestier, Singapore, Central, 329325, Singapore, 5, Jalan Kemaman, Balestier, Singapore, Central, 329325, Singapore)\n",
       "b    (1.3659306, 1.353224, 1.2771432, 1.3273179, 1.3264358)                                                                                                                                                                                                                                                                                                                         \n",
       "c    (103.7735731, 103.8360152, 103.8538859, 103.8511507, 103.85074522057057)                                                                                                                                                                                                                                                                                                       \n",
       "Name: address, dtype: object"
      ]
     },
     "execution_count": 177,
     "metadata": {},
     "output_type": "execute_result"
    }
   ],
   "source": [
    "a"
   ]
  },
  {
   "cell_type": "code",
   "execution_count": 194,
   "metadata": {
    "ExecuteTime": {
     "end_time": "2020-04-11T07:18:43.229512Z",
     "start_time": "2020-04-11T07:18:38.973636Z"
    }
   },
   "outputs": [],
   "source": [
    "a.loc[:,'a'],a.loc[:,'b'],a.loc[:,'c'] = zip(*test_df['address'].apply(lambda x: return_lat_lon(x)))"
   ]
  },
  {
   "cell_type": "code",
   "execution_count": 200,
   "metadata": {
    "ExecuteTime": {
     "end_time": "2020-04-11T07:19:33.253398Z",
     "start_time": "2020-04-11T07:19:29.051602Z"
    }
   },
   "outputs": [],
   "source": []
  },
  {
   "cell_type": "code",
   "execution_count": 201,
   "metadata": {
    "ExecuteTime": {
     "end_time": "2020-04-11T07:19:37.459716Z",
     "start_time": "2020-04-11T07:19:37.450765Z"
    }
   },
   "outputs": [
    {
     "data": {
      "text/html": [
       "<div>\n",
       "<style scoped>\n",
       "    .dataframe tbody tr th:only-of-type {\n",
       "        vertical-align: middle;\n",
       "    }\n",
       "\n",
       "    .dataframe tbody tr th {\n",
       "        vertical-align: top;\n",
       "    }\n",
       "\n",
       "    .dataframe thead th {\n",
       "        text-align: right;\n",
       "    }\n",
       "</style>\n",
       "<table border=\"1\" class=\"dataframe\">\n",
       "  <thead>\n",
       "    <tr style=\"text-align: right;\">\n",
       "      <th></th>\n",
       "      <th>a</th>\n",
       "      <th>b</th>\n",
       "      <th>c</th>\n",
       "    </tr>\n",
       "  </thead>\n",
       "  <tbody>\n",
       "    <tr>\n",
       "      <td>0</td>\n",
       "      <td>Dairy Farm Lane, Dairy Farm, Northwest, 677621, Singapore</td>\n",
       "      <td>1.365931</td>\n",
       "      <td>103.773573</td>\n",
       "    </tr>\n",
       "    <tr>\n",
       "      <td>1</td>\n",
       "      <td>Shunfu Road, Ang Mo Kio Neighbourhood Marker Sign, Sin Ming, Singapore, Central, 575629, Singapore</td>\n",
       "      <td>1.353224</td>\n",
       "      <td>103.836015</td>\n",
       "    </tr>\n",
       "    <tr>\n",
       "      <td>2</td>\n",
       "      <td>Marina Way, Chinatown, Shenton Way, Singapore, Central, 018935, Singapore</td>\n",
       "      <td>1.277143</td>\n",
       "      <td>103.853886</td>\n",
       "    </tr>\n",
       "    <tr>\n",
       "      <td>3</td>\n",
       "      <td>Jalan Kemaman, Balestier, Singapore, Central, 329325, Singapore</td>\n",
       "      <td>1.327318</td>\n",
       "      <td>103.851151</td>\n",
       "    </tr>\n",
       "    <tr>\n",
       "      <td>4</td>\n",
       "      <td>5, Jalan Kemaman, Balestier, Singapore, Central, 329325, Singapore</td>\n",
       "      <td>1.326436</td>\n",
       "      <td>103.850745</td>\n",
       "    </tr>\n",
       "  </tbody>\n",
       "</table>\n",
       "</div>"
      ],
      "text/plain": [
       "                                                                                                    a  \\\n",
       "0  Dairy Farm Lane, Dairy Farm, Northwest, 677621, Singapore                                            \n",
       "1  Shunfu Road, Ang Mo Kio Neighbourhood Marker Sign, Sin Ming, Singapore, Central, 575629, Singapore   \n",
       "2  Marina Way, Chinatown, Shenton Way, Singapore, Central, 018935, Singapore                            \n",
       "3  Jalan Kemaman, Balestier, Singapore, Central, 329325, Singapore                                      \n",
       "4  5, Jalan Kemaman, Balestier, Singapore, Central, 329325, Singapore                                   \n",
       "\n",
       "          b           c  \n",
       "0  1.365931  103.773573  \n",
       "1  1.353224  103.836015  \n",
       "2  1.277143  103.853886  \n",
       "3  1.327318  103.851151  \n",
       "4  1.326436  103.850745  "
      ]
     },
     "execution_count": 201,
     "metadata": {},
     "output_type": "execute_result"
    }
   ],
   "source": [
    "a"
   ]
  },
  {
   "cell_type": "code",
   "execution_count": 129,
   "metadata": {
    "ExecuteTime": {
     "end_time": "2020-04-11T06:02:25.608248Z",
     "start_time": "2020-04-11T06:02:21.455634Z"
    }
   },
   "outputs": [
    {
     "ename": "ValueError",
     "evalue": "too many values to unpack (expected 2)",
     "output_type": "error",
     "traceback": [
      "\u001b[1;31m---------------------------------------------------------------------------\u001b[0m",
      "\u001b[1;31mValueError\u001b[0m                                Traceback (most recent call last)",
      "\u001b[1;32m<ipython-input-129-3ca2d0e36f42>\u001b[0m in \u001b[0;36m<module>\u001b[1;34m\u001b[0m\n\u001b[1;32m----> 1\u001b[1;33m \u001b[0maddr\u001b[0m\u001b[1;33m,\u001b[0m\u001b[1;33m(\u001b[0m\u001b[0mlat\u001b[0m\u001b[1;33m,\u001b[0m\u001b[0mlon\u001b[0m\u001b[1;33m)\u001b[0m\u001b[1;33m=\u001b[0m\u001b[0mtest_df\u001b[0m\u001b[1;33m.\u001b[0m\u001b[0maddress\u001b[0m\u001b[1;33m.\u001b[0m\u001b[0mmap\u001b[0m\u001b[1;33m(\u001b[0m\u001b[1;32mlambda\u001b[0m \u001b[0mx\u001b[0m\u001b[1;33m:\u001b[0m \u001b[0mgeolocator\u001b[0m\u001b[1;33m.\u001b[0m\u001b[0mgeocode\u001b[0m\u001b[1;33m(\u001b[0m\u001b[0mx\u001b[0m\u001b[1;33m,\u001b[0m\u001b[0mcountry_codes\u001b[0m\u001b[1;33m=\u001b[0m\u001b[1;34m'SG'\u001b[0m\u001b[1;33m)\u001b[0m\u001b[1;33m)\u001b[0m\u001b[1;33m\u001b[0m\u001b[1;33m\u001b[0m\u001b[0m\n\u001b[0m",
      "\u001b[1;31mValueError\u001b[0m: too many values to unpack (expected 2)"
     ]
    }
   ],
   "source": [
    "addr,(lat,lon)=test_df.address.map(lambda x: geolocator.geocode(x,country_codes='SG'))"
   ]
  },
  {
   "cell_type": "code",
   "execution_count": 121,
   "metadata": {
    "ExecuteTime": {
     "end_time": "2020-04-11T05:52:22.701157Z",
     "start_time": "2020-04-11T05:52:22.696171Z"
    }
   },
   "outputs": [
    {
     "data": {
      "text/plain": [
       "0    Dairy Farm Lane, Dairy Farm, Northwest, 677621, Singapore                                         \n",
       "1    Shunfu Road, Ang Mo Kio Neighbourhood Marker Sign, Sin Ming, Singapore, Central, 575629, Singapore\n",
       "2    Marina Way, Chinatown, Shenton Way, Singapore, Central, 018935, Singapore                         \n",
       "3    Jalan Kemaman, Balestier, Singapore, Central, 329325, Singapore                                   \n",
       "4    5, Jalan Kemaman, Balestier, Singapore, Central, 329325, Singapore                                \n",
       "Name: address, dtype: object"
      ]
     },
     "execution_count": 121,
     "metadata": {},
     "output_type": "execute_result"
    }
   ],
   "source": [
    "test_df2.apply(lambda x: x[0])"
   ]
  },
  {
   "cell_type": "code",
   "execution_count": 116,
   "metadata": {
    "ExecuteTime": {
     "end_time": "2020-04-11T05:50:48.714047Z",
     "start_time": "2020-04-11T05:50:48.697091Z"
    }
   },
   "outputs": [
    {
     "ename": "KeyError",
     "evalue": "\"None of [Index(['full_address', 'latitude', 'longitude'], dtype='object')] are in the [columns]\"",
     "output_type": "error",
     "traceback": [
      "\u001b[1;31m---------------------------------------------------------------------------\u001b[0m",
      "\u001b[1;31mKeyError\u001b[0m                                  Traceback (most recent call last)",
      "\u001b[1;32m<ipython-input-116-b0c042373c78>\u001b[0m in \u001b[0;36m<module>\u001b[1;34m\u001b[0m\n\u001b[1;32m----> 1\u001b[1;33m \u001b[0mtest_df\u001b[0m\u001b[1;33m[\u001b[0m\u001b[1;33m[\u001b[0m\u001b[1;34m'full_address'\u001b[0m\u001b[1;33m,\u001b[0m \u001b[1;34m'latitude'\u001b[0m\u001b[1;33m,\u001b[0m \u001b[1;34m'longitude'\u001b[0m\u001b[1;33m]\u001b[0m\u001b[1;33m]\u001b[0m \u001b[1;33m=\u001b[0m \u001b[1;33m[\u001b[0m\u001b[1;36m1\u001b[0m\u001b[1;33m,\u001b[0m\u001b[1;36m2\u001b[0m\u001b[1;33m,\u001b[0m\u001b[1;36m3\u001b[0m\u001b[1;33m]\u001b[0m\u001b[1;33m\u001b[0m\u001b[1;33m\u001b[0m\u001b[0m\n\u001b[0m",
      "\u001b[1;32m~\\AppData\\Local\\Continuum\\anaconda3\\lib\\site-packages\\pandas\\core\\frame.py\u001b[0m in \u001b[0;36m__setitem__\u001b[1;34m(self, key, value)\u001b[0m\n\u001b[0;32m   3467\u001b[0m             \u001b[0mself\u001b[0m\u001b[1;33m.\u001b[0m\u001b[0m_setitem_frame\u001b[0m\u001b[1;33m(\u001b[0m\u001b[0mkey\u001b[0m\u001b[1;33m,\u001b[0m \u001b[0mvalue\u001b[0m\u001b[1;33m)\u001b[0m\u001b[1;33m\u001b[0m\u001b[1;33m\u001b[0m\u001b[0m\n\u001b[0;32m   3468\u001b[0m         \u001b[1;32melif\u001b[0m \u001b[0misinstance\u001b[0m\u001b[1;33m(\u001b[0m\u001b[0mkey\u001b[0m\u001b[1;33m,\u001b[0m \u001b[1;33m(\u001b[0m\u001b[0mSeries\u001b[0m\u001b[1;33m,\u001b[0m \u001b[0mnp\u001b[0m\u001b[1;33m.\u001b[0m\u001b[0mndarray\u001b[0m\u001b[1;33m,\u001b[0m \u001b[0mlist\u001b[0m\u001b[1;33m,\u001b[0m \u001b[0mIndex\u001b[0m\u001b[1;33m)\u001b[0m\u001b[1;33m)\u001b[0m\u001b[1;33m:\u001b[0m\u001b[1;33m\u001b[0m\u001b[1;33m\u001b[0m\u001b[0m\n\u001b[1;32m-> 3469\u001b[1;33m             \u001b[0mself\u001b[0m\u001b[1;33m.\u001b[0m\u001b[0m_setitem_array\u001b[0m\u001b[1;33m(\u001b[0m\u001b[0mkey\u001b[0m\u001b[1;33m,\u001b[0m \u001b[0mvalue\u001b[0m\u001b[1;33m)\u001b[0m\u001b[1;33m\u001b[0m\u001b[1;33m\u001b[0m\u001b[0m\n\u001b[0m\u001b[0;32m   3470\u001b[0m         \u001b[1;32melse\u001b[0m\u001b[1;33m:\u001b[0m\u001b[1;33m\u001b[0m\u001b[1;33m\u001b[0m\u001b[0m\n\u001b[0;32m   3471\u001b[0m             \u001b[1;31m# set column\u001b[0m\u001b[1;33m\u001b[0m\u001b[1;33m\u001b[0m\u001b[1;33m\u001b[0m\u001b[0m\n",
      "\u001b[1;32m~\\AppData\\Local\\Continuum\\anaconda3\\lib\\site-packages\\pandas\\core\\frame.py\u001b[0m in \u001b[0;36m_setitem_array\u001b[1;34m(self, key, value)\u001b[0m\n\u001b[0;32m   3494\u001b[0m                     \u001b[0mself\u001b[0m\u001b[1;33m[\u001b[0m\u001b[0mk1\u001b[0m\u001b[1;33m]\u001b[0m \u001b[1;33m=\u001b[0m \u001b[0mvalue\u001b[0m\u001b[1;33m[\u001b[0m\u001b[0mk2\u001b[0m\u001b[1;33m]\u001b[0m\u001b[1;33m\u001b[0m\u001b[1;33m\u001b[0m\u001b[0m\n\u001b[0;32m   3495\u001b[0m             \u001b[1;32melse\u001b[0m\u001b[1;33m:\u001b[0m\u001b[1;33m\u001b[0m\u001b[1;33m\u001b[0m\u001b[0m\n\u001b[1;32m-> 3496\u001b[1;33m                 \u001b[0mindexer\u001b[0m \u001b[1;33m=\u001b[0m \u001b[0mself\u001b[0m\u001b[1;33m.\u001b[0m\u001b[0mloc\u001b[0m\u001b[1;33m.\u001b[0m\u001b[0m_convert_to_indexer\u001b[0m\u001b[1;33m(\u001b[0m\u001b[0mkey\u001b[0m\u001b[1;33m,\u001b[0m \u001b[0maxis\u001b[0m\u001b[1;33m=\u001b[0m\u001b[1;36m1\u001b[0m\u001b[1;33m)\u001b[0m\u001b[1;33m\u001b[0m\u001b[1;33m\u001b[0m\u001b[0m\n\u001b[0m\u001b[0;32m   3497\u001b[0m                 \u001b[0mself\u001b[0m\u001b[1;33m.\u001b[0m\u001b[0m_check_setitem_copy\u001b[0m\u001b[1;33m(\u001b[0m\u001b[1;33m)\u001b[0m\u001b[1;33m\u001b[0m\u001b[1;33m\u001b[0m\u001b[0m\n\u001b[0;32m   3498\u001b[0m                 \u001b[0mself\u001b[0m\u001b[1;33m.\u001b[0m\u001b[0mloc\u001b[0m\u001b[1;33m.\u001b[0m\u001b[0m_setitem_with_indexer\u001b[0m\u001b[1;33m(\u001b[0m\u001b[1;33m(\u001b[0m\u001b[0mslice\u001b[0m\u001b[1;33m(\u001b[0m\u001b[1;32mNone\u001b[0m\u001b[1;33m)\u001b[0m\u001b[1;33m,\u001b[0m \u001b[0mindexer\u001b[0m\u001b[1;33m)\u001b[0m\u001b[1;33m,\u001b[0m \u001b[0mvalue\u001b[0m\u001b[1;33m)\u001b[0m\u001b[1;33m\u001b[0m\u001b[1;33m\u001b[0m\u001b[0m\n",
      "\u001b[1;32m~\\AppData\\Local\\Continuum\\anaconda3\\lib\\site-packages\\pandas\\core\\indexing.py\u001b[0m in \u001b[0;36m_convert_to_indexer\u001b[1;34m(self, obj, axis, is_setter, raise_missing)\u001b[0m\n\u001b[0;32m   1283\u001b[0m                 \u001b[1;31m# When setting, missing keys are not allowed, even with .loc:\u001b[0m\u001b[1;33m\u001b[0m\u001b[1;33m\u001b[0m\u001b[1;33m\u001b[0m\u001b[0m\n\u001b[0;32m   1284\u001b[0m                 \u001b[0mkwargs\u001b[0m \u001b[1;33m=\u001b[0m \u001b[1;33m{\u001b[0m\u001b[1;34m\"raise_missing\"\u001b[0m\u001b[1;33m:\u001b[0m \u001b[1;32mTrue\u001b[0m \u001b[1;32mif\u001b[0m \u001b[0mis_setter\u001b[0m \u001b[1;32melse\u001b[0m \u001b[0mraise_missing\u001b[0m\u001b[1;33m}\u001b[0m\u001b[1;33m\u001b[0m\u001b[1;33m\u001b[0m\u001b[0m\n\u001b[1;32m-> 1285\u001b[1;33m                 \u001b[1;32mreturn\u001b[0m \u001b[0mself\u001b[0m\u001b[1;33m.\u001b[0m\u001b[0m_get_listlike_indexer\u001b[0m\u001b[1;33m(\u001b[0m\u001b[0mobj\u001b[0m\u001b[1;33m,\u001b[0m \u001b[0maxis\u001b[0m\u001b[1;33m,\u001b[0m \u001b[1;33m**\u001b[0m\u001b[0mkwargs\u001b[0m\u001b[1;33m)\u001b[0m\u001b[1;33m[\u001b[0m\u001b[1;36m1\u001b[0m\u001b[1;33m]\u001b[0m\u001b[1;33m\u001b[0m\u001b[1;33m\u001b[0m\u001b[0m\n\u001b[0m\u001b[0;32m   1286\u001b[0m         \u001b[1;32melse\u001b[0m\u001b[1;33m:\u001b[0m\u001b[1;33m\u001b[0m\u001b[1;33m\u001b[0m\u001b[0m\n\u001b[0;32m   1287\u001b[0m             \u001b[1;32mtry\u001b[0m\u001b[1;33m:\u001b[0m\u001b[1;33m\u001b[0m\u001b[1;33m\u001b[0m\u001b[0m\n",
      "\u001b[1;32m~\\AppData\\Local\\Continuum\\anaconda3\\lib\\site-packages\\pandas\\core\\indexing.py\u001b[0m in \u001b[0;36m_get_listlike_indexer\u001b[1;34m(self, key, axis, raise_missing)\u001b[0m\n\u001b[0;32m   1090\u001b[0m \u001b[1;33m\u001b[0m\u001b[0m\n\u001b[0;32m   1091\u001b[0m         self._validate_read_indexer(\n\u001b[1;32m-> 1092\u001b[1;33m             \u001b[0mkeyarr\u001b[0m\u001b[1;33m,\u001b[0m \u001b[0mindexer\u001b[0m\u001b[1;33m,\u001b[0m \u001b[0mo\u001b[0m\u001b[1;33m.\u001b[0m\u001b[0m_get_axis_number\u001b[0m\u001b[1;33m(\u001b[0m\u001b[0maxis\u001b[0m\u001b[1;33m)\u001b[0m\u001b[1;33m,\u001b[0m \u001b[0mraise_missing\u001b[0m\u001b[1;33m=\u001b[0m\u001b[0mraise_missing\u001b[0m\u001b[1;33m\u001b[0m\u001b[1;33m\u001b[0m\u001b[0m\n\u001b[0m\u001b[0;32m   1093\u001b[0m         )\n\u001b[0;32m   1094\u001b[0m         \u001b[1;32mreturn\u001b[0m \u001b[0mkeyarr\u001b[0m\u001b[1;33m,\u001b[0m \u001b[0mindexer\u001b[0m\u001b[1;33m\u001b[0m\u001b[1;33m\u001b[0m\u001b[0m\n",
      "\u001b[1;32m~\\AppData\\Local\\Continuum\\anaconda3\\lib\\site-packages\\pandas\\core\\indexing.py\u001b[0m in \u001b[0;36m_validate_read_indexer\u001b[1;34m(self, key, indexer, axis, raise_missing)\u001b[0m\n\u001b[0;32m   1175\u001b[0m                 raise KeyError(\n\u001b[0;32m   1176\u001b[0m                     \"None of [{key}] are in the [{axis}]\".format(\n\u001b[1;32m-> 1177\u001b[1;33m                         \u001b[0mkey\u001b[0m\u001b[1;33m=\u001b[0m\u001b[0mkey\u001b[0m\u001b[1;33m,\u001b[0m \u001b[0maxis\u001b[0m\u001b[1;33m=\u001b[0m\u001b[0mself\u001b[0m\u001b[1;33m.\u001b[0m\u001b[0mobj\u001b[0m\u001b[1;33m.\u001b[0m\u001b[0m_get_axis_name\u001b[0m\u001b[1;33m(\u001b[0m\u001b[0maxis\u001b[0m\u001b[1;33m)\u001b[0m\u001b[1;33m\u001b[0m\u001b[1;33m\u001b[0m\u001b[0m\n\u001b[0m\u001b[0;32m   1178\u001b[0m                     )\n\u001b[0;32m   1179\u001b[0m                 )\n",
      "\u001b[1;31mKeyError\u001b[0m: \"None of [Index(['full_address', 'latitude', 'longitude'], dtype='object')] are in the [columns]\""
     ]
    }
   ],
   "source": [
    "test_df[['full_address', 'latitude', 'longitude']] = [1,2,3]"
   ]
  },
  {
   "cell_type": "code",
   "execution_count": 113,
   "metadata": {
    "ExecuteTime": {
     "end_time": "2020-04-11T05:49:26.573540Z",
     "start_time": "2020-04-11T05:49:22.503359Z"
    }
   },
   "outputs": [
    {
     "ename": "IndexingError",
     "evalue": "(slice(None, None, None), 'full_address', 'latitude', 'longitude')",
     "output_type": "error",
     "traceback": [
      "\u001b[1;31m---------------------------------------------------------------------------\u001b[0m",
      "\u001b[1;31mTypeError\u001b[0m                                 Traceback (most recent call last)",
      "\u001b[1;32m~\\AppData\\Local\\Continuum\\anaconda3\\lib\\site-packages\\pandas\\core\\indexing.py\u001b[0m in \u001b[0;36m_get_setitem_indexer\u001b[1;34m(self, key)\u001b[0m\n\u001b[0;32m    190\u001b[0m         \u001b[1;32mtry\u001b[0m\u001b[1;33m:\u001b[0m\u001b[1;33m\u001b[0m\u001b[1;33m\u001b[0m\u001b[0m\n\u001b[1;32m--> 191\u001b[1;33m             \u001b[1;32mreturn\u001b[0m \u001b[0mself\u001b[0m\u001b[1;33m.\u001b[0m\u001b[0m_convert_to_indexer\u001b[0m\u001b[1;33m(\u001b[0m\u001b[0mkey\u001b[0m\u001b[1;33m,\u001b[0m \u001b[0maxis\u001b[0m\u001b[1;33m=\u001b[0m\u001b[0maxis\u001b[0m\u001b[1;33m,\u001b[0m \u001b[0mis_setter\u001b[0m\u001b[1;33m=\u001b[0m\u001b[1;32mTrue\u001b[0m\u001b[1;33m)\u001b[0m\u001b[1;33m\u001b[0m\u001b[1;33m\u001b[0m\u001b[0m\n\u001b[0m\u001b[0;32m    192\u001b[0m         \u001b[1;32mexcept\u001b[0m \u001b[0mTypeError\u001b[0m \u001b[1;32mas\u001b[0m \u001b[0me\u001b[0m\u001b[1;33m:\u001b[0m\u001b[1;33m\u001b[0m\u001b[1;33m\u001b[0m\u001b[0m\n",
      "\u001b[1;32m~\\AppData\\Local\\Continuum\\anaconda3\\lib\\site-packages\\pandas\\core\\indexing.py\u001b[0m in \u001b[0;36m_convert_to_indexer\u001b[1;34m(self, obj, axis, is_setter, raise_missing)\u001b[0m\n\u001b[0;32m   1284\u001b[0m                 \u001b[0mkwargs\u001b[0m \u001b[1;33m=\u001b[0m \u001b[1;33m{\u001b[0m\u001b[1;34m\"raise_missing\"\u001b[0m\u001b[1;33m:\u001b[0m \u001b[1;32mTrue\u001b[0m \u001b[1;32mif\u001b[0m \u001b[0mis_setter\u001b[0m \u001b[1;32melse\u001b[0m \u001b[0mraise_missing\u001b[0m\u001b[1;33m}\u001b[0m\u001b[1;33m\u001b[0m\u001b[1;33m\u001b[0m\u001b[0m\n\u001b[1;32m-> 1285\u001b[1;33m                 \u001b[1;32mreturn\u001b[0m \u001b[0mself\u001b[0m\u001b[1;33m.\u001b[0m\u001b[0m_get_listlike_indexer\u001b[0m\u001b[1;33m(\u001b[0m\u001b[0mobj\u001b[0m\u001b[1;33m,\u001b[0m \u001b[0maxis\u001b[0m\u001b[1;33m,\u001b[0m \u001b[1;33m**\u001b[0m\u001b[0mkwargs\u001b[0m\u001b[1;33m)\u001b[0m\u001b[1;33m[\u001b[0m\u001b[1;36m1\u001b[0m\u001b[1;33m]\u001b[0m\u001b[1;33m\u001b[0m\u001b[1;33m\u001b[0m\u001b[0m\n\u001b[0m\u001b[0;32m   1286\u001b[0m         \u001b[1;32melse\u001b[0m\u001b[1;33m:\u001b[0m\u001b[1;33m\u001b[0m\u001b[1;33m\u001b[0m\u001b[0m\n",
      "\u001b[1;32m~\\AppData\\Local\\Continuum\\anaconda3\\lib\\site-packages\\pandas\\core\\indexing.py\u001b[0m in \u001b[0;36m_get_listlike_indexer\u001b[1;34m(self, key, axis, raise_missing)\u001b[0m\n\u001b[0;32m   1085\u001b[0m                 \u001b[0mkey\u001b[0m \u001b[1;33m=\u001b[0m \u001b[0mself\u001b[0m\u001b[1;33m.\u001b[0m\u001b[0m_convert_for_reindex\u001b[0m\u001b[1;33m(\u001b[0m\u001b[0mkey\u001b[0m\u001b[1;33m,\u001b[0m \u001b[0maxis\u001b[0m\u001b[1;33m)\u001b[0m\u001b[1;33m\u001b[0m\u001b[1;33m\u001b[0m\u001b[0m\n\u001b[1;32m-> 1086\u001b[1;33m             \u001b[0mindexer\u001b[0m \u001b[1;33m=\u001b[0m \u001b[0max\u001b[0m\u001b[1;33m.\u001b[0m\u001b[0mget_indexer_for\u001b[0m\u001b[1;33m(\u001b[0m\u001b[0mkey\u001b[0m\u001b[1;33m)\u001b[0m\u001b[1;33m\u001b[0m\u001b[1;33m\u001b[0m\u001b[0m\n\u001b[0m\u001b[0;32m   1087\u001b[0m             \u001b[0mkeyarr\u001b[0m \u001b[1;33m=\u001b[0m \u001b[0max\u001b[0m\u001b[1;33m.\u001b[0m\u001b[0mreindex\u001b[0m\u001b[1;33m(\u001b[0m\u001b[0mkeyarr\u001b[0m\u001b[1;33m)\u001b[0m\u001b[1;33m[\u001b[0m\u001b[1;36m0\u001b[0m\u001b[1;33m]\u001b[0m\u001b[1;33m\u001b[0m\u001b[1;33m\u001b[0m\u001b[0m\n",
      "\u001b[1;32m~\\AppData\\Local\\Continuum\\anaconda3\\lib\\site-packages\\pandas\\core\\indexes\\base.py\u001b[0m in \u001b[0;36mget_indexer_for\u001b[1;34m(self, target, **kwargs)\u001b[0m\n\u001b[0;32m   4816\u001b[0m         \u001b[1;32mif\u001b[0m \u001b[0mself\u001b[0m\u001b[1;33m.\u001b[0m\u001b[0mis_unique\u001b[0m\u001b[1;33m:\u001b[0m\u001b[1;33m\u001b[0m\u001b[1;33m\u001b[0m\u001b[0m\n\u001b[1;32m-> 4817\u001b[1;33m             \u001b[1;32mreturn\u001b[0m \u001b[0mself\u001b[0m\u001b[1;33m.\u001b[0m\u001b[0mget_indexer\u001b[0m\u001b[1;33m(\u001b[0m\u001b[0mtarget\u001b[0m\u001b[1;33m,\u001b[0m \u001b[1;33m**\u001b[0m\u001b[0mkwargs\u001b[0m\u001b[1;33m)\u001b[0m\u001b[1;33m\u001b[0m\u001b[1;33m\u001b[0m\u001b[0m\n\u001b[0m\u001b[0;32m   4818\u001b[0m         \u001b[0mindexer\u001b[0m\u001b[1;33m,\u001b[0m \u001b[0m_\u001b[0m \u001b[1;33m=\u001b[0m \u001b[0mself\u001b[0m\u001b[1;33m.\u001b[0m\u001b[0mget_indexer_non_unique\u001b[0m\u001b[1;33m(\u001b[0m\u001b[0mtarget\u001b[0m\u001b[1;33m,\u001b[0m \u001b[1;33m**\u001b[0m\u001b[0mkwargs\u001b[0m\u001b[1;33m)\u001b[0m\u001b[1;33m\u001b[0m\u001b[1;33m\u001b[0m\u001b[0m\n",
      "\u001b[1;32m~\\AppData\\Local\\Continuum\\anaconda3\\lib\\site-packages\\pandas\\core\\indexes\\base.py\u001b[0m in \u001b[0;36mget_indexer\u001b[1;34m(self, target, method, limit, tolerance)\u001b[0m\n\u001b[0;32m   2979\u001b[0m             return this.get_indexer(\n\u001b[1;32m-> 2980\u001b[1;33m                 \u001b[0mtarget\u001b[0m\u001b[1;33m,\u001b[0m \u001b[0mmethod\u001b[0m\u001b[1;33m=\u001b[0m\u001b[0mmethod\u001b[0m\u001b[1;33m,\u001b[0m \u001b[0mlimit\u001b[0m\u001b[1;33m=\u001b[0m\u001b[0mlimit\u001b[0m\u001b[1;33m,\u001b[0m \u001b[0mtolerance\u001b[0m\u001b[1;33m=\u001b[0m\u001b[0mtolerance\u001b[0m\u001b[1;33m\u001b[0m\u001b[1;33m\u001b[0m\u001b[0m\n\u001b[0m\u001b[0;32m   2981\u001b[0m             )\n",
      "\u001b[1;32m~\\AppData\\Local\\Continuum\\anaconda3\\lib\\site-packages\\pandas\\core\\indexes\\base.py\u001b[0m in \u001b[0;36mget_indexer\u001b[1;34m(self, target, method, limit, tolerance)\u001b[0m\n\u001b[0;32m   3003\u001b[0m \u001b[1;33m\u001b[0m\u001b[0m\n\u001b[1;32m-> 3004\u001b[1;33m             \u001b[0mindexer\u001b[0m \u001b[1;33m=\u001b[0m \u001b[0mself\u001b[0m\u001b[1;33m.\u001b[0m\u001b[0m_engine\u001b[0m\u001b[1;33m.\u001b[0m\u001b[0mget_indexer\u001b[0m\u001b[1;33m(\u001b[0m\u001b[0mtarget\u001b[0m\u001b[1;33m.\u001b[0m\u001b[0m_ndarray_values\u001b[0m\u001b[1;33m)\u001b[0m\u001b[1;33m\u001b[0m\u001b[1;33m\u001b[0m\u001b[0m\n\u001b[0m\u001b[0;32m   3005\u001b[0m \u001b[1;33m\u001b[0m\u001b[0m\n",
      "\u001b[1;32mpandas\\_libs\\index.pyx\u001b[0m in \u001b[0;36mpandas._libs.index.IndexEngine.get_indexer\u001b[1;34m()\u001b[0m\n",
      "\u001b[1;32mpandas\\_libs\\hashtable_class_helper.pxi\u001b[0m in \u001b[0;36mpandas._libs.hashtable.PyObjectHashTable.lookup\u001b[1;34m()\u001b[0m\n",
      "\u001b[1;31mTypeError\u001b[0m: unhashable type: 'slice'",
      "\nDuring handling of the above exception, another exception occurred:\n",
      "\u001b[1;31mIndexingError\u001b[0m                             Traceback (most recent call last)",
      "\u001b[1;32m<ipython-input-113-f0806451e0b9>\u001b[0m in \u001b[0;36m<module>\u001b[1;34m\u001b[0m\n\u001b[0;32m      2\u001b[0m     \u001b[0maddress\u001b[0m\u001b[1;33m,\u001b[0m \u001b[1;33m(\u001b[0m\u001b[0mlatitude\u001b[0m\u001b[1;33m,\u001b[0m \u001b[0mlongitude\u001b[0m\u001b[1;33m)\u001b[0m  \u001b[1;33m=\u001b[0m \u001b[0mgeolocator\u001b[0m\u001b[1;33m.\u001b[0m\u001b[0mgeocode\u001b[0m\u001b[1;33m(\u001b[0m\u001b[0maddress\u001b[0m\u001b[1;33m,\u001b[0m\u001b[0mcountry_codes\u001b[0m\u001b[1;33m=\u001b[0m\u001b[1;34m'SG'\u001b[0m\u001b[1;33m)\u001b[0m\u001b[1;33m\u001b[0m\u001b[1;33m\u001b[0m\u001b[0m\n\u001b[0;32m      3\u001b[0m     \u001b[1;32mreturn\u001b[0m \u001b[1;33m[\u001b[0m\u001b[0maddress\u001b[0m\u001b[1;33m,\u001b[0m \u001b[0mlatitude\u001b[0m\u001b[1;33m,\u001b[0m \u001b[0mlongitude\u001b[0m\u001b[1;33m]\u001b[0m\u001b[1;33m\u001b[0m\u001b[1;33m\u001b[0m\u001b[0m\n\u001b[1;32m----> 4\u001b[1;33m \u001b[0mtest_df\u001b[0m\u001b[1;33m.\u001b[0m\u001b[0mloc\u001b[0m\u001b[1;33m[\u001b[0m\u001b[1;33m:\u001b[0m\u001b[1;33m,\u001b[0m\u001b[1;34m'full_address'\u001b[0m\u001b[1;33m,\u001b[0m \u001b[1;34m'latitude'\u001b[0m\u001b[1;33m,\u001b[0m \u001b[1;34m'longitude'\u001b[0m\u001b[1;33m]\u001b[0m  \u001b[1;33m=\u001b[0m \u001b[0mtest_df\u001b[0m\u001b[1;33m.\u001b[0m\u001b[0maddress\u001b[0m\u001b[1;33m.\u001b[0m\u001b[0mapply\u001b[0m\u001b[1;33m(\u001b[0m\u001b[0mreturn_lat_lon\u001b[0m\u001b[1;33m)\u001b[0m\u001b[1;33m\u001b[0m\u001b[1;33m\u001b[0m\u001b[0m\n\u001b[0m",
      "\u001b[1;32m~\\AppData\\Local\\Continuum\\anaconda3\\lib\\site-packages\\pandas\\core\\indexing.py\u001b[0m in \u001b[0;36m__setitem__\u001b[1;34m(self, key, value)\u001b[0m\n\u001b[0;32m    202\u001b[0m         \u001b[1;32melse\u001b[0m\u001b[1;33m:\u001b[0m\u001b[1;33m\u001b[0m\u001b[1;33m\u001b[0m\u001b[0m\n\u001b[0;32m    203\u001b[0m             \u001b[0mkey\u001b[0m \u001b[1;33m=\u001b[0m \u001b[0mcom\u001b[0m\u001b[1;33m.\u001b[0m\u001b[0mapply_if_callable\u001b[0m\u001b[1;33m(\u001b[0m\u001b[0mkey\u001b[0m\u001b[1;33m,\u001b[0m \u001b[0mself\u001b[0m\u001b[1;33m.\u001b[0m\u001b[0mobj\u001b[0m\u001b[1;33m)\u001b[0m\u001b[1;33m\u001b[0m\u001b[1;33m\u001b[0m\u001b[0m\n\u001b[1;32m--> 204\u001b[1;33m         \u001b[0mindexer\u001b[0m \u001b[1;33m=\u001b[0m \u001b[0mself\u001b[0m\u001b[1;33m.\u001b[0m\u001b[0m_get_setitem_indexer\u001b[0m\u001b[1;33m(\u001b[0m\u001b[0mkey\u001b[0m\u001b[1;33m)\u001b[0m\u001b[1;33m\u001b[0m\u001b[1;33m\u001b[0m\u001b[0m\n\u001b[0m\u001b[0;32m    205\u001b[0m         \u001b[0mself\u001b[0m\u001b[1;33m.\u001b[0m\u001b[0m_setitem_with_indexer\u001b[0m\u001b[1;33m(\u001b[0m\u001b[0mindexer\u001b[0m\u001b[1;33m,\u001b[0m \u001b[0mvalue\u001b[0m\u001b[1;33m)\u001b[0m\u001b[1;33m\u001b[0m\u001b[1;33m\u001b[0m\u001b[0m\n\u001b[0;32m    206\u001b[0m \u001b[1;33m\u001b[0m\u001b[0m\n",
      "\u001b[1;32m~\\AppData\\Local\\Continuum\\anaconda3\\lib\\site-packages\\pandas\\core\\indexing.py\u001b[0m in \u001b[0;36m_get_setitem_indexer\u001b[1;34m(self, key)\u001b[0m\n\u001b[0;32m    195\u001b[0m             \u001b[1;32mif\u001b[0m \u001b[1;34m\"cannot do\"\u001b[0m \u001b[1;32min\u001b[0m \u001b[0mstr\u001b[0m\u001b[1;33m(\u001b[0m\u001b[0me\u001b[0m\u001b[1;33m)\u001b[0m\u001b[1;33m:\u001b[0m\u001b[1;33m\u001b[0m\u001b[1;33m\u001b[0m\u001b[0m\n\u001b[0;32m    196\u001b[0m                 \u001b[1;32mraise\u001b[0m\u001b[1;33m\u001b[0m\u001b[1;33m\u001b[0m\u001b[0m\n\u001b[1;32m--> 197\u001b[1;33m             \u001b[1;32mraise\u001b[0m \u001b[0mIndexingError\u001b[0m\u001b[1;33m(\u001b[0m\u001b[0mkey\u001b[0m\u001b[1;33m)\u001b[0m\u001b[1;33m\u001b[0m\u001b[1;33m\u001b[0m\u001b[0m\n\u001b[0m\u001b[0;32m    198\u001b[0m \u001b[1;33m\u001b[0m\u001b[0m\n\u001b[0;32m    199\u001b[0m     \u001b[1;32mdef\u001b[0m \u001b[0m__setitem__\u001b[0m\u001b[1;33m(\u001b[0m\u001b[0mself\u001b[0m\u001b[1;33m,\u001b[0m \u001b[0mkey\u001b[0m\u001b[1;33m,\u001b[0m \u001b[0mvalue\u001b[0m\u001b[1;33m)\u001b[0m\u001b[1;33m:\u001b[0m\u001b[1;33m\u001b[0m\u001b[1;33m\u001b[0m\u001b[0m\n",
      "\u001b[1;31mIndexingError\u001b[0m: (slice(None, None, None), 'full_address', 'latitude', 'longitude')"
     ]
    }
   ],
   "source": [
    "test_df.loc[:,'full_address', 'latitude', 'longitude']  = test_df.address.apply(return_lat_lon)"
   ]
  },
  {
   "cell_type": "markdown",
   "metadata": {},
   "source": [
    "## Feature Engineering"
   ]
  },
  {
   "cell_type": "code",
   "execution_count": 36,
   "metadata": {
    "ExecuteTime": {
     "end_time": "2020-04-11T04:49:29.425070Z",
     "start_time": "2020-04-11T04:49:29.363235Z"
    }
   },
   "outputs": [],
   "source": [
    "hdb_df = df[df['link'].str.contains('hdb')].copy()\n",
    "condo_df = df[df['link'].str.contains('condo')].copy()\n",
    "landed_df = df[df['link'].str.contains('landed')].copy()"
   ]
  },
  {
   "cell_type": "code",
   "execution_count": 96,
   "metadata": {
    "ExecuteTime": {
     "end_time": "2020-04-11T03:37:39.503318Z",
     "start_time": "2020-04-11T03:37:39.142250Z"
    },
    "scrolled": true
   },
   "outputs": [
    {
     "data": {
      "text/plain": [
       "<matplotlib.axes._subplots.AxesSubplot at 0x1f6c9c45d08>"
      ]
     },
     "execution_count": 96,
     "metadata": {},
     "output_type": "execute_result"
    },
    {
     "data": {
      "image/png": "[encoded data removed]",
      "text/plain": [
       "<Figure size 432x288 with 1 Axes>"
      ]
     },
     "metadata": {
      "needs_background": "light"
     },
     "output_type": "display_data"
    }
   ],
   "source": [
    "sns.scatterplot(data=df,x='area',y='price')"
   ]
  },
  {
   "cell_type": "code",
   "execution_count": 93,
   "metadata": {
    "ExecuteTime": {
     "end_time": "2020-04-11T03:35:13.006826Z",
     "start_time": "2020-04-11T03:35:12.791395Z"
    }
   },
   "outputs": [
    {
     "data": {
      "text/plain": [
       "<matplotlib.axes._subplots.AxesSubplot at 0x1f6c9c53048>"
      ]
     },
     "execution_count": 93,
     "metadata": {},
     "output_type": "execute_result"
    },
    {
     "data": {
      "image/png": "[encoded data removed]",
      "text/plain": [
       "<Figure size 432x288 with 1 Axes>"
      ]
     },
     "metadata": {
      "needs_background": "light"
     },
     "output_type": "display_data"
    }
   ],
   "source": [
    "sns.scatterplot(data=hdb_df,x='area',y='price')"
   ]
  },
  {
   "cell_type": "code",
   "execution_count": 101,
   "metadata": {
    "ExecuteTime": {
     "end_time": "2020-04-11T03:39:02.453710Z",
     "start_time": "2020-04-11T03:39:02.438750Z"
    }
   },
   "outputs": [
    {
     "data": {
      "text/html": [
       "<div>\n",
       "<style scoped>\n",
       "    .dataframe tbody tr th:only-of-type {\n",
       "        vertical-align: middle;\n",
       "    }\n",
       "\n",
       "    .dataframe tbody tr th {\n",
       "        vertical-align: top;\n",
       "    }\n",
       "\n",
       "    .dataframe thead th {\n",
       "        text-align: right;\n",
       "    }\n",
       "</style>\n",
       "<table border=\"1\" class=\"dataframe\">\n",
       "  <thead>\n",
       "    <tr style=\"text-align: right;\">\n",
       "      <th></th>\n",
       "      <th>address</th>\n",
       "      <th>amenities</th>\n",
       "      <th>area</th>\n",
       "      <th>bathrooms</th>\n",
       "      <th>bedrooms</th>\n",
       "      <th>description</th>\n",
       "      <th>details</th>\n",
       "      <th>lease</th>\n",
       "      <th>link</th>\n",
       "      <th>name</th>\n",
       "      <th>price</th>\n",
       "      <th>property_type</th>\n",
       "      <th>psf_price</th>\n",
       "    </tr>\n",
       "  </thead>\n",
       "  <tbody>\n",
       "    <tr>\n",
       "      <td>17270</td>\n",
       "      <td>Singapore 650419 - D23</td>\n",
       "      <td>High Floor,Stove,Bomb Shelter,Renovated,Aircon</td>\n",
       "      <td>893</td>\n",
       "      <td>2.0</td>\n",
       "      <td>3.0</td>\n",
       "      <td>Exclusive 4S unit high floor for sale. \\nNo odd shape \\n\\nWindy &amp; bright unit. \\nLarge size with only one neighbour beside u\\nMaster bedroom with attached toilet \\n\\nEnjoy amenities such as shops, supermarkets and coffeeshop right at your doorstep. \\nWide array of buses to get u to anywhere. Alternatively 12 mins walk to Bukit Gombak MRT. \\n\\nFor viewing pls call/text Irene @ 9631 7367 for appt</td>\n",
       "      <td>Availability,Now,District,D23</td>\n",
       "      <td>1986 -</td>\n",
       "      <td>https://www.99.co/singapore/sale/property/419-bukit-batok-west-avenue-2-hdb-JNhjFvHXLhqtETyMsrjSJG</td>\n",
       "      <td>419 Bukit Batok West Avenue 2</td>\n",
       "      <td>3400006.0</td>\n",
       "      <td>HDB 4 Rooms</td>\n",
       "      <td>3807</td>\n",
       "    </tr>\n",
       "    <tr>\n",
       "      <td>17805</td>\n",
       "      <td>Singapore 380016 - D14</td>\n",
       "      <td>NaN</td>\n",
       "      <td>1313</td>\n",
       "      <td>4.0</td>\n",
       "      <td>4.0</td>\n",
       "      <td>PROFIT! PROFIT! PROFIT!\\r\\n\\r\\nGet 4% yield immediately. \\r\\nRenovated shophouse, residential above, commercial below. Lovely abode next to kallang river. Next Best riverside investment. \\r\\n\\r\\nCome view and have the foresight to see the potential as I walk you through the place. \\r\\n\\r\\n</td>\n",
       "      <td>Availability,Now,District,D14</td>\n",
       "      <td>1975 - 99 years</td>\n",
       "      <td>https://www.99.co/singapore/sale/property/16-upper-boon-keng-road-hdb-S4Q2Kfg8VzhmDoDvs6fX67</td>\n",
       "      <td>16 Upper Boon Keng Road</td>\n",
       "      <td>2200000.0</td>\n",
       "      <td>HDB</td>\n",
       "      <td>1676</td>\n",
       "    </tr>\n",
       "    <tr>\n",
       "      <td>17925</td>\n",
       "      <td>Singapore 380016 - D14</td>\n",
       "      <td>NaN</td>\n",
       "      <td>1313</td>\n",
       "      <td>4.0</td>\n",
       "      <td>4.0</td>\n",
       "      <td>PROFIT! PROFIT! PROFIT!\\r\\n\\r\\nGet 4% yield immediately. \\r\\nRenovated shophouse, residential above, commercial below. Lovely abode next to kallang river. Next Best riverside investment. \\r\\n\\r\\nCome view and have the foresight to see the potential as I walk you through the place. \\r\\n\\r\\n</td>\n",
       "      <td>Availability,Now,District,D14</td>\n",
       "      <td>1975 - 99 years</td>\n",
       "      <td>https://www.99.co/singapore/sale/property/16-upper-boon-keng-road-hdb-6FEbR2LxYNZSF7g8SbzGpP</td>\n",
       "      <td>16 Upper Boon Keng Road</td>\n",
       "      <td>2200000.0</td>\n",
       "      <td>HDB</td>\n",
       "      <td>1676</td>\n",
       "    </tr>\n",
       "    <tr>\n",
       "      <td>18145</td>\n",
       "      <td>Singapore 380016 - D14</td>\n",
       "      <td>NaN</td>\n",
       "      <td>1313</td>\n",
       "      <td>4.0</td>\n",
       "      <td>4.0</td>\n",
       "      <td>PROFIT! PROFIT! PROFIT!\\r\\n\\r\\nGet 4% yield immediately. \\r\\nRenovated shophouse, residential above, commercial below. Lovely abode next to kallang river. Next Best riverside investment. \\r\\n\\r\\nCome view and have the foresight to see the potential as I walk you through the place. \\r\\n\\r\\n</td>\n",
       "      <td>Availability,Now,District,D14</td>\n",
       "      <td>1975 - 99 years</td>\n",
       "      <td>https://www.99.co/singapore/sale/property/16-upper-boon-keng-road-hdb-iHn6Ah9SRKpPZSMR2RPKST</td>\n",
       "      <td>16 Upper Boon Keng Road</td>\n",
       "      <td>2200000.0</td>\n",
       "      <td>HDB</td>\n",
       "      <td>1676</td>\n",
       "    </tr>\n",
       "    <tr>\n",
       "      <td>18354</td>\n",
       "      <td>Singapore 380016 - D14</td>\n",
       "      <td>NaN</td>\n",
       "      <td>1313</td>\n",
       "      <td>4.0</td>\n",
       "      <td>4.0</td>\n",
       "      <td>PROFIT! PROFIT! PROFIT!\\r\\n\\r\\nGet 4% yield immediately. \\r\\nRenovated shophouse, residential above, commercial below. Lovely abode next to kallang river. Next Best riverside investment. \\r\\n\\r\\nCome view and have the foresight to see the potential as I walk you through the place. \\r\\n\\r\\n</td>\n",
       "      <td>Availability,Now,District,D14</td>\n",
       "      <td>1975 - 99 years</td>\n",
       "      <td>https://www.99.co/singapore/sale/property/16-upper-boon-keng-road-hdb-3QJ8wUCkhVdjJQrn6B3sda</td>\n",
       "      <td>16 Upper Boon Keng Road</td>\n",
       "      <td>2200000.0</td>\n",
       "      <td>HDB</td>\n",
       "      <td>1676</td>\n",
       "    </tr>\n",
       "    <tr>\n",
       "      <td>19160</td>\n",
       "      <td>Singapore 820133 - D19</td>\n",
       "      <td>High Floor,Renovated</td>\n",
       "      <td>980</td>\n",
       "      <td>2.0</td>\n",
       "      <td>3.0</td>\n",
       "      <td>133 Edgedale Fields - 4 Room Flat for Sale\\n\\nHigh floor\\nWindy\\nUnblock \\nMinutes Walk to Coral Edge LRT and 3 Stops to Punggol MRT\\nNear to Punggol 21, Punggol Plaza and lots of amenities \\nViewing by appointment \\n\\nPlease call Simmone 9146 2435 for viewing appointment</td>\n",
       "      <td>Facing,North South,Availability,Now,District,D19</td>\n",
       "      <td>2003 -</td>\n",
       "      <td>https://www.99.co/singapore/sale/property/133-edgedale-plains-hdb-69gk4Y4rN2Fm6xjUBY8EGV</td>\n",
       "      <td>133 Edgedale Plains</td>\n",
       "      <td>4000000.0</td>\n",
       "      <td>HDB 4 Rooms</td>\n",
       "      <td>4082</td>\n",
       "    </tr>\n",
       "    <tr>\n",
       "      <td>22366</td>\n",
       "      <td>Singapore 520268 - D18</td>\n",
       "      <td>NaN</td>\n",
       "      <td>1550</td>\n",
       "      <td>3.0</td>\n",
       "      <td>2.0</td>\n",
       "      <td>TAMPINES STREET 21</td>\n",
       "      <td>District,D18</td>\n",
       "      <td>1984 -</td>\n",
       "      <td>https://www.99.co/singapore/sale/property/268-tampines-street-21-hdb-qD6qb9wRqaoHX7DwjKxrKo</td>\n",
       "      <td>268 Tampines Street 21</td>\n",
       "      <td>2150000.0</td>\n",
       "      <td>HDB 2 Rooms</td>\n",
       "      <td>1387</td>\n",
       "    </tr>\n",
       "    <tr>\n",
       "      <td>22937</td>\n",
       "      <td>Singapore 380016 - D14</td>\n",
       "      <td>NaN</td>\n",
       "      <td>1313</td>\n",
       "      <td>4.0</td>\n",
       "      <td>4.0</td>\n",
       "      <td>PROFIT! PROFIT! PROFIT!\\r\\n\\r\\nGet 4% yield immediately. \\r\\nRenovated shophouse, residential above, commercial below. Lovely abode next to kallang river. Next Best riverside investment. \\r\\n\\r\\nCome view and have the foresight to see the potential as I walk you through the place. \\r\\n\\r\\n</td>\n",
       "      <td>Availability,Now,District,D14</td>\n",
       "      <td>1975 - 99 years</td>\n",
       "      <td>https://www.99.co/singapore/sale/property/16-upper-boon-keng-road-hdb-NJGaDfixMD4d5kpG5KBPbH</td>\n",
       "      <td>16 Upper Boon Keng Road</td>\n",
       "      <td>2200000.0</td>\n",
       "      <td>HDB</td>\n",
       "      <td>1676</td>\n",
       "    </tr>\n",
       "    <tr>\n",
       "      <td>23671</td>\n",
       "      <td>Singapore 380016 - D14</td>\n",
       "      <td>NaN</td>\n",
       "      <td>1313</td>\n",
       "      <td>4.0</td>\n",
       "      <td>4.0</td>\n",
       "      <td>PROFIT! PROFIT! PROFIT!\\r\\n\\r\\nGet 4% yield immediately. \\r\\nRenovated shophouse, residential above, commercial below. Lovely abode next to kallang river. Next Best riverside investment. \\r\\n\\r\\nCome view and have the foresight to see the potential as I walk you through the place. \\r\\n\\r\\n</td>\n",
       "      <td>Availability,Now,District,D14</td>\n",
       "      <td>1975 - 99 years</td>\n",
       "      <td>https://www.99.co/singapore/sale/property/16-upper-boon-keng-road-hdb-6t43Lso473hbFQXXPzT35j</td>\n",
       "      <td>16 Upper Boon Keng Road</td>\n",
       "      <td>2200000.0</td>\n",
       "      <td>HDB</td>\n",
       "      <td>1676</td>\n",
       "    </tr>\n",
       "    <tr>\n",
       "      <td>23945</td>\n",
       "      <td>Singapore 380016 - D14</td>\n",
       "      <td>NaN</td>\n",
       "      <td>1313</td>\n",
       "      <td>4.0</td>\n",
       "      <td>4.0</td>\n",
       "      <td>PROFIT! PROFIT! PROFIT!\\r\\n\\r\\nGet 4% yield immediately. \\r\\nRenovated shophouse, residential above, commercial below. Lovely abode next to kallang river. Next Best riverside investment. \\r\\n\\r\\nCome view and have the foresight to see the potential as I walk you through the place. \\r\\n\\r\\n</td>\n",
       "      <td>Availability,Now,District,D14</td>\n",
       "      <td>1975 - 99 years</td>\n",
       "      <td>https://www.99.co/singapore/sale/property/16-upper-boon-keng-road-hdb-ioQtGfijEUE6tToZiZBvXf</td>\n",
       "      <td>16 Upper Boon Keng Road</td>\n",
       "      <td>2200000.0</td>\n",
       "      <td>HDB</td>\n",
       "      <td>1676</td>\n",
       "    </tr>\n",
       "  </tbody>\n",
       "</table>\n",
       "</div>"
      ],
      "text/plain": [
       "                      address                                       amenities  \\\n",
       "17270  Singapore 650419 - D23  High Floor,Stove,Bomb Shelter,Renovated,Aircon   \n",
       "17805  Singapore 380016 - D14  NaN                                              \n",
       "17925  Singapore 380016 - D14  NaN                                              \n",
       "18145  Singapore 380016 - D14  NaN                                              \n",
       "18354  Singapore 380016 - D14  NaN                                              \n",
       "19160  Singapore 820133 - D19  High Floor,Renovated                             \n",
       "22366  Singapore 520268 - D18  NaN                                              \n",
       "22937  Singapore 380016 - D14  NaN                                              \n",
       "23671  Singapore 380016 - D14  NaN                                              \n",
       "23945  Singapore 380016 - D14  NaN                                              \n",
       "\n",
       "       area  bathrooms  bedrooms  \\\n",
       "17270  893   2.0        3.0        \n",
       "17805  1313  4.0        4.0        \n",
       "17925  1313  4.0        4.0        \n",
       "18145  1313  4.0        4.0        \n",
       "18354  1313  4.0        4.0        \n",
       "19160  980   2.0        3.0        \n",
       "22366  1550  3.0        2.0        \n",
       "22937  1313  4.0        4.0        \n",
       "23671  1313  4.0        4.0        \n",
       "23945  1313  4.0        4.0        \n",
       "\n",
       "                                                                                                                                                                                                                                                                                                                                                                                                         description  \\\n",
       "17270  Exclusive 4S unit high floor for sale. \\nNo odd shape \\n\\nWindy & bright unit. \\nLarge size with only one neighbour beside u\\nMaster bedroom with attached toilet \\n\\nEnjoy amenities such as shops, supermarkets and coffeeshop right at your doorstep. \\nWide array of buses to get u to anywhere. Alternatively 12 mins walk to Bukit Gombak MRT. \\n\\nFor viewing pls call/text Irene @ 9631 7367 for appt   \n",
       "17805  PROFIT! PROFIT! PROFIT!\\r\\n\\r\\nGet 4% yield immediately. \\r\\nRenovated shophouse, residential above, commercial below. Lovely abode next to kallang river. Next Best riverside investment. \\r\\n\\r\\nCome view and have the foresight to see the potential as I walk you through the place. \\r\\n\\r\\n                                                                                                              \n",
       "17925  PROFIT! PROFIT! PROFIT!\\r\\n\\r\\nGet 4% yield immediately. \\r\\nRenovated shophouse, residential above, commercial below. Lovely abode next to kallang river. Next Best riverside investment. \\r\\n\\r\\nCome view and have the foresight to see the potential as I walk you through the place. \\r\\n\\r\\n                                                                                                              \n",
       "18145  PROFIT! PROFIT! PROFIT!\\r\\n\\r\\nGet 4% yield immediately. \\r\\nRenovated shophouse, residential above, commercial below. Lovely abode next to kallang river. Next Best riverside investment. \\r\\n\\r\\nCome view and have the foresight to see the potential as I walk you through the place. \\r\\n\\r\\n                                                                                                              \n",
       "18354  PROFIT! PROFIT! PROFIT!\\r\\n\\r\\nGet 4% yield immediately. \\r\\nRenovated shophouse, residential above, commercial below. Lovely abode next to kallang river. Next Best riverside investment. \\r\\n\\r\\nCome view and have the foresight to see the potential as I walk you through the place. \\r\\n\\r\\n                                                                                                              \n",
       "19160  133 Edgedale Fields - 4 Room Flat for Sale\\n\\nHigh floor\\nWindy\\nUnblock \\nMinutes Walk to Coral Edge LRT and 3 Stops to Punggol MRT\\nNear to Punggol 21, Punggol Plaza and lots of amenities \\nViewing by appointment \\n\\nPlease call Simmone 9146 2435 for viewing appointment                                                                                                                                \n",
       "22366  TAMPINES STREET 21                                                                                                                                                                                                                                                                                                                                                                                              \n",
       "22937  PROFIT! PROFIT! PROFIT!\\r\\n\\r\\nGet 4% yield immediately. \\r\\nRenovated shophouse, residential above, commercial below. Lovely abode next to kallang river. Next Best riverside investment. \\r\\n\\r\\nCome view and have the foresight to see the potential as I walk you through the place. \\r\\n\\r\\n                                                                                                              \n",
       "23671  PROFIT! PROFIT! PROFIT!\\r\\n\\r\\nGet 4% yield immediately. \\r\\nRenovated shophouse, residential above, commercial below. Lovely abode next to kallang river. Next Best riverside investment. \\r\\n\\r\\nCome view and have the foresight to see the potential as I walk you through the place. \\r\\n\\r\\n                                                                                                              \n",
       "23945  PROFIT! PROFIT! PROFIT!\\r\\n\\r\\nGet 4% yield immediately. \\r\\nRenovated shophouse, residential above, commercial below. Lovely abode next to kallang river. Next Best riverside investment. \\r\\n\\r\\nCome view and have the foresight to see the potential as I walk you through the place. \\r\\n\\r\\n                                                                                                              \n",
       "\n",
       "                                                details            lease  \\\n",
       "17270  Availability,Now,District,D23                     1986 -            \n",
       "17805  Availability,Now,District,D14                     1975 - 99 years   \n",
       "17925  Availability,Now,District,D14                     1975 - 99 years   \n",
       "18145  Availability,Now,District,D14                     1975 - 99 years   \n",
       "18354  Availability,Now,District,D14                     1975 - 99 years   \n",
       "19160  Facing,North South,Availability,Now,District,D19  2003 -            \n",
       "22366  District,D18                                      1984 -            \n",
       "22937  Availability,Now,District,D14                     1975 - 99 years   \n",
       "23671  Availability,Now,District,D14                     1975 - 99 years   \n",
       "23945  Availability,Now,District,D14                     1975 - 99 years   \n",
       "\n",
       "                                                                                                     link  \\\n",
       "17270  https://www.99.co/singapore/sale/property/419-bukit-batok-west-avenue-2-hdb-JNhjFvHXLhqtETyMsrjSJG   \n",
       "17805  https://www.99.co/singapore/sale/property/16-upper-boon-keng-road-hdb-S4Q2Kfg8VzhmDoDvs6fX67         \n",
       "17925  https://www.99.co/singapore/sale/property/16-upper-boon-keng-road-hdb-6FEbR2LxYNZSF7g8SbzGpP         \n",
       "18145  https://www.99.co/singapore/sale/property/16-upper-boon-keng-road-hdb-iHn6Ah9SRKpPZSMR2RPKST         \n",
       "18354  https://www.99.co/singapore/sale/property/16-upper-boon-keng-road-hdb-3QJ8wUCkhVdjJQrn6B3sda         \n",
       "19160  https://www.99.co/singapore/sale/property/133-edgedale-plains-hdb-69gk4Y4rN2Fm6xjUBY8EGV             \n",
       "22366  https://www.99.co/singapore/sale/property/268-tampines-street-21-hdb-qD6qb9wRqaoHX7DwjKxrKo          \n",
       "22937  https://www.99.co/singapore/sale/property/16-upper-boon-keng-road-hdb-NJGaDfixMD4d5kpG5KBPbH         \n",
       "23671  https://www.99.co/singapore/sale/property/16-upper-boon-keng-road-hdb-6t43Lso473hbFQXXPzT35j         \n",
       "23945  https://www.99.co/singapore/sale/property/16-upper-boon-keng-road-hdb-ioQtGfijEUE6tToZiZBvXf         \n",
       "\n",
       "                                name      price property_type  psf_price  \n",
       "17270  419 Bukit Batok West Avenue 2  3400006.0  HDB 4 Rooms   3807       \n",
       "17805  16 Upper Boon Keng Road        2200000.0  HDB           1676       \n",
       "17925  16 Upper Boon Keng Road        2200000.0  HDB           1676       \n",
       "18145  16 Upper Boon Keng Road        2200000.0  HDB           1676       \n",
       "18354  16 Upper Boon Keng Road        2200000.0  HDB           1676       \n",
       "19160  133 Edgedale Plains            4000000.0  HDB 4 Rooms   4082       \n",
       "22366  268 Tampines Street 21         2150000.0  HDB 2 Rooms   1387       \n",
       "22937  16 Upper Boon Keng Road        2200000.0  HDB           1676       \n",
       "23671  16 Upper Boon Keng Road        2200000.0  HDB           1676       \n",
       "23945  16 Upper Boon Keng Road        2200000.0  HDB           1676       "
      ]
     },
     "execution_count": 101,
     "metadata": {},
     "output_type": "execute_result"
    }
   ],
   "source": [
    "hdb_df[hdb_df.price>2e6]"
   ]
  },
  {
   "cell_type": "code",
   "execution_count": 98,
   "metadata": {
    "ExecuteTime": {
     "end_time": "2020-04-11T03:38:21.324102Z",
     "start_time": "2020-04-11T03:38:21.134609Z"
    }
   },
   "outputs": [
    {
     "data": {
      "text/plain": [
       "<matplotlib.axes._subplots.AxesSubplot at 0x1f6c9cb4e08>"
      ]
     },
     "execution_count": 98,
     "metadata": {},
     "output_type": "execute_result"
    },
    {
     "data": {
      "image/png": "[encoded data removed]",
      "text/plain": [
       "<Figure size 432x288 with 1 Axes>"
      ]
     },
     "metadata": {
      "needs_background": "light"
     },
     "output_type": "display_data"
    }
   ],
   "source": [
    "sns.scatterplot(data=condo_df,x='area',y='price')"
   ]
  },
  {
   "cell_type": "markdown",
   "metadata": {},
   "source": [
    "### list of features to engineer\n",
    "\n",
    "y = price\n",
    "\n",
    "x = \n",
    "bedrooms\n",
    "bathrooms\n",
    "area\n",
    "district\n",
    "floor\n",
    "lease remaining\n",
    "flat age\n",
    "distance from mrt\n",
    "distance from lrt"
   ]
  },
  {
   "cell_type": "code",
   "execution_count": 36,
   "metadata": {
    "ExecuteTime": {
     "end_time": "2020-04-10T16:40:38.746800Z",
     "start_time": "2020-04-10T16:40:38.721074Z"
    }
   },
   "outputs": [
    {
     "data": {
      "text/html": [
       "<div>\n",
       "<style scoped>\n",
       "    .dataframe tbody tr th:only-of-type {\n",
       "        vertical-align: middle;\n",
       "    }\n",
       "\n",
       "    .dataframe tbody tr th {\n",
       "        vertical-align: top;\n",
       "    }\n",
       "\n",
       "    .dataframe thead th {\n",
       "        text-align: right;\n",
       "    }\n",
       "</style>\n",
       "<table border=\"1\" class=\"dataframe\">\n",
       "  <thead>\n",
       "    <tr style=\"text-align: right;\">\n",
       "      <th></th>\n",
       "      <th>address</th>\n",
       "      <th>amenities</th>\n",
       "      <th>area</th>\n",
       "      <th>bathrooms</th>\n",
       "      <th>bedrooms</th>\n",
       "      <th>description</th>\n",
       "      <th>details</th>\n",
       "      <th>lease</th>\n",
       "      <th>link</th>\n",
       "      <th>name</th>\n",
       "      <th>price</th>\n",
       "      <th>property_type</th>\n",
       "      <th>psf_price</th>\n",
       "    </tr>\n",
       "  </thead>\n",
       "  <tbody>\n",
       "    <tr>\n",
       "      <td>0</td>\n",
       "      <td>12 Dairy Farm Lane - D23</td>\n",
       "      <td>Function Room,Water Feature,High Ceiling,Gym,J...</td>\n",
       "      <td>624</td>\n",
       "      <td>2.0</td>\n",
       "      <td>2.0</td>\n",
       "      <td>DAIRY FARM RESIDENCES – BRIEF\\nOur development...</td>\n",
       "      <td>Facing,North South,District,D23</td>\n",
       "      <td>2024 - 99 years</td>\n",
       "      <td>https://www.99.co/singapore/sale/property/dair...</td>\n",
       "      <td>Dairy Farm Residences</td>\n",
       "      <td>969000.0</td>\n",
       "      <td>Condo</td>\n",
       "      <td>1553</td>\n",
       "    </tr>\n",
       "    <tr>\n",
       "      <td>1</td>\n",
       "      <td>2 Shunfu Road - D20</td>\n",
       "      <td>Jogging Track,Games Room,Gym,Sea View,Steam Ro...</td>\n",
       "      <td>764</td>\n",
       "      <td>NaN</td>\n",
       "      <td>NaN</td>\n",
       "      <td>Jadescape (Former Shunfu Ville)\\r\\n\\r\\nJadesca...</td>\n",
       "      <td>Furnishing,Unfurnished,Facing,North South,Avai...</td>\n",
       "      <td>2023 - 99 years</td>\n",
       "      <td>https://www.99.co/singapore/sale/property/jade...</td>\n",
       "      <td>JadeScape</td>\n",
       "      <td>1275408.0</td>\n",
       "      <td>Condo</td>\n",
       "      <td>1669</td>\n",
       "    </tr>\n",
       "    <tr>\n",
       "      <td>2</td>\n",
       "      <td>21 Marina Way - D1</td>\n",
       "      <td>Clubhouse,Gym,City View,Jacuzzi,Outdoor Dining...</td>\n",
       "      <td>710</td>\n",
       "      <td>2.0</td>\n",
       "      <td>1.0</td>\n",
       "      <td>Prices dropped. Hurry! \\nBrought to you by M+S...</td>\n",
       "      <td>Facing,South West,Availability,Now,District,D01</td>\n",
       "      <td>2018 - 99 years</td>\n",
       "      <td>https://www.99.co/singapore/sale/property/mari...</td>\n",
       "      <td>Marina One Residences</td>\n",
       "      <td>1580000.0</td>\n",
       "      <td>Condo</td>\n",
       "      <td>2225</td>\n",
       "    </tr>\n",
       "    <tr>\n",
       "      <td>3</td>\n",
       "      <td>3 Jalan Kemaman - D12</td>\n",
       "      <td>Clubhouse,Pool Deck,Sky Lounge,Gym,Tennis Cour...</td>\n",
       "      <td>441</td>\n",
       "      <td>1.0</td>\n",
       "      <td>1.0</td>\n",
       "      <td>VERTICUS – DISTRICT 12 – JALAN KEMAMAN\\r\\n\\r\\n...</td>\n",
       "      <td>Furnishing,Unfurnished,Facing,North South,Avai...</td>\n",
       "      <td>- Freehold</td>\n",
       "      <td>https://www.99.co/singapore/sale/property/vert...</td>\n",
       "      <td>Verticus</td>\n",
       "      <td>889000.0</td>\n",
       "      <td>Condo</td>\n",
       "      <td>2016</td>\n",
       "    </tr>\n",
       "    <tr>\n",
       "      <td>4</td>\n",
       "      <td>5 Jalan Kemaman - D12</td>\n",
       "      <td>Clubhouse,Bomb Shelter,Greenery View,Swimming ...</td>\n",
       "      <td>635</td>\n",
       "      <td>1.0</td>\n",
       "      <td>2.0</td>\n",
       "      <td>VERTICUS – FREEHOLD at DISTRICT 12 – JALAN KEM...</td>\n",
       "      <td>Furnishing,Unfurnished,Availability,Now,Distri...</td>\n",
       "      <td>1993 - Freehold</td>\n",
       "      <td>https://www.99.co/singapore/sale/property/kema...</td>\n",
       "      <td>Kemaman Point</td>\n",
       "      <td>1244000.0</td>\n",
       "      <td>NaN</td>\n",
       "      <td>1959</td>\n",
       "    </tr>\n",
       "  </tbody>\n",
       "</table>\n",
       "</div>"
      ],
      "text/plain": [
       "                    address  \\\n",
       "0  12 Dairy Farm Lane - D23   \n",
       "1       2 Shunfu Road - D20   \n",
       "2        21 Marina Way - D1   \n",
       "3     3 Jalan Kemaman - D12   \n",
       "4     5 Jalan Kemaman - D12   \n",
       "\n",
       "                                           amenities  area  bathrooms  \\\n",
       "0  Function Room,Water Feature,High Ceiling,Gym,J...   624        2.0   \n",
       "1  Jogging Track,Games Room,Gym,Sea View,Steam Ro...   764        NaN   \n",
       "2  Clubhouse,Gym,City View,Jacuzzi,Outdoor Dining...   710        2.0   \n",
       "3  Clubhouse,Pool Deck,Sky Lounge,Gym,Tennis Cour...   441        1.0   \n",
       "4  Clubhouse,Bomb Shelter,Greenery View,Swimming ...   635        1.0   \n",
       "\n",
       "   bedrooms                                        description  \\\n",
       "0       2.0  DAIRY FARM RESIDENCES – BRIEF\\nOur development...   \n",
       "1       NaN  Jadescape (Former Shunfu Ville)\\r\\n\\r\\nJadesca...   \n",
       "2       1.0  Prices dropped. Hurry! \\nBrought to you by M+S...   \n",
       "3       1.0  VERTICUS – DISTRICT 12 – JALAN KEMAMAN\\r\\n\\r\\n...   \n",
       "4       2.0  VERTICUS – FREEHOLD at DISTRICT 12 – JALAN KEM...   \n",
       "\n",
       "                                             details            lease  \\\n",
       "0                    Facing,North South,District,D23  2024 - 99 years   \n",
       "1  Furnishing,Unfurnished,Facing,North South,Avai...  2023 - 99 years   \n",
       "2    Facing,South West,Availability,Now,District,D01  2018 - 99 years   \n",
       "3  Furnishing,Unfurnished,Facing,North South,Avai...       - Freehold   \n",
       "4  Furnishing,Unfurnished,Availability,Now,Distri...  1993 - Freehold   \n",
       "\n",
       "                                                link                   name  \\\n",
       "0  https://www.99.co/singapore/sale/property/dair...  Dairy Farm Residences   \n",
       "1  https://www.99.co/singapore/sale/property/jade...              JadeScape   \n",
       "2  https://www.99.co/singapore/sale/property/mari...  Marina One Residences   \n",
       "3  https://www.99.co/singapore/sale/property/vert...               Verticus   \n",
       "4  https://www.99.co/singapore/sale/property/kema...          Kemaman Point   \n",
       "\n",
       "       price property_type  psf_price  \n",
       "0   969000.0         Condo       1553  \n",
       "1  1275408.0         Condo       1669  \n",
       "2  1580000.0         Condo       2225  \n",
       "3   889000.0         Condo       2016  \n",
       "4  1244000.0           NaN       1959  "
      ]
     },
     "execution_count": 36,
     "metadata": {},
     "output_type": "execute_result"
    }
   ],
   "source": [
    "df.head()"
   ]
  },
  {
   "cell_type": "code",
   "execution_count": 17,
   "metadata": {
    "ExecuteTime": {
     "end_time": "2020-04-10T16:27:39.360423Z",
     "start_time": "2020-04-10T16:27:39.327757Z"
    }
   },
   "outputs": [],
   "source": []
  },
  {
   "cell_type": "code",
   "execution_count": 86,
   "metadata": {
    "ExecuteTime": {
     "end_time": "2020-04-10T10:38:17.552815Z",
     "start_time": "2020-04-10T10:38:17.545801Z"
    }
   },
   "outputs": [],
   "source": [
    "hdb5rm_df = df[df.property_type=='HDB 5 Rooms']"
   ]
  },
  {
   "cell_type": "code",
   "execution_count": 88,
   "metadata": {
    "ExecuteTime": {
     "end_time": "2020-04-10T10:38:32.706273Z",
     "start_time": "2020-04-10T10:38:32.701290Z"
    }
   },
   "outputs": [
    {
     "data": {
      "text/plain": [
       "609020.0426296866"
      ]
     },
     "execution_count": 88,
     "metadata": {},
     "output_type": "execute_result"
    }
   ],
   "source": [
    "hdb5rm_df['price'].mean()"
   ]
  },
  {
   "cell_type": "code",
   "execution_count": 97,
   "metadata": {
    "ExecuteTime": {
     "end_time": "2020-04-10T10:40:13.657200Z",
     "start_time": "2020-04-10T10:40:13.651217Z"
    }
   },
   "outputs": [
    {
     "data": {
      "text/plain": [
       "162158.2628961796"
      ]
     },
     "execution_count": 97,
     "metadata": {},
     "output_type": "execute_result"
    }
   ],
   "source": [
    "import numpy as np\n",
    "np.sqrt(hdb5rm_df['price'].apply(lambda x: (x-609020.0426296866)**2).mean())"
   ]
  },
  {
   "cell_type": "code",
   "execution_count": 48,
   "metadata": {
    "ExecuteTime": {
     "end_time": "2020-04-10T10:05:19.944744Z",
     "start_time": "2020-04-10T10:05:19.897869Z"
    }
   },
   "outputs": [
    {
     "data": {
      "text/html": [
       "<div>\n",
       "<style scoped>\n",
       "    .dataframe tbody tr th:only-of-type {\n",
       "        vertical-align: middle;\n",
       "    }\n",
       "\n",
       "    .dataframe tbody tr th {\n",
       "        vertical-align: top;\n",
       "    }\n",
       "\n",
       "    .dataframe thead th {\n",
       "        text-align: right;\n",
       "    }\n",
       "</style>\n",
       "<table border=\"1\" class=\"dataframe\">\n",
       "  <thead>\n",
       "    <tr style=\"text-align: right;\">\n",
       "      <th></th>\n",
       "      <th>address</th>\n",
       "      <th>amenities</th>\n",
       "      <th>area</th>\n",
       "      <th>bathrooms</th>\n",
       "      <th>bedrooms</th>\n",
       "      <th>description</th>\n",
       "      <th>details</th>\n",
       "      <th>lease</th>\n",
       "      <th>link</th>\n",
       "      <th>name</th>\n",
       "      <th>price</th>\n",
       "      <th>property_type</th>\n",
       "      <th>psf_price</th>\n",
       "      <th>listing_id</th>\n",
       "    </tr>\n",
       "  </thead>\n",
       "  <tbody>\n",
       "    <tr>\n",
       "      <td>16129</td>\n",
       "      <td>Singapore 543265 - D19</td>\n",
       "      <td>NaN</td>\n",
       "      <td>990 sqft / 91.97 sqm</td>\n",
       "      <td>2.0</td>\n",
       "      <td>3</td>\n",
       "      <td>Click link to view 360 House Video = http://bi...</td>\n",
       "      <td>Furnishing,Partially Furnished,Availability,No...</td>\n",
       "      <td>2008 - 99 years</td>\n",
       "      <td>https://www.99.co/singapore/sale/property/265c...</td>\n",
       "      <td>265C Compassvale Link</td>\n",
       "      <td>$570,000</td>\n",
       "      <td>HDB 4 Rooms</td>\n",
       "      <td>$576 psf</td>\n",
       "      <td>zScvBaMQDhzaQF7Y8bsMCh</td>\n",
       "    </tr>\n",
       "    <tr>\n",
       "      <td>16130</td>\n",
       "      <td>Singapore 160032 - D3</td>\n",
       "      <td>NaN</td>\n",
       "      <td>548 sqft / 50.91 sqm</td>\n",
       "      <td>1.0</td>\n",
       "      <td>2</td>\n",
       "      <td>Rare 2 Room Flat at Tiong Bahru MRT for Sale!!...</td>\n",
       "      <td>Furnishing,Partially Furnished,Availability,No...</td>\n",
       "      <td>1971 -</td>\n",
       "      <td>https://www.99.co/singapore/sale/property/32-j...</td>\n",
       "      <td>32 Jalan Bukit Ho Swee</td>\n",
       "      <td>$260,000</td>\n",
       "      <td>HDB 2 Rooms</td>\n",
       "      <td>$474 psf</td>\n",
       "      <td>mkJmVrRVTDnoMXiNDAoEAA</td>\n",
       "    </tr>\n",
       "    <tr>\n",
       "      <td>16131</td>\n",
       "      <td>Singapore 120306 - D5</td>\n",
       "      <td>Greenery View,Renovated</td>\n",
       "      <td>721 sqft / 66.98 sqm</td>\n",
       "      <td>2.0</td>\n",
       "      <td>2</td>\n",
       "      <td>***New listing***\\n\\nHdb 3NG for sale\\n\\n* mid...</td>\n",
       "      <td>Furnishing,Partially Furnished,Availability,No...</td>\n",
       "      <td>1979 - 99 years</td>\n",
       "      <td>https://www.99.co/singapore/sale/property/306-...</td>\n",
       "      <td>306 Clementi Avenue 4</td>\n",
       "      <td>$299,000</td>\n",
       "      <td>HDB 3 Rooms</td>\n",
       "      <td>$415 psf</td>\n",
       "      <td>jAQxqtkSETKQWnbCMQnJQ4</td>\n",
       "    </tr>\n",
       "    <tr>\n",
       "      <td>16137</td>\n",
       "      <td>Singapore 821126 - D19</td>\n",
       "      <td>Bomb Shelter</td>\n",
       "      <td>1,184 sqft / 109.99 sqm</td>\n",
       "      <td>3.0</td>\n",
       "      <td>2</td>\n",
       "      <td>Super Super Attractive Price!\\nONLY $400K!\\n5 ...</td>\n",
       "      <td>Furnishing,Partially Furnished,Facing,South Ea...</td>\n",
       "      <td>2003 -</td>\n",
       "      <td>https://www.99.co/singapore/sale/property/126a...</td>\n",
       "      <td>126A Edgedale Plains</td>\n",
       "      <td>$400,000</td>\n",
       "      <td>HDB 5 Rooms</td>\n",
       "      <td>$338 psf</td>\n",
       "      <td>aj5frZ7a5MnZBnFYmjCtj9</td>\n",
       "    </tr>\n",
       "    <tr>\n",
       "      <td>16138</td>\n",
       "      <td>Singapore 460406 - D16</td>\n",
       "      <td>High Floor,City View,Sea View,Greenery View</td>\n",
       "      <td>1,270 sqft / 117.98 sqm</td>\n",
       "      <td>2.0</td>\n",
       "      <td>3</td>\n",
       "      <td>5RM/ 5I HDB @ Bedok North - For Sale\\r\\n======...</td>\n",
       "      <td>Furnishing,Unfurnished,Facing,South,Availabili...</td>\n",
       "      <td>1980 - 99 years</td>\n",
       "      <td>https://www.99.co/singapore/sale/property/406-...</td>\n",
       "      <td>406 Bedok North Avenue 3</td>\n",
       "      <td>$690,000</td>\n",
       "      <td>HDB 5 Rooms</td>\n",
       "      <td>$543 psf</td>\n",
       "      <td>aAtBqBCo4sog2WorA8i57U</td>\n",
       "    </tr>\n",
       "    <tr>\n",
       "      <td>...</td>\n",
       "      <td>...</td>\n",
       "      <td>...</td>\n",
       "      <td>...</td>\n",
       "      <td>...</td>\n",
       "      <td>...</td>\n",
       "      <td>...</td>\n",
       "      <td>...</td>\n",
       "      <td>...</td>\n",
       "      <td>...</td>\n",
       "      <td>...</td>\n",
       "      <td>...</td>\n",
       "      <td>...</td>\n",
       "      <td>...</td>\n",
       "      <td>...</td>\n",
       "    </tr>\n",
       "    <tr>\n",
       "      <td>24120</td>\n",
       "      <td>Singapore 530370 - D19</td>\n",
       "      <td>NaN</td>\n",
       "      <td>1,087 sqft / 100.98 sqm</td>\n",
       "      <td>2.0</td>\n",
       "      <td>3</td>\n",
       "      <td>* Another Unit Brought to You by Evangeline * ...</td>\n",
       "      <td>Availability,Now,District,D19</td>\n",
       "      <td>1999 -</td>\n",
       "      <td>https://www.99.co/singapore/sale/property/370-...</td>\n",
       "      <td>370 Hougang Street 31</td>\n",
       "      <td>$458,000</td>\n",
       "      <td>HDB 4 Rooms</td>\n",
       "      <td>$421 psf</td>\n",
       "      <td>CjF49gZw7g7KX2YFufDtxB</td>\n",
       "    </tr>\n",
       "    <tr>\n",
       "      <td>24142</td>\n",
       "      <td>Singapore 123311 - D5</td>\n",
       "      <td>Parking,Playground,Fitness Corner,Hydrotherapy...</td>\n",
       "      <td>861 sqft / 79.98 sqm</td>\n",
       "      <td>2.0</td>\n",
       "      <td>3</td>\n",
       "      <td>311C Clementi Avenue 4</td>\n",
       "      <td>District,D05</td>\n",
       "      <td>2015 - 99 years</td>\n",
       "      <td>https://www.99.co/singapore/sale/property/311c...</td>\n",
       "      <td>311C Clementi Avenue 4</td>\n",
       "      <td>$799,888</td>\n",
       "      <td>HDB 3 Rooms</td>\n",
       "      <td>$929 psf</td>\n",
       "      <td>33N7KxaHq2cpFkoK7hitjk</td>\n",
       "    </tr>\n",
       "    <tr>\n",
       "      <td>24143</td>\n",
       "      <td>Singapore 643654 - D22</td>\n",
       "      <td>NaN</td>\n",
       "      <td>1,194 sqft / 110.92 sqm</td>\n",
       "      <td>2.0</td>\n",
       "      <td>3</td>\n",
       "      <td>654C JURONG WEST STREET 61\\n------------------...</td>\n",
       "      <td>Furnishing,Partially Furnished,District,D22</td>\n",
       "      <td>2002 -</td>\n",
       "      <td>https://www.99.co/singapore/sale/property/654c...</td>\n",
       "      <td>654C Jurong West Street 61</td>\n",
       "      <td>$460,000</td>\n",
       "      <td>HDB 5 Rooms</td>\n",
       "      <td>$385 psf</td>\n",
       "      <td>9kPT6Hf3tuxkWyLf74ZSSD</td>\n",
       "    </tr>\n",
       "    <tr>\n",
       "      <td>24144</td>\n",
       "      <td>Singapore 794430 - D28</td>\n",
       "      <td>High Floor,Corner Unit,Aircon</td>\n",
       "      <td>1,205 sqft / 111.94 sqm</td>\n",
       "      <td>2.0</td>\n",
       "      <td>3</td>\n",
       "      <td>Just MOP HDB 5 Room for Sale ....\\n\\nVery high...</td>\n",
       "      <td>Furnishing,Partially Furnished,Availability,No...</td>\n",
       "      <td>2015 - 99 years</td>\n",
       "      <td>https://www.99.co/singapore/sale/property/430d...</td>\n",
       "      <td>430D Fernvale Link</td>\n",
       "      <td>$600,000</td>\n",
       "      <td>HDB 5 Rooms</td>\n",
       "      <td>$498 psf</td>\n",
       "      <td>hHbWMBvJc9QwyYtQhz7YDL</td>\n",
       "    </tr>\n",
       "    <tr>\n",
       "      <td>24149</td>\n",
       "      <td>Singapore 650366 - D23</td>\n",
       "      <td>Mid Floor,Utility Room,Corner Unit</td>\n",
       "      <td>1,550 sqft / 143.99 sqm</td>\n",
       "      <td>2.0</td>\n",
       "      <td>3</td>\n",
       "      <td>EA FOR SALE!\\n\\n- Executive Apartment\\n- 144 s...</td>\n",
       "      <td>District,D23</td>\n",
       "      <td>1986 -</td>\n",
       "      <td>https://www.99.co/singapore/sale/property/366-...</td>\n",
       "      <td>366 Bukit Batok Street 31</td>\n",
       "      <td>$610,000</td>\n",
       "      <td>HDB Executive</td>\n",
       "      <td>$394 psf</td>\n",
       "      <td>bJHgmapwDphrZQuEwYTzB7</td>\n",
       "    </tr>\n",
       "  </tbody>\n",
       "</table>\n",
       "<p>7254 rows × 14 columns</p>\n",
       "</div>"
      ],
      "text/plain": [
       "                      address  \\\n",
       "16129  Singapore 543265 - D19   \n",
       "16130   Singapore 160032 - D3   \n",
       "16131   Singapore 120306 - D5   \n",
       "16137  Singapore 821126 - D19   \n",
       "16138  Singapore 460406 - D16   \n",
       "...                       ...   \n",
       "24120  Singapore 530370 - D19   \n",
       "24142   Singapore 123311 - D5   \n",
       "24143  Singapore 643654 - D22   \n",
       "24144  Singapore 794430 - D28   \n",
       "24149  Singapore 650366 - D23   \n",
       "\n",
       "                                               amenities  \\\n",
       "16129                                                NaN   \n",
       "16130                                                NaN   \n",
       "16131                            Greenery View,Renovated   \n",
       "16137                                       Bomb Shelter   \n",
       "16138        High Floor,City View,Sea View,Greenery View   \n",
       "...                                                  ...   \n",
       "24120                                                NaN   \n",
       "24142  Parking,Playground,Fitness Corner,Hydrotherapy...   \n",
       "24143                                                NaN   \n",
       "24144                      High Floor,Corner Unit,Aircon   \n",
       "24149                 Mid Floor,Utility Room,Corner Unit   \n",
       "\n",
       "                          area  bathrooms bedrooms  \\\n",
       "16129     990 sqft / 91.97 sqm        2.0        3   \n",
       "16130     548 sqft / 50.91 sqm        1.0        2   \n",
       "16131     721 sqft / 66.98 sqm        2.0        2   \n",
       "16137  1,184 sqft / 109.99 sqm        3.0        2   \n",
       "16138  1,270 sqft / 117.98 sqm        2.0        3   \n",
       "...                        ...        ...      ...   \n",
       "24120  1,087 sqft / 100.98 sqm        2.0        3   \n",
       "24142     861 sqft / 79.98 sqm        2.0        3   \n",
       "24143  1,194 sqft / 110.92 sqm        2.0        3   \n",
       "24144  1,205 sqft / 111.94 sqm        2.0        3   \n",
       "24149  1,550 sqft / 143.99 sqm        2.0        3   \n",
       "\n",
       "                                             description  \\\n",
       "16129  Click link to view 360 House Video = http://bi...   \n",
       "16130  Rare 2 Room Flat at Tiong Bahru MRT for Sale!!...   \n",
       "16131  ***New listing***\\n\\nHdb 3NG for sale\\n\\n* mid...   \n",
       "16137  Super Super Attractive Price!\\nONLY $400K!\\n5 ...   \n",
       "16138  5RM/ 5I HDB @ Bedok North - For Sale\\r\\n======...   \n",
       "...                                                  ...   \n",
       "24120  * Another Unit Brought to You by Evangeline * ...   \n",
       "24142                             311C Clementi Avenue 4   \n",
       "24143  654C JURONG WEST STREET 61\\n------------------...   \n",
       "24144  Just MOP HDB 5 Room for Sale ....\\n\\nVery high...   \n",
       "24149  EA FOR SALE!\\n\\n- Executive Apartment\\n- 144 s...   \n",
       "\n",
       "                                                 details            lease  \\\n",
       "16129  Furnishing,Partially Furnished,Availability,No...  2008 - 99 years   \n",
       "16130  Furnishing,Partially Furnished,Availability,No...          1971 -    \n",
       "16131  Furnishing,Partially Furnished,Availability,No...  1979 - 99 years   \n",
       "16137  Furnishing,Partially Furnished,Facing,South Ea...          2003 -    \n",
       "16138  Furnishing,Unfurnished,Facing,South,Availabili...  1980 - 99 years   \n",
       "...                                                  ...              ...   \n",
       "24120                      Availability,Now,District,D19          1999 -    \n",
       "24142                                       District,D05  2015 - 99 years   \n",
       "24143        Furnishing,Partially Furnished,District,D22          2002 -    \n",
       "24144  Furnishing,Partially Furnished,Availability,No...  2015 - 99 years   \n",
       "24149                                       District,D23          1986 -    \n",
       "\n",
       "                                                    link  \\\n",
       "16129  https://www.99.co/singapore/sale/property/265c...   \n",
       "16130  https://www.99.co/singapore/sale/property/32-j...   \n",
       "16131  https://www.99.co/singapore/sale/property/306-...   \n",
       "16137  https://www.99.co/singapore/sale/property/126a...   \n",
       "16138  https://www.99.co/singapore/sale/property/406-...   \n",
       "...                                                  ...   \n",
       "24120  https://www.99.co/singapore/sale/property/370-...   \n",
       "24142  https://www.99.co/singapore/sale/property/311c...   \n",
       "24143  https://www.99.co/singapore/sale/property/654c...   \n",
       "24144  https://www.99.co/singapore/sale/property/430d...   \n",
       "24149  https://www.99.co/singapore/sale/property/366-...   \n",
       "\n",
       "                             name     price  property_type psf_price  \\\n",
       "16129       265C Compassvale Link  $570,000    HDB 4 Rooms  $576 psf   \n",
       "16130      32 Jalan Bukit Ho Swee  $260,000    HDB 2 Rooms  $474 psf   \n",
       "16131       306 Clementi Avenue 4  $299,000    HDB 3 Rooms  $415 psf   \n",
       "16137        126A Edgedale Plains  $400,000    HDB 5 Rooms  $338 psf   \n",
       "16138    406 Bedok North Avenue 3  $690,000    HDB 5 Rooms  $543 psf   \n",
       "...                           ...       ...            ...       ...   \n",
       "24120       370 Hougang Street 31  $458,000    HDB 4 Rooms  $421 psf   \n",
       "24142      311C Clementi Avenue 4  $799,888    HDB 3 Rooms  $929 psf   \n",
       "24143  654C Jurong West Street 61  $460,000    HDB 5 Rooms  $385 psf   \n",
       "24144          430D Fernvale Link  $600,000    HDB 5 Rooms  $498 psf   \n",
       "24149   366 Bukit Batok Street 31  $610,000  HDB Executive  $394 psf   \n",
       "\n",
       "                   listing_id  \n",
       "16129  zScvBaMQDhzaQF7Y8bsMCh  \n",
       "16130  mkJmVrRVTDnoMXiNDAoEAA  \n",
       "16131  jAQxqtkSETKQWnbCMQnJQ4  \n",
       "16137  aj5frZ7a5MnZBnFYmjCtj9  \n",
       "16138  aAtBqBCo4sog2WorA8i57U  \n",
       "...                       ...  \n",
       "24120  CjF49gZw7g7KX2YFufDtxB  \n",
       "24142  33N7KxaHq2cpFkoK7hitjk  \n",
       "24143  9kPT6Hf3tuxkWyLf74ZSSD  \n",
       "24144  hHbWMBvJc9QwyYtQhz7YDL  \n",
       "24149  bJHgmapwDphrZQuEwYTzB7  \n",
       "\n",
       "[7254 rows x 14 columns]"
      ]
     },
     "execution_count": 48,
     "metadata": {},
     "output_type": "execute_result"
    }
   ],
   "source": [
    "df[df['property_type'].notnull()][df[df['property_type'].notnull()]['property_type'].str.contains('HDB')]"
   ]
  },
  {
   "cell_type": "code",
   "execution_count": 38,
   "metadata": {
    "ExecuteTime": {
     "end_time": "2020-04-10T10:00:18.990049Z",
     "start_time": "2020-04-10T10:00:18.979067Z"
    },
    "scrolled": true
   },
   "outputs": [
    {
     "data": {
      "text/plain": [
       "3      8468\n",
       "2      3701\n",
       "5      3568\n",
       "4      3394\n",
       "1      1618\n",
       "NaN    1339\n",
       "6      1252\n",
       "7       429\n",
       "8       157\n",
       "10       84\n",
       "0        75\n",
       "9        58\n",
       "         15\n",
       "Name: bedrooms, dtype: int64"
      ]
     },
     "execution_count": 38,
     "metadata": {},
     "output_type": "execute_result"
    }
   ],
   "source": [
    "df['bedrooms'].value_counts(dropna=False)"
   ]
  },
  {
   "cell_type": "code",
   "execution_count": 39,
   "metadata": {
    "ExecuteTime": {
     "end_time": "2020-04-10T10:00:31.949226Z",
     "start_time": "2020-04-10T10:00:31.941271Z"
    }
   },
   "outputs": [
    {
     "data": {
      "text/plain": [
       "2.0     10448\n",
       "3.0      3025\n",
       "1.0      2604\n",
       "5.0      2178\n",
       "4.0      2006\n",
       "6.0      1501\n",
       "NaN      1339\n",
       "7.0       642\n",
       "8.0       281\n",
       "9.0       127\n",
       "10.0        7\n",
       "Name: bathrooms, dtype: int64"
      ]
     },
     "execution_count": 39,
     "metadata": {},
     "output_type": "execute_result"
    }
   ],
   "source": [
    "df['bathrooms'].value_counts(dropna=False)"
   ]
  },
  {
   "cell_type": "code",
   "execution_count": 25,
   "metadata": {
    "ExecuteTime": {
     "end_time": "2020-04-10T04:50:36.748314Z",
     "start_time": "2020-04-10T04:50:36.740335Z"
    }
   },
   "outputs": [
    {
     "data": {
      "text/plain": [
       "array(['2', nan, '1', '3', '9', '4', '5', '6', '7', '8', '0', '10', ' '],\n",
       "      dtype=object)"
      ]
     },
     "execution_count": 25,
     "metadata": {},
     "output_type": "execute_result"
    }
   ],
   "source": [
    "df['bedrooms'].unique()"
   ]
  },
  {
   "cell_type": "code",
   "execution_count": 103,
   "metadata": {
    "ExecuteTime": {
     "end_time": "2020-04-11T05:43:39.812437Z",
     "start_time": "2020-04-11T05:43:39.807418Z"
    }
   },
   "outputs": [],
   "source": [
    "#instantiate geocoder\n",
    "geolocator = Nominatim(user_agent='my_app/1')"
   ]
  },
  {
   "cell_type": "code",
   "execution_count": 20,
   "metadata": {
    "ExecuteTime": {
     "end_time": "2020-04-10T04:44:51.840476Z",
     "start_time": "2020-04-10T04:44:51.024221Z"
    }
   },
   "outputs": [],
   "source": [
    "address, (latitude, longitude)  = geolocator.geocode('Kemaman Point',country_codes='SG')"
   ]
  },
  {
   "cell_type": "code",
   "execution_count": 22,
   "metadata": {
    "ExecuteTime": {
     "end_time": "2020-04-10T04:45:36.144874Z",
     "start_time": "2020-04-10T04:45:36.139887Z"
    }
   },
   "outputs": [
    {
     "data": {
      "text/plain": [
       "'Kemaman Point, Balestier, Singapore, Central, 329325, Singapore'"
      ]
     },
     "execution_count": 22,
     "metadata": {},
     "output_type": "execute_result"
    }
   ],
   "source": [
    "address"
   ]
  },
  {
   "cell_type": "code",
   "execution_count": 21,
   "metadata": {
    "ExecuteTime": {
     "end_time": "2020-04-10T04:44:58.944319Z",
     "start_time": "2020-04-10T04:44:58.940332Z"
    }
   },
   "outputs": [
    {
     "data": {
      "text/plain": [
       "(1.3264101, 103.85069728522598)"
      ]
     },
     "execution_count": 21,
     "metadata": {},
     "output_type": "execute_result"
    }
   ],
   "source": [
    "latitude, longitude"
   ]
  },
  {
   "cell_type": "code",
   "execution_count": 179,
   "metadata": {
    "ExecuteTime": {
     "end_time": "2020-04-11T04:09:24.614175Z",
     "start_time": "2020-04-11T04:09:24.594228Z"
    }
   },
   "outputs": [
    {
     "data": {
      "text/html": [
       "<div>\n",
       "<style scoped>\n",
       "    .dataframe tbody tr th:only-of-type {\n",
       "        vertical-align: middle;\n",
       "    }\n",
       "\n",
       "    .dataframe tbody tr th {\n",
       "        vertical-align: top;\n",
       "    }\n",
       "\n",
       "    .dataframe thead th {\n",
       "        text-align: right;\n",
       "    }\n",
       "</style>\n",
       "<table border=\"1\" class=\"dataframe\">\n",
       "  <thead>\n",
       "    <tr style=\"text-align: right;\">\n",
       "      <th></th>\n",
       "      <th>address</th>\n",
       "      <th>amenities</th>\n",
       "      <th>area</th>\n",
       "      <th>bathrooms</th>\n",
       "      <th>bedrooms</th>\n",
       "      <th>description</th>\n",
       "      <th>details</th>\n",
       "      <th>lease</th>\n",
       "      <th>link</th>\n",
       "      <th>name</th>\n",
       "      <th>price</th>\n",
       "      <th>property_type</th>\n",
       "      <th>psf_price</th>\n",
       "      <th>district</th>\n",
       "      <th>floor_type</th>\n",
       "    </tr>\n",
       "  </thead>\n",
       "  <tbody>\n",
       "    <tr>\n",
       "      <td>1256</td>\n",
       "      <td>Lilac Park - D28</td>\n",
       "      <td>Playground</td>\n",
       "      <td>2200</td>\n",
       "      <td>3.0</td>\n",
       "      <td>4.0</td>\n",
       "      <td>Lilac Park</td>\n",
       "      <td>NaN</td>\n",
       "      <td>1990 - Freehold</td>\n",
       "      <td>https://www.99.co/singapore/sale/property/property-in-singapore-landed-JkieMG5XD4hdbbCKHRZWb5</td>\n",
       "      <td>Lilac Park</td>\n",
       "      <td>3000000.0</td>\n",
       "      <td>Terraced House</td>\n",
       "      <td>1364</td>\n",
       "      <td>D28</td>\n",
       "      <td>NaN</td>\n",
       "    </tr>\n",
       "    <tr>\n",
       "      <td>8760</td>\n",
       "      <td>1 Keppel Bay View - D4</td>\n",
       "      <td>Clubhouse,Bomb Shelter,Greenery View,Ground Floor,Swimming Pool,Jacuzzi,Playground,Patio / PES,Gym,BBQ,Tennis Court</td>\n",
       "      <td>1690</td>\n",
       "      <td>3.0</td>\n",
       "      <td>3.0</td>\n",
       "      <td>2 YEARS DEFERRED PAYMENT SCHEME IS BACK! ONLY FOR SELECTED VACANT UNITS!\\r\\n\\r\\nNEW STAR BUYS RELEASED! $180k ADDITIONAL DISCOUNT FROM PREVIOUS PRICE!\\r\\n\\r\\nReflections at Keppel Bay Relaunch\\r\\n\\r\\nSingapore's Most Iconic Waterfront Development\\r\\n\\r\\nMost Anticipated Blk 8 Villa is finally launching for sales!!! Don't Miss!\\r\\n\\r\\nBe the first to view these newly released premium villa units!\\r\\n\\r\\nNormal Payment Scheme with attractive Furniture Rebate!\\r\\n\\r\\nPriced to sell!\\r\\n\\r\\nAttractive price from $14XXpsf (cheaper than suburban prices)\\r\\n\\r\\nUnits with scenic views are available!\\r\\n\\r\\nCall Alfred @ 96428496 for exclusive viewing and more information now!\\r\\n\\r\\nAlfred Chee \\r\\nPropnex Appointed Tagger\\r\\n96428496\\r\\n\\r\\n#Reflectionsrelaunch\\r\\n#iconicwaterfrontdevelopment\\r\\n#KeppelBay\\r\\n#Bestinvestmentscheme\\r\\n#HighROI\\r\\n#Mustgrabopportunity\\r\\n#LuxuryProperty\\r\\n#PNG\\r\\n#PropnexUnited</td>\n",
       "      <td>Furnishing,Partially Furnished,Availability,Now,District,D04</td>\n",
       "      <td>2011 - 99 years</td>\n",
       "      <td>https://www.99.co/singapore/sale/property/reflections-at-keppel-bay-condo-RfrkwmM6b9Mabsw2hJhdb6</td>\n",
       "      <td>Reflections At Keppel Bay</td>\n",
       "      <td>2888000.0</td>\n",
       "      <td>Condo</td>\n",
       "      <td>1709</td>\n",
       "      <td>D4</td>\n",
       "      <td>NaN</td>\n",
       "    </tr>\n",
       "    <tr>\n",
       "      <td>16129</td>\n",
       "      <td>Singapore 543265 - D19</td>\n",
       "      <td>NaN</td>\n",
       "      <td>990</td>\n",
       "      <td>2.0</td>\n",
       "      <td>3.0</td>\n",
       "      <td>Click link to view 360 House Video = http://bit.ly/265Ccompassvale\\r\\n\\r\\nBlock 265C Compassvale for Sale!!\\r\\nAddress = 265C Compassvale Link S(543265)\\r\\n4A Model\\r\\n3 Bedrooms\\r\\n2 Baths\\r\\nSize = 990sqft\\r\\nSuper High Floor\\r\\nCorner Unit\\r\\nFully Renovated\\r\\nExtremely Well Maintained by single lady owner\\r\\nUnblocked View\\r\\nCan only grant option after 11-Feb 2020\\r\\nBalance lease = 01-May 2008 (Balance est 87 years)\\r\\nMins walk to Buangkok MRT Station\\r\\nFuture shopping mall at MRT station\\r\\nPlenty of amenities\\r\\n\\r\\nPlease call/SMS Peter(ERA) 83838300 to arrange for viewing.</td>\n",
       "      <td>Furnishing,Partially Furnished,Availability,Now,District,D19</td>\n",
       "      <td>2008 - 99 years</td>\n",
       "      <td>https://www.99.co/singapore/sale/property/265c-compassvale-link-hdb-zScvBaMQDhzaQF7Y8bsMCh</td>\n",
       "      <td>265C Compassvale Link</td>\n",
       "      <td>570000.0</td>\n",
       "      <td>HDB 4 Rooms</td>\n",
       "      <td>576</td>\n",
       "      <td>D19</td>\n",
       "      <td>NaN</td>\n",
       "    </tr>\n",
       "    <tr>\n",
       "      <td>16130</td>\n",
       "      <td>Singapore 160032 - D3</td>\n",
       "      <td>NaN</td>\n",
       "      <td>548</td>\n",
       "      <td>1.0</td>\n",
       "      <td>2.0</td>\n",
       "      <td>Rare 2 Room Flat at Tiong Bahru MRT for Sale!!\\r\\n\\r\\nBlock 32 Jalan Bukit Ho Swee\\r\\n2 room flat\\r\\n1 Bedroom\\r\\n1 Utility Room\\r\\n1 Bathroom\\r\\nSize = 548sf\\r\\nMid Floor\\r\\nLift Level\\r\\nNext to Corner \\r\\nUnblock Greenery View\\r\\nSimple Renovation\\r\\nQuiet Environment\\r\\nChinese race not eligible\\r\\nTOP = 01-Jan 1971 \\r\\nBalance around 50+ years lease\\r\\nStone throw away from Tiong Bahru MRT Station\\r\\nLess than 3 mins walk to Tiong Bahru Plaza\\r\\n\\r\\nPlease call/SMS Peter(ERA) 83838300 to arrange for viewing. \\r\\n\\r\\nAgents Welcome!</td>\n",
       "      <td>Furnishing,Partially Furnished,Availability,Now,District,D03</td>\n",
       "      <td>1971 -</td>\n",
       "      <td>https://www.99.co/singapore/sale/property/32-jalan-bukit-ho-swee-hdb-mkJmVrRVTDnoMXiNDAoEAA</td>\n",
       "      <td>32 Jalan Bukit Ho Swee</td>\n",
       "      <td>260000.0</td>\n",
       "      <td>HDB 2 Rooms</td>\n",
       "      <td>474</td>\n",
       "      <td>D3</td>\n",
       "      <td>NaN</td>\n",
       "    </tr>\n",
       "    <tr>\n",
       "      <td>16131</td>\n",
       "      <td>Singapore 120306 - D5</td>\n",
       "      <td>Greenery View,Renovated</td>\n",
       "      <td>721</td>\n",
       "      <td>2.0</td>\n",
       "      <td>2.0</td>\n",
       "      <td>***New listing***\\n\\nHdb 3NG for sale\\n\\n* mid floor\\n* Good condition\\n* Spacious layout\\n* Good size bedroom\\n* come with attached bathroom\\n* fully fitted\\n* nice and peaceful environment \\n* quiet facing\\n* walk to eateries and amenities \\n* viewing flexible \\n* mins drive to town \\n* near public transportation and MRT \\n\\nLaven Loo\\nPropNex Realty\\n 65 9798 7489</td>\n",
       "      <td>Furnishing,Partially Furnished,Availability,Now,District,D05</td>\n",
       "      <td>1979 - 99 years</td>\n",
       "      <td>https://www.99.co/singapore/sale/property/306-clementi-avenue-4-hdb-jAQxqtkSETKQWnbCMQnJQ4</td>\n",
       "      <td>306 Clementi Avenue 4</td>\n",
       "      <td>299000.0</td>\n",
       "      <td>HDB 3 Rooms</td>\n",
       "      <td>415</td>\n",
       "      <td>D5</td>\n",
       "      <td>NaN</td>\n",
       "    </tr>\n",
       "    <tr>\n",
       "      <td>...</td>\n",
       "      <td>...</td>\n",
       "      <td>...</td>\n",
       "      <td>...</td>\n",
       "      <td>...</td>\n",
       "      <td>...</td>\n",
       "      <td>...</td>\n",
       "      <td>...</td>\n",
       "      <td>...</td>\n",
       "      <td>...</td>\n",
       "      <td>...</td>\n",
       "      <td>...</td>\n",
       "      <td>...</td>\n",
       "      <td>...</td>\n",
       "      <td>...</td>\n",
       "      <td>...</td>\n",
       "    </tr>\n",
       "    <tr>\n",
       "      <td>24120</td>\n",
       "      <td>Singapore 530370 - D19</td>\n",
       "      <td>NaN</td>\n",
       "      <td>1087</td>\n",
       "      <td>2.0</td>\n",
       "      <td>3.0</td>\n",
       "      <td>* Another Unit Brought to You by Evangeline * One Call View All * \\r\\n\\r\\nSpacious and rare 4RM Flat with 1087sqft\\r\\n\\r\\n- 4A model with good spacious size\\r\\n- Any race and citizenship can buy\\r\\n- Walking distance to Hougang MRT and Hougang Mall\\r\\n- Near corner with good privacy and few neighbours walking in front of house\\r\\n- No noon sun and breezy unit\\r\\n- Just mins to eateries like coffeeshops\\r\\n- Well accessible to many other areas\\r\\n- Serious seller with BTO already collecting soon\\r\\n\\r\\nCall Evangeline @ 9826 2987 for an exclusive viewing now!</td>\n",
       "      <td>Availability,Now,District,D19</td>\n",
       "      <td>1999 -</td>\n",
       "      <td>https://www.99.co/singapore/sale/property/370-hougang-street-31-hdb-CjF49gZw7g7KX2YFufDtxB</td>\n",
       "      <td>370 Hougang Street 31</td>\n",
       "      <td>458000.0</td>\n",
       "      <td>HDB 4 Rooms</td>\n",
       "      <td>421</td>\n",
       "      <td>D19</td>\n",
       "      <td>NaN</td>\n",
       "    </tr>\n",
       "    <tr>\n",
       "      <td>24142</td>\n",
       "      <td>Singapore 123311 - D5</td>\n",
       "      <td>Parking,Playground,Fitness Corner,Hydrotherapy Pool</td>\n",
       "      <td>861</td>\n",
       "      <td>2.0</td>\n",
       "      <td>3.0</td>\n",
       "      <td>311C Clementi Avenue 4</td>\n",
       "      <td>District,D05</td>\n",
       "      <td>2015 - 99 years</td>\n",
       "      <td>https://www.99.co/singapore/sale/property/311c-clementi-avenue-4-hdb-33N7KxaHq2cpFkoK7hitjk</td>\n",
       "      <td>311C Clementi Avenue 4</td>\n",
       "      <td>799888.0</td>\n",
       "      <td>HDB 3 Rooms</td>\n",
       "      <td>929</td>\n",
       "      <td>D5</td>\n",
       "      <td>NaN</td>\n",
       "    </tr>\n",
       "    <tr>\n",
       "      <td>24143</td>\n",
       "      <td>Singapore 643654 - D22</td>\n",
       "      <td>NaN</td>\n",
       "      <td>1194</td>\n",
       "      <td>2.0</td>\n",
       "      <td>3.0</td>\n",
       "      <td>654C JURONG WEST STREET 61\\n-------------------------------------------------------\\n5I 111sqm\\nMid Floor\\nBright &amp; Breezy\\nPark Facing\\nTastefully Renovated\\nMove in Condition\\nSeller upgrading\\nPriced to sell\\n\\nSteps to Pioneer MRT\\nEateries &amp; Amenities at your doorstep\\nCall/SMS JJ Axel 81682800 to appreciate!!</td>\n",
       "      <td>Furnishing,Partially Furnished,District,D22</td>\n",
       "      <td>2002 -</td>\n",
       "      <td>https://www.99.co/singapore/sale/property/654c-jurong-west-street-61-hdb-9kPT6Hf3tuxkWyLf74ZSSD</td>\n",
       "      <td>654C Jurong West Street 61</td>\n",
       "      <td>460000.0</td>\n",
       "      <td>HDB 5 Rooms</td>\n",
       "      <td>385</td>\n",
       "      <td>D22</td>\n",
       "      <td>NaN</td>\n",
       "    </tr>\n",
       "    <tr>\n",
       "      <td>24144</td>\n",
       "      <td>Singapore 794430 - D28</td>\n",
       "      <td>High Floor,Corner Unit,Aircon</td>\n",
       "      <td>1205</td>\n",
       "      <td>2.0</td>\n",
       "      <td>3.0</td>\n",
       "      <td>Just MOP HDB 5 Room for Sale ....\\n\\nVery high floor with Stunning unblock view offering plenty natural sunlight and very breezy throughout the day.... \\n\\nSpacious with Regular layout Ensure efficient space usage!\\n\\n\\n* 112 Sq m / 1205 Sq ft\\n* Corner unit\\n* Near Amenities such as The Seletar Mall, Child Care Centre, Eateries, Shop etc...\\n* Minutes Walk to Fernvale LRT Stations\\n* Open to all Ethnic group\\n\\nSee to believe!!! \\n\\nHurry don’t miss.. call Amelia Koh 8233 1133 for exclusive viewing now!!</td>\n",
       "      <td>Furnishing,Partially Furnished,Availability,Now,District,D28</td>\n",
       "      <td>2015 - 99 years</td>\n",
       "      <td>https://www.99.co/singapore/sale/property/430d-fernvale-link-hdb-hHbWMBvJc9QwyYtQhz7YDL</td>\n",
       "      <td>430D Fernvale Link</td>\n",
       "      <td>600000.0</td>\n",
       "      <td>HDB 5 Rooms</td>\n",
       "      <td>498</td>\n",
       "      <td>D28</td>\n",
       "      <td>NaN</td>\n",
       "    </tr>\n",
       "    <tr>\n",
       "      <td>24149</td>\n",
       "      <td>Singapore 650366 - D23</td>\n",
       "      <td>Mid Floor,Utility Room,Corner Unit</td>\n",
       "      <td>1550</td>\n",
       "      <td>2.0</td>\n",
       "      <td>3.0</td>\n",
       "      <td>EA FOR SALE!\\n\\n- Executive Apartment\\n- 144 sqm/ 1550 sqft\\n- 3 bedrooms\\n- 2 bathrooms\\n- Corner unit\\n- Near Bukit Gombak MRT\\n- HIP done and billed \\n- Left 65 years lease\\n- All race and SPR are eligible to buy\\n- Asking $610K nego\\n\\nContact RACHEL at 92224026 for viewing!</td>\n",
       "      <td>District,D23</td>\n",
       "      <td>1986 -</td>\n",
       "      <td>https://www.99.co/singapore/sale/property/366-bukit-batok-street-31-hdb-bJHgmapwDphrZQuEwYTzB7</td>\n",
       "      <td>366 Bukit Batok Street 31</td>\n",
       "      <td>610000.0</td>\n",
       "      <td>HDB Executive</td>\n",
       "      <td>394</td>\n",
       "      <td>D23</td>\n",
       "      <td>NaN</td>\n",
       "    </tr>\n",
       "  </tbody>\n",
       "</table>\n",
       "<p>7898 rows × 15 columns</p>\n",
       "</div>"
      ],
      "text/plain": [
       "                      address  \\\n",
       "1256   Lilac Park - D28         \n",
       "8760   1 Keppel Bay View - D4   \n",
       "16129  Singapore 543265 - D19   \n",
       "16130  Singapore 160032 - D3    \n",
       "16131  Singapore 120306 - D5    \n",
       "...                      ...    \n",
       "24120  Singapore 530370 - D19   \n",
       "24142  Singapore 123311 - D5    \n",
       "24143  Singapore 643654 - D22   \n",
       "24144  Singapore 794430 - D28   \n",
       "24149  Singapore 650366 - D23   \n",
       "\n",
       "                                                                                                                 amenities  \\\n",
       "1256   Playground                                                                                                            \n",
       "8760   Clubhouse,Bomb Shelter,Greenery View,Ground Floor,Swimming Pool,Jacuzzi,Playground,Patio / PES,Gym,BBQ,Tennis Court   \n",
       "16129  NaN                                                                                                                   \n",
       "16130  NaN                                                                                                                   \n",
       "16131  Greenery View,Renovated                                                                                               \n",
       "...                        ...                                                                                               \n",
       "24120  NaN                                                                                                                   \n",
       "24142  Parking,Playground,Fitness Corner,Hydrotherapy Pool                                                                   \n",
       "24143  NaN                                                                                                                   \n",
       "24144  High Floor,Corner Unit,Aircon                                                                                         \n",
       "24149  Mid Floor,Utility Room,Corner Unit                                                                                    \n",
       "\n",
       "       area  bathrooms  bedrooms  \\\n",
       "1256   2200  3.0        4.0        \n",
       "8760   1690  3.0        3.0        \n",
       "16129  990   2.0        3.0        \n",
       "16130  548   1.0        2.0        \n",
       "16131  721   2.0        2.0        \n",
       "...    ...   ...        ...        \n",
       "24120  1087  2.0        3.0        \n",
       "24142  861   2.0        3.0        \n",
       "24143  1194  2.0        3.0        \n",
       "24144  1205  2.0        3.0        \n",
       "24149  1550  2.0        3.0        \n",
       "\n",
       "                                                                                                                                                                                                                                                                                                                                                                                                                                                                                                                                                                                                                                                                                                                                                                                                                                                                                                                                                 description  \\\n",
       "1256   Lilac Park                                                                                                                                                                                                                                                                                                                                                                                                                                                                                                                                                                                                                                                                                                                                                                                                                                                                                                                                              \n",
       "8760   2 YEARS DEFERRED PAYMENT SCHEME IS BACK! ONLY FOR SELECTED VACANT UNITS!\\r\\n\\r\\nNEW STAR BUYS RELEASED! $180k ADDITIONAL DISCOUNT FROM PREVIOUS PRICE!\\r\\n\\r\\nReflections at Keppel Bay Relaunch\\r\\n\\r\\nSingapore's Most Iconic Waterfront Development\\r\\n\\r\\nMost Anticipated Blk 8 Villa is finally launching for sales!!! Don't Miss!\\r\\n\\r\\nBe the first to view these newly released premium villa units!\\r\\n\\r\\nNormal Payment Scheme with attractive Furniture Rebate!\\r\\n\\r\\nPriced to sell!\\r\\n\\r\\nAttractive price from $14XXpsf (cheaper than suburban prices)\\r\\n\\r\\nUnits with scenic views are available!\\r\\n\\r\\nCall Alfred @ 96428496 for exclusive viewing and more information now!\\r\\n\\r\\nAlfred Chee \\r\\nPropnex Appointed Tagger\\r\\n96428496\\r\\n\\r\\n#Reflectionsrelaunch\\r\\n#iconicwaterfrontdevelopment\\r\\n#KeppelBay\\r\\n#Bestinvestmentscheme\\r\\n#HighROI\\r\\n#Mustgrabopportunity\\r\\n#LuxuryProperty\\r\\n#PNG\\r\\n#PropnexUnited   \n",
       "16129  Click link to view 360 House Video = http://bit.ly/265Ccompassvale\\r\\n\\r\\nBlock 265C Compassvale for Sale!!\\r\\nAddress = 265C Compassvale Link S(543265)\\r\\n4A Model\\r\\n3 Bedrooms\\r\\n2 Baths\\r\\nSize = 990sqft\\r\\nSuper High Floor\\r\\nCorner Unit\\r\\nFully Renovated\\r\\nExtremely Well Maintained by single lady owner\\r\\nUnblocked View\\r\\nCan only grant option after 11-Feb 2020\\r\\nBalance lease = 01-May 2008 (Balance est 87 years)\\r\\nMins walk to Buangkok MRT Station\\r\\nFuture shopping mall at MRT station\\r\\nPlenty of amenities\\r\\n\\r\\nPlease call/SMS Peter(ERA) 83838300 to arrange for viewing.                                                                                                                                                                                                                                                                                                                                        \n",
       "16130  Rare 2 Room Flat at Tiong Bahru MRT for Sale!!\\r\\n\\r\\nBlock 32 Jalan Bukit Ho Swee\\r\\n2 room flat\\r\\n1 Bedroom\\r\\n1 Utility Room\\r\\n1 Bathroom\\r\\nSize = 548sf\\r\\nMid Floor\\r\\nLift Level\\r\\nNext to Corner \\r\\nUnblock Greenery View\\r\\nSimple Renovation\\r\\nQuiet Environment\\r\\nChinese race not eligible\\r\\nTOP = 01-Jan 1971 \\r\\nBalance around 50+ years lease\\r\\nStone throw away from Tiong Bahru MRT Station\\r\\nLess than 3 mins walk to Tiong Bahru Plaza\\r\\n\\r\\nPlease call/SMS Peter(ERA) 83838300 to arrange for viewing. \\r\\n\\r\\nAgents Welcome!                                                                                                                                                                                                                                                                                                                                                                                          \n",
       "16131  ***New listing***\\n\\nHdb 3NG for sale\\n\\n* mid floor\\n* Good condition\\n* Spacious layout\\n* Good size bedroom\\n* come with attached bathroom\\n* fully fitted\\n* nice and peaceful environment \\n* quiet facing\\n* walk to eateries and amenities \\n* viewing flexible \\n* mins drive to town \\n* near public transportation and MRT \\n\\nLaven Loo\\nPropNex Realty\\n 65 9798 7489                                                                                                                                                                                                                                                                                                                                                                                                                                                                                                                                                                       \n",
       "...                                                                                                                                                                                                                                                                                                                                                                                  ...                                                                                                                                                                                                                                                                                                                                                                                                                                                                                                                                                                       \n",
       "24120  * Another Unit Brought to You by Evangeline * One Call View All * \\r\\n\\r\\nSpacious and rare 4RM Flat with 1087sqft\\r\\n\\r\\n- 4A model with good spacious size\\r\\n- Any race and citizenship can buy\\r\\n- Walking distance to Hougang MRT and Hougang Mall\\r\\n- Near corner with good privacy and few neighbours walking in front of house\\r\\n- No noon sun and breezy unit\\r\\n- Just mins to eateries like coffeeshops\\r\\n- Well accessible to many other areas\\r\\n- Serious seller with BTO already collecting soon\\r\\n\\r\\nCall Evangeline @ 9826 2987 for an exclusive viewing now!                                                                                                                                                                                                                                                                                                                                                                    \n",
       "24142  311C Clementi Avenue 4                                                                                                                                                                                                                                                                                                                                                                                                                                                                                                                                                                                                                                                                                                                                                                                                                                                                                                                                  \n",
       "24143  654C JURONG WEST STREET 61\\n-------------------------------------------------------\\n5I 111sqm\\nMid Floor\\nBright & Breezy\\nPark Facing\\nTastefully Renovated\\nMove in Condition\\nSeller upgrading\\nPriced to sell\\n\\nSteps to Pioneer MRT\\nEateries & Amenities at your doorstep\\nCall/SMS JJ Axel 81682800 to appreciate!!                                                                                                                                                                                                                                                                                                                                                                                                                                                                                                                                                                                                                            \n",
       "24144  Just MOP HDB 5 Room for Sale ....\\n\\nVery high floor with Stunning unblock view offering plenty natural sunlight and very breezy throughout the day.... \\n\\nSpacious with Regular layout Ensure efficient space usage!\\n\\n\\n* 112 Sq m / 1205 Sq ft\\n* Corner unit\\n* Near Amenities such as The Seletar Mall, Child Care Centre, Eateries, Shop etc...\\n* Minutes Walk to Fernvale LRT Stations\\n* Open to all Ethnic group\\n\\nSee to believe!!! \\n\\nHurry don’t miss.. call Amelia Koh 8233 1133 for exclusive viewing now!!                                                                                                                                                                                                                                                                                                                                                                                                                          \n",
       "24149  EA FOR SALE!\\n\\n- Executive Apartment\\n- 144 sqm/ 1550 sqft\\n- 3 bedrooms\\n- 2 bathrooms\\n- Corner unit\\n- Near Bukit Gombak MRT\\n- HIP done and billed \\n- Left 65 years lease\\n- All race and SPR are eligible to buy\\n- Asking $610K nego\\n\\nContact RACHEL at 92224026 for viewing!                                                                                                                                                                                                                                                                                                                                                                                                                                                                                                                                                                                                                                                                 \n",
       "\n",
       "                                                            details  \\\n",
       "1256   NaN                                                            \n",
       "8760   Furnishing,Partially Furnished,Availability,Now,District,D04   \n",
       "16129  Furnishing,Partially Furnished,Availability,Now,District,D19   \n",
       "16130  Furnishing,Partially Furnished,Availability,Now,District,D03   \n",
       "16131  Furnishing,Partially Furnished,Availability,Now,District,D05   \n",
       "...                                                             ...   \n",
       "24120  Availability,Now,District,D19                                  \n",
       "24142  District,D05                                                   \n",
       "24143  Furnishing,Partially Furnished,District,D22                    \n",
       "24144  Furnishing,Partially Furnished,Availability,Now,District,D28   \n",
       "24149  District,D23                                                   \n",
       "\n",
       "                 lease  \\\n",
       "1256   1990 - Freehold   \n",
       "8760   2011 - 99 years   \n",
       "16129  2008 - 99 years   \n",
       "16130  1971 -            \n",
       "16131  1979 - 99 years   \n",
       "...                ...   \n",
       "24120  1999 -            \n",
       "24142  2015 - 99 years   \n",
       "24143  2002 -            \n",
       "24144  2015 - 99 years   \n",
       "24149  1986 -            \n",
       "\n",
       "                                                                                                   link  \\\n",
       "1256   https://www.99.co/singapore/sale/property/property-in-singapore-landed-JkieMG5XD4hdbbCKHRZWb5      \n",
       "8760   https://www.99.co/singapore/sale/property/reflections-at-keppel-bay-condo-RfrkwmM6b9Mabsw2hJhdb6   \n",
       "16129  https://www.99.co/singapore/sale/property/265c-compassvale-link-hdb-zScvBaMQDhzaQF7Y8bsMCh         \n",
       "16130  https://www.99.co/singapore/sale/property/32-jalan-bukit-ho-swee-hdb-mkJmVrRVTDnoMXiNDAoEAA        \n",
       "16131  https://www.99.co/singapore/sale/property/306-clementi-avenue-4-hdb-jAQxqtkSETKQWnbCMQnJQ4         \n",
       "...                                                                                           ...         \n",
       "24120  https://www.99.co/singapore/sale/property/370-hougang-street-31-hdb-CjF49gZw7g7KX2YFufDtxB         \n",
       "24142  https://www.99.co/singapore/sale/property/311c-clementi-avenue-4-hdb-33N7KxaHq2cpFkoK7hitjk        \n",
       "24143  https://www.99.co/singapore/sale/property/654c-jurong-west-street-61-hdb-9kPT6Hf3tuxkWyLf74ZSSD    \n",
       "24144  https://www.99.co/singapore/sale/property/430d-fernvale-link-hdb-hHbWMBvJc9QwyYtQhz7YDL            \n",
       "24149  https://www.99.co/singapore/sale/property/366-bukit-batok-street-31-hdb-bJHgmapwDphrZQuEwYTzB7     \n",
       "\n",
       "                             name      price   property_type  psf_price  \\\n",
       "1256   Lilac Park                  3000000.0  Terraced House  1364        \n",
       "8760   Reflections At Keppel Bay   2888000.0  Condo           1709        \n",
       "16129  265C Compassvale Link       570000.0   HDB 4 Rooms     576         \n",
       "16130  32 Jalan Bukit Ho Swee      260000.0   HDB 2 Rooms     474         \n",
       "16131  306 Clementi Avenue 4       299000.0   HDB 3 Rooms     415         \n",
       "...                      ...            ...           ...     ...         \n",
       "24120  370 Hougang Street 31       458000.0   HDB 4 Rooms     421         \n",
       "24142  311C Clementi Avenue 4      799888.0   HDB 3 Rooms     929         \n",
       "24143  654C Jurong West Street 61  460000.0   HDB 5 Rooms     385         \n",
       "24144  430D Fernvale Link          600000.0   HDB 5 Rooms     498         \n",
       "24149  366 Bukit Batok Street 31   610000.0   HDB Executive   394         \n",
       "\n",
       "      district floor_type  \n",
       "1256   D28      NaN        \n",
       "8760   D4       NaN        \n",
       "16129  D19      NaN        \n",
       "16130  D3       NaN        \n",
       "16131  D5       NaN        \n",
       "...    ..       ...        \n",
       "24120  D19      NaN        \n",
       "24142  D5       NaN        \n",
       "24143  D22      NaN        \n",
       "24144  D28      NaN        \n",
       "24149  D23      NaN        \n",
       "\n",
       "[7898 rows x 15 columns]"
      ]
     },
     "execution_count": 179,
     "metadata": {},
     "output_type": "execute_result"
    }
   ],
   "source": [
    "hdb_df"
   ]
  },
  {
   "cell_type": "markdown",
   "metadata": {},
   "source": [
    "## Model"
   ]
  },
  {
   "cell_type": "code",
   "execution_count": 99,
   "metadata": {
    "ExecuteTime": {
     "end_time": "2020-04-11T03:38:26.540948Z",
     "start_time": "2020-04-11T03:38:26.351422Z"
    }
   },
   "outputs": [
    {
     "data": {
      "text/plain": [
       "<matplotlib.axes._subplots.AxesSubplot at 0x1f6c79ef948>"
      ]
     },
     "execution_count": 99,
     "metadata": {},
     "output_type": "execute_result"
    },
    {
     "data": {
      "image/png": "[encoded data removed]",
      "text/plain": [
       "<Figure size 432x288 with 1 Axes>"
      ]
     },
     "metadata": {
      "needs_background": "light"
     },
     "output_type": "display_data"
    }
   ],
   "source": [
    "sns.scatterplot(data=landed_df,x='area',y='price')"
   ]
  },
  {
   "cell_type": "code",
   "execution_count": 38,
   "metadata": {
    "ExecuteTime": {
     "end_time": "2020-04-11T04:49:38.149412Z",
     "start_time": "2020-04-11T04:49:38.145423Z"
    }
   },
   "outputs": [],
   "source": [
    "lin_reg = LinearRegression()"
   ]
  },
  {
   "cell_type": "code",
   "execution_count": 37,
   "metadata": {
    "ExecuteTime": {
     "end_time": "2020-04-11T04:49:34.718519Z",
     "start_time": "2020-04-11T04:49:34.692556Z"
    }
   },
   "outputs": [
    {
     "data": {
      "text/html": [
       "<div>\n",
       "<style scoped>\n",
       "    .dataframe tbody tr th:only-of-type {\n",
       "        vertical-align: middle;\n",
       "    }\n",
       "\n",
       "    .dataframe tbody tr th {\n",
       "        vertical-align: top;\n",
       "    }\n",
       "\n",
       "    .dataframe thead th {\n",
       "        text-align: right;\n",
       "    }\n",
       "</style>\n",
       "<table border=\"1\" class=\"dataframe\">\n",
       "  <thead>\n",
       "    <tr style=\"text-align: right;\">\n",
       "      <th></th>\n",
       "      <th>address</th>\n",
       "      <th>amenities</th>\n",
       "      <th>area</th>\n",
       "      <th>bathrooms</th>\n",
       "      <th>bedrooms</th>\n",
       "      <th>description</th>\n",
       "      <th>details</th>\n",
       "      <th>lease</th>\n",
       "      <th>link</th>\n",
       "      <th>name</th>\n",
       "      <th>price</th>\n",
       "      <th>property_type</th>\n",
       "      <th>psf_price</th>\n",
       "      <th>district</th>\n",
       "      <th>floor_type</th>\n",
       "      <th>floor</th>\n",
       "    </tr>\n",
       "  </thead>\n",
       "  <tbody>\n",
       "    <tr>\n",
       "      <td>1256</td>\n",
       "      <td>Lilac Park - D28</td>\n",
       "      <td>Playground</td>\n",
       "      <td>2200</td>\n",
       "      <td>3.0</td>\n",
       "      <td>4.0</td>\n",
       "      <td>Lilac Park</td>\n",
       "      <td>NaN</td>\n",
       "      <td>1990 - Freehold</td>\n",
       "      <td>https://www.99.co/singapore/sale/property/property-in-singapore-landed-JkieMG5XD4hdbbCKHRZWb5</td>\n",
       "      <td>Lilac Park</td>\n",
       "      <td>3000000.0</td>\n",
       "      <td>Terraced House</td>\n",
       "      <td>1364</td>\n",
       "      <td>D28</td>\n",
       "      <td>NaN</td>\n",
       "      <td>None</td>\n",
       "    </tr>\n",
       "    <tr>\n",
       "      <td>8760</td>\n",
       "      <td>1 Keppel Bay View - D4</td>\n",
       "      <td>Clubhouse,Bomb Shelter,Greenery View,Ground Floor,Swimming Pool,Jacuzzi,Playground,Patio / PES,Gym,BBQ,Tennis Court</td>\n",
       "      <td>1690</td>\n",
       "      <td>3.0</td>\n",
       "      <td>3.0</td>\n",
       "      <td>2 YEARS DEFERRED PAYMENT SCHEME IS BACK! ONLY FOR SELECTED VACANT UNITS!\\r\\n\\r\\nNEW STAR BUYS RELEASED! $180k ADDITIONAL DISCOUNT FROM PREVIOUS PRICE!\\r\\n\\r\\nReflections at Keppel Bay Relaunch\\r\\n\\r\\nSingapore's Most Iconic Waterfront Development\\r\\n\\r\\nMost Anticipated Blk 8 Villa is finally launching for sales!!! Don't Miss!\\r\\n\\r\\nBe the first to view these newly released premium villa units!\\r\\n\\r\\nNormal Payment Scheme with attractive Furniture Rebate!\\r\\n\\r\\nPriced to sell!\\r\\n\\r\\nAttractive price from $14XXpsf (cheaper than suburban prices)\\r\\n\\r\\nUnits with scenic views are available!\\r\\n\\r\\nCall Alfred @ 96428496 for exclusive viewing and more information now!\\r\\n\\r\\nAlfred Chee \\r\\nPropnex Appointed Tagger\\r\\n96428496\\r\\n\\r\\n#Reflectionsrelaunch\\r\\n#iconicwaterfrontdevelopment\\r\\n#KeppelBay\\r\\n#Bestinvestmentscheme\\r\\n#HighROI\\r\\n#Mustgrabopportunity\\r\\n#LuxuryProperty\\r\\n#PNG\\r\\n#PropnexUnited</td>\n",
       "      <td>Furnishing,Partially Furnished,Availability,Now,District,D04</td>\n",
       "      <td>2011 - 99 years</td>\n",
       "      <td>https://www.99.co/singapore/sale/property/reflections-at-keppel-bay-condo-RfrkwmM6b9Mabsw2hJhdb6</td>\n",
       "      <td>Reflections At Keppel Bay</td>\n",
       "      <td>2888000.0</td>\n",
       "      <td>Condo</td>\n",
       "      <td>1709</td>\n",
       "      <td>D4</td>\n",
       "      <td>NaN</td>\n",
       "      <td>None</td>\n",
       "    </tr>\n",
       "    <tr>\n",
       "      <td>16129</td>\n",
       "      <td>Singapore 543265 - D19</td>\n",
       "      <td>NaN</td>\n",
       "      <td>990</td>\n",
       "      <td>2.0</td>\n",
       "      <td>3.0</td>\n",
       "      <td>Click link to view 360 House Video = http://bit.ly/265Ccompassvale\\r\\n\\r\\nBlock 265C Compassvale for Sale!!\\r\\nAddress = 265C Compassvale Link S(543265)\\r\\n4A Model\\r\\n3 Bedrooms\\r\\n2 Baths\\r\\nSize = 990sqft\\r\\nSuper High Floor\\r\\nCorner Unit\\r\\nFully Renovated\\r\\nExtremely Well Maintained by single lady owner\\r\\nUnblocked View\\r\\nCan only grant option after 11-Feb 2020\\r\\nBalance lease = 01-May 2008 (Balance est 87 years)\\r\\nMins walk to Buangkok MRT Station\\r\\nFuture shopping mall at MRT station\\r\\nPlenty of amenities\\r\\n\\r\\nPlease call/SMS Peter(ERA) 83838300 to arrange for viewing.</td>\n",
       "      <td>Furnishing,Partially Furnished,Availability,Now,District,D19</td>\n",
       "      <td>2008 - 99 years</td>\n",
       "      <td>https://www.99.co/singapore/sale/property/265c-compassvale-link-hdb-zScvBaMQDhzaQF7Y8bsMCh</td>\n",
       "      <td>265C Compassvale Link</td>\n",
       "      <td>570000.0</td>\n",
       "      <td>HDB 4 Rooms</td>\n",
       "      <td>576</td>\n",
       "      <td>D19</td>\n",
       "      <td>NaN</td>\n",
       "      <td>None</td>\n",
       "    </tr>\n",
       "    <tr>\n",
       "      <td>16130</td>\n",
       "      <td>Singapore 160032 - D3</td>\n",
       "      <td>NaN</td>\n",
       "      <td>548</td>\n",
       "      <td>1.0</td>\n",
       "      <td>2.0</td>\n",
       "      <td>Rare 2 Room Flat at Tiong Bahru MRT for Sale!!\\r\\n\\r\\nBlock 32 Jalan Bukit Ho Swee\\r\\n2 room flat\\r\\n1 Bedroom\\r\\n1 Utility Room\\r\\n1 Bathroom\\r\\nSize = 548sf\\r\\nMid Floor\\r\\nLift Level\\r\\nNext to Corner \\r\\nUnblock Greenery View\\r\\nSimple Renovation\\r\\nQuiet Environment\\r\\nChinese race not eligible\\r\\nTOP = 01-Jan 1971 \\r\\nBalance around 50+ years lease\\r\\nStone throw away from Tiong Bahru MRT Station\\r\\nLess than 3 mins walk to Tiong Bahru Plaza\\r\\n\\r\\nPlease call/SMS Peter(ERA) 83838300 to arrange for viewing. \\r\\n\\r\\nAgents Welcome!</td>\n",
       "      <td>Furnishing,Partially Furnished,Availability,Now,District,D03</td>\n",
       "      <td>1971 -</td>\n",
       "      <td>https://www.99.co/singapore/sale/property/32-jalan-bukit-ho-swee-hdb-mkJmVrRVTDnoMXiNDAoEAA</td>\n",
       "      <td>32 Jalan Bukit Ho Swee</td>\n",
       "      <td>260000.0</td>\n",
       "      <td>HDB 2 Rooms</td>\n",
       "      <td>474</td>\n",
       "      <td>D3</td>\n",
       "      <td>NaN</td>\n",
       "      <td>None</td>\n",
       "    </tr>\n",
       "    <tr>\n",
       "      <td>16131</td>\n",
       "      <td>Singapore 120306 - D5</td>\n",
       "      <td>Greenery View,Renovated</td>\n",
       "      <td>721</td>\n",
       "      <td>2.0</td>\n",
       "      <td>2.0</td>\n",
       "      <td>***New listing***\\n\\nHdb 3NG for sale\\n\\n* mid floor\\n* Good condition\\n* Spacious layout\\n* Good size bedroom\\n* come with attached bathroom\\n* fully fitted\\n* nice and peaceful environment \\n* quiet facing\\n* walk to eateries and amenities \\n* viewing flexible \\n* mins drive to town \\n* near public transportation and MRT \\n\\nLaven Loo\\nPropNex Realty\\n 65 9798 7489</td>\n",
       "      <td>Furnishing,Partially Furnished,Availability,Now,District,D05</td>\n",
       "      <td>1979 - 99 years</td>\n",
       "      <td>https://www.99.co/singapore/sale/property/306-clementi-avenue-4-hdb-jAQxqtkSETKQWnbCMQnJQ4</td>\n",
       "      <td>306 Clementi Avenue 4</td>\n",
       "      <td>299000.0</td>\n",
       "      <td>HDB 3 Rooms</td>\n",
       "      <td>415</td>\n",
       "      <td>D5</td>\n",
       "      <td>NaN</td>\n",
       "      <td>None</td>\n",
       "    </tr>\n",
       "    <tr>\n",
       "      <td>...</td>\n",
       "      <td>...</td>\n",
       "      <td>...</td>\n",
       "      <td>...</td>\n",
       "      <td>...</td>\n",
       "      <td>...</td>\n",
       "      <td>...</td>\n",
       "      <td>...</td>\n",
       "      <td>...</td>\n",
       "      <td>...</td>\n",
       "      <td>...</td>\n",
       "      <td>...</td>\n",
       "      <td>...</td>\n",
       "      <td>...</td>\n",
       "      <td>...</td>\n",
       "      <td>...</td>\n",
       "      <td>...</td>\n",
       "    </tr>\n",
       "    <tr>\n",
       "      <td>24120</td>\n",
       "      <td>Singapore 530370 - D19</td>\n",
       "      <td>NaN</td>\n",
       "      <td>1087</td>\n",
       "      <td>2.0</td>\n",
       "      <td>3.0</td>\n",
       "      <td>* Another Unit Brought to You by Evangeline * One Call View All * \\r\\n\\r\\nSpacious and rare 4RM Flat with 1087sqft\\r\\n\\r\\n- 4A model with good spacious size\\r\\n- Any race and citizenship can buy\\r\\n- Walking distance to Hougang MRT and Hougang Mall\\r\\n- Near corner with good privacy and few neighbours walking in front of house\\r\\n- No noon sun and breezy unit\\r\\n- Just mins to eateries like coffeeshops\\r\\n- Well accessible to many other areas\\r\\n- Serious seller with BTO already collecting soon\\r\\n\\r\\nCall Evangeline @ 9826 2987 for an exclusive viewing now!</td>\n",
       "      <td>Availability,Now,District,D19</td>\n",
       "      <td>1999 -</td>\n",
       "      <td>https://www.99.co/singapore/sale/property/370-hougang-street-31-hdb-CjF49gZw7g7KX2YFufDtxB</td>\n",
       "      <td>370 Hougang Street 31</td>\n",
       "      <td>458000.0</td>\n",
       "      <td>HDB 4 Rooms</td>\n",
       "      <td>421</td>\n",
       "      <td>D19</td>\n",
       "      <td>NaN</td>\n",
       "      <td>None</td>\n",
       "    </tr>\n",
       "    <tr>\n",
       "      <td>24142</td>\n",
       "      <td>Singapore 123311 - D5</td>\n",
       "      <td>Parking,Playground,Fitness Corner,Hydrotherapy Pool</td>\n",
       "      <td>861</td>\n",
       "      <td>2.0</td>\n",
       "      <td>3.0</td>\n",
       "      <td>311C Clementi Avenue 4</td>\n",
       "      <td>District,D05</td>\n",
       "      <td>2015 - 99 years</td>\n",
       "      <td>https://www.99.co/singapore/sale/property/311c-clementi-avenue-4-hdb-33N7KxaHq2cpFkoK7hitjk</td>\n",
       "      <td>311C Clementi Avenue 4</td>\n",
       "      <td>799888.0</td>\n",
       "      <td>HDB 3 Rooms</td>\n",
       "      <td>929</td>\n",
       "      <td>D5</td>\n",
       "      <td>NaN</td>\n",
       "      <td>None</td>\n",
       "    </tr>\n",
       "    <tr>\n",
       "      <td>24143</td>\n",
       "      <td>Singapore 643654 - D22</td>\n",
       "      <td>NaN</td>\n",
       "      <td>1194</td>\n",
       "      <td>2.0</td>\n",
       "      <td>3.0</td>\n",
       "      <td>654C JURONG WEST STREET 61\\n-------------------------------------------------------\\n5I 111sqm\\nMid Floor\\nBright &amp; Breezy\\nPark Facing\\nTastefully Renovated\\nMove in Condition\\nSeller upgrading\\nPriced to sell\\n\\nSteps to Pioneer MRT\\nEateries &amp; Amenities at your doorstep\\nCall/SMS JJ Axel 81682800 to appreciate!!</td>\n",
       "      <td>Furnishing,Partially Furnished,District,D22</td>\n",
       "      <td>2002 -</td>\n",
       "      <td>https://www.99.co/singapore/sale/property/654c-jurong-west-street-61-hdb-9kPT6Hf3tuxkWyLf74ZSSD</td>\n",
       "      <td>654C Jurong West Street 61</td>\n",
       "      <td>460000.0</td>\n",
       "      <td>HDB 5 Rooms</td>\n",
       "      <td>385</td>\n",
       "      <td>D22</td>\n",
       "      <td>NaN</td>\n",
       "      <td>None</td>\n",
       "    </tr>\n",
       "    <tr>\n",
       "      <td>24144</td>\n",
       "      <td>Singapore 794430 - D28</td>\n",
       "      <td>High Floor,Corner Unit,Aircon</td>\n",
       "      <td>1205</td>\n",
       "      <td>2.0</td>\n",
       "      <td>3.0</td>\n",
       "      <td>Just MOP HDB 5 Room for Sale ....\\n\\nVery high floor with Stunning unblock view offering plenty natural sunlight and very breezy throughout the day.... \\n\\nSpacious with Regular layout Ensure efficient space usage!\\n\\n\\n* 112 Sq m / 1205 Sq ft\\n* Corner unit\\n* Near Amenities such as The Seletar Mall, Child Care Centre, Eateries, Shop etc...\\n* Minutes Walk to Fernvale LRT Stations\\n* Open to all Ethnic group\\n\\nSee to believe!!! \\n\\nHurry don’t miss.. call Amelia Koh 8233 1133 for exclusive viewing now!!</td>\n",
       "      <td>Furnishing,Partially Furnished,Availability,Now,District,D28</td>\n",
       "      <td>2015 - 99 years</td>\n",
       "      <td>https://www.99.co/singapore/sale/property/430d-fernvale-link-hdb-hHbWMBvJc9QwyYtQhz7YDL</td>\n",
       "      <td>430D Fernvale Link</td>\n",
       "      <td>600000.0</td>\n",
       "      <td>HDB 5 Rooms</td>\n",
       "      <td>498</td>\n",
       "      <td>D28</td>\n",
       "      <td>NaN</td>\n",
       "      <td>None</td>\n",
       "    </tr>\n",
       "    <tr>\n",
       "      <td>24149</td>\n",
       "      <td>Singapore 650366 - D23</td>\n",
       "      <td>Mid Floor,Utility Room,Corner Unit</td>\n",
       "      <td>1550</td>\n",
       "      <td>2.0</td>\n",
       "      <td>3.0</td>\n",
       "      <td>EA FOR SALE!\\n\\n- Executive Apartment\\n- 144 sqm/ 1550 sqft\\n- 3 bedrooms\\n- 2 bathrooms\\n- Corner unit\\n- Near Bukit Gombak MRT\\n- HIP done and billed \\n- Left 65 years lease\\n- All race and SPR are eligible to buy\\n- Asking $610K nego\\n\\nContact RACHEL at 92224026 for viewing!</td>\n",
       "      <td>District,D23</td>\n",
       "      <td>1986 -</td>\n",
       "      <td>https://www.99.co/singapore/sale/property/366-bukit-batok-street-31-hdb-bJHgmapwDphrZQuEwYTzB7</td>\n",
       "      <td>366 Bukit Batok Street 31</td>\n",
       "      <td>610000.0</td>\n",
       "      <td>HDB Executive</td>\n",
       "      <td>394</td>\n",
       "      <td>D23</td>\n",
       "      <td>NaN</td>\n",
       "      <td>None</td>\n",
       "    </tr>\n",
       "  </tbody>\n",
       "</table>\n",
       "<p>7898 rows × 16 columns</p>\n",
       "</div>"
      ],
      "text/plain": [
       "                      address  \\\n",
       "1256   Lilac Park - D28         \n",
       "8760   1 Keppel Bay View - D4   \n",
       "16129  Singapore 543265 - D19   \n",
       "16130  Singapore 160032 - D3    \n",
       "16131  Singapore 120306 - D5    \n",
       "...                      ...    \n",
       "24120  Singapore 530370 - D19   \n",
       "24142  Singapore 123311 - D5    \n",
       "24143  Singapore 643654 - D22   \n",
       "24144  Singapore 794430 - D28   \n",
       "24149  Singapore 650366 - D23   \n",
       "\n",
       "                                                                                                                 amenities  \\\n",
       "1256   Playground                                                                                                            \n",
       "8760   Clubhouse,Bomb Shelter,Greenery View,Ground Floor,Swimming Pool,Jacuzzi,Playground,Patio / PES,Gym,BBQ,Tennis Court   \n",
       "16129  NaN                                                                                                                   \n",
       "16130  NaN                                                                                                                   \n",
       "16131  Greenery View,Renovated                                                                                               \n",
       "...                        ...                                                                                               \n",
       "24120  NaN                                                                                                                   \n",
       "24142  Parking,Playground,Fitness Corner,Hydrotherapy Pool                                                                   \n",
       "24143  NaN                                                                                                                   \n",
       "24144  High Floor,Corner Unit,Aircon                                                                                         \n",
       "24149  Mid Floor,Utility Room,Corner Unit                                                                                    \n",
       "\n",
       "       area  bathrooms  bedrooms  \\\n",
       "1256   2200  3.0        4.0        \n",
       "8760   1690  3.0        3.0        \n",
       "16129  990   2.0        3.0        \n",
       "16130  548   1.0        2.0        \n",
       "16131  721   2.0        2.0        \n",
       "...    ...   ...        ...        \n",
       "24120  1087  2.0        3.0        \n",
       "24142  861   2.0        3.0        \n",
       "24143  1194  2.0        3.0        \n",
       "24144  1205  2.0        3.0        \n",
       "24149  1550  2.0        3.0        \n",
       "\n",
       "                                                                                                                                                                                                                                                                                                                                                                                                                                                                                                                                                                                                                                                                                                                                                                                                                                                                                                                                                 description  \\\n",
       "1256   Lilac Park                                                                                                                                                                                                                                                                                                                                                                                                                                                                                                                                                                                                                                                                                                                                                                                                                                                                                                                                              \n",
       "8760   2 YEARS DEFERRED PAYMENT SCHEME IS BACK! ONLY FOR SELECTED VACANT UNITS!\\r\\n\\r\\nNEW STAR BUYS RELEASED! $180k ADDITIONAL DISCOUNT FROM PREVIOUS PRICE!\\r\\n\\r\\nReflections at Keppel Bay Relaunch\\r\\n\\r\\nSingapore's Most Iconic Waterfront Development\\r\\n\\r\\nMost Anticipated Blk 8 Villa is finally launching for sales!!! Don't Miss!\\r\\n\\r\\nBe the first to view these newly released premium villa units!\\r\\n\\r\\nNormal Payment Scheme with attractive Furniture Rebate!\\r\\n\\r\\nPriced to sell!\\r\\n\\r\\nAttractive price from $14XXpsf (cheaper than suburban prices)\\r\\n\\r\\nUnits with scenic views are available!\\r\\n\\r\\nCall Alfred @ 96428496 for exclusive viewing and more information now!\\r\\n\\r\\nAlfred Chee \\r\\nPropnex Appointed Tagger\\r\\n96428496\\r\\n\\r\\n#Reflectionsrelaunch\\r\\n#iconicwaterfrontdevelopment\\r\\n#KeppelBay\\r\\n#Bestinvestmentscheme\\r\\n#HighROI\\r\\n#Mustgrabopportunity\\r\\n#LuxuryProperty\\r\\n#PNG\\r\\n#PropnexUnited   \n",
       "16129  Click link to view 360 House Video = http://bit.ly/265Ccompassvale\\r\\n\\r\\nBlock 265C Compassvale for Sale!!\\r\\nAddress = 265C Compassvale Link S(543265)\\r\\n4A Model\\r\\n3 Bedrooms\\r\\n2 Baths\\r\\nSize = 990sqft\\r\\nSuper High Floor\\r\\nCorner Unit\\r\\nFully Renovated\\r\\nExtremely Well Maintained by single lady owner\\r\\nUnblocked View\\r\\nCan only grant option after 11-Feb 2020\\r\\nBalance lease = 01-May 2008 (Balance est 87 years)\\r\\nMins walk to Buangkok MRT Station\\r\\nFuture shopping mall at MRT station\\r\\nPlenty of amenities\\r\\n\\r\\nPlease call/SMS Peter(ERA) 83838300 to arrange for viewing.                                                                                                                                                                                                                                                                                                                                        \n",
       "16130  Rare 2 Room Flat at Tiong Bahru MRT for Sale!!\\r\\n\\r\\nBlock 32 Jalan Bukit Ho Swee\\r\\n2 room flat\\r\\n1 Bedroom\\r\\n1 Utility Room\\r\\n1 Bathroom\\r\\nSize = 548sf\\r\\nMid Floor\\r\\nLift Level\\r\\nNext to Corner \\r\\nUnblock Greenery View\\r\\nSimple Renovation\\r\\nQuiet Environment\\r\\nChinese race not eligible\\r\\nTOP = 01-Jan 1971 \\r\\nBalance around 50+ years lease\\r\\nStone throw away from Tiong Bahru MRT Station\\r\\nLess than 3 mins walk to Tiong Bahru Plaza\\r\\n\\r\\nPlease call/SMS Peter(ERA) 83838300 to arrange for viewing. \\r\\n\\r\\nAgents Welcome!                                                                                                                                                                                                                                                                                                                                                                                          \n",
       "16131  ***New listing***\\n\\nHdb 3NG for sale\\n\\n* mid floor\\n* Good condition\\n* Spacious layout\\n* Good size bedroom\\n* come with attached bathroom\\n* fully fitted\\n* nice and peaceful environment \\n* quiet facing\\n* walk to eateries and amenities \\n* viewing flexible \\n* mins drive to town \\n* near public transportation and MRT \\n\\nLaven Loo\\nPropNex Realty\\n 65 9798 7489                                                                                                                                                                                                                                                                                                                                                                                                                                                                                                                                                                       \n",
       "...                                                                                                                                                                                                                                                                                                                                                                                  ...                                                                                                                                                                                                                                                                                                                                                                                                                                                                                                                                                                       \n",
       "24120  * Another Unit Brought to You by Evangeline * One Call View All * \\r\\n\\r\\nSpacious and rare 4RM Flat with 1087sqft\\r\\n\\r\\n- 4A model with good spacious size\\r\\n- Any race and citizenship can buy\\r\\n- Walking distance to Hougang MRT and Hougang Mall\\r\\n- Near corner with good privacy and few neighbours walking in front of house\\r\\n- No noon sun and breezy unit\\r\\n- Just mins to eateries like coffeeshops\\r\\n- Well accessible to many other areas\\r\\n- Serious seller with BTO already collecting soon\\r\\n\\r\\nCall Evangeline @ 9826 2987 for an exclusive viewing now!                                                                                                                                                                                                                                                                                                                                                                    \n",
       "24142  311C Clementi Avenue 4                                                                                                                                                                                                                                                                                                                                                                                                                                                                                                                                                                                                                                                                                                                                                                                                                                                                                                                                  \n",
       "24143  654C JURONG WEST STREET 61\\n-------------------------------------------------------\\n5I 111sqm\\nMid Floor\\nBright & Breezy\\nPark Facing\\nTastefully Renovated\\nMove in Condition\\nSeller upgrading\\nPriced to sell\\n\\nSteps to Pioneer MRT\\nEateries & Amenities at your doorstep\\nCall/SMS JJ Axel 81682800 to appreciate!!                                                                                                                                                                                                                                                                                                                                                                                                                                                                                                                                                                                                                            \n",
       "24144  Just MOP HDB 5 Room for Sale ....\\n\\nVery high floor with Stunning unblock view offering plenty natural sunlight and very breezy throughout the day.... \\n\\nSpacious with Regular layout Ensure efficient space usage!\\n\\n\\n* 112 Sq m / 1205 Sq ft\\n* Corner unit\\n* Near Amenities such as The Seletar Mall, Child Care Centre, Eateries, Shop etc...\\n* Minutes Walk to Fernvale LRT Stations\\n* Open to all Ethnic group\\n\\nSee to believe!!! \\n\\nHurry don’t miss.. call Amelia Koh 8233 1133 for exclusive viewing now!!                                                                                                                                                                                                                                                                                                                                                                                                                          \n",
       "24149  EA FOR SALE!\\n\\n- Executive Apartment\\n- 144 sqm/ 1550 sqft\\n- 3 bedrooms\\n- 2 bathrooms\\n- Corner unit\\n- Near Bukit Gombak MRT\\n- HIP done and billed \\n- Left 65 years lease\\n- All race and SPR are eligible to buy\\n- Asking $610K nego\\n\\nContact RACHEL at 92224026 for viewing!                                                                                                                                                                                                                                                                                                                                                                                                                                                                                                                                                                                                                                                                 \n",
       "\n",
       "                                                            details  \\\n",
       "1256   NaN                                                            \n",
       "8760   Furnishing,Partially Furnished,Availability,Now,District,D04   \n",
       "16129  Furnishing,Partially Furnished,Availability,Now,District,D19   \n",
       "16130  Furnishing,Partially Furnished,Availability,Now,District,D03   \n",
       "16131  Furnishing,Partially Furnished,Availability,Now,District,D05   \n",
       "...                                                             ...   \n",
       "24120  Availability,Now,District,D19                                  \n",
       "24142  District,D05                                                   \n",
       "24143  Furnishing,Partially Furnished,District,D22                    \n",
       "24144  Furnishing,Partially Furnished,Availability,Now,District,D28   \n",
       "24149  District,D23                                                   \n",
       "\n",
       "                 lease  \\\n",
       "1256   1990 - Freehold   \n",
       "8760   2011 - 99 years   \n",
       "16129  2008 - 99 years   \n",
       "16130  1971 -            \n",
       "16131  1979 - 99 years   \n",
       "...                ...   \n",
       "24120  1999 -            \n",
       "24142  2015 - 99 years   \n",
       "24143  2002 -            \n",
       "24144  2015 - 99 years   \n",
       "24149  1986 -            \n",
       "\n",
       "                                                                                                   link  \\\n",
       "1256   https://www.99.co/singapore/sale/property/property-in-singapore-landed-JkieMG5XD4hdbbCKHRZWb5      \n",
       "8760   https://www.99.co/singapore/sale/property/reflections-at-keppel-bay-condo-RfrkwmM6b9Mabsw2hJhdb6   \n",
       "16129  https://www.99.co/singapore/sale/property/265c-compassvale-link-hdb-zScvBaMQDhzaQF7Y8bsMCh         \n",
       "16130  https://www.99.co/singapore/sale/property/32-jalan-bukit-ho-swee-hdb-mkJmVrRVTDnoMXiNDAoEAA        \n",
       "16131  https://www.99.co/singapore/sale/property/306-clementi-avenue-4-hdb-jAQxqtkSETKQWnbCMQnJQ4         \n",
       "...                                                                                           ...         \n",
       "24120  https://www.99.co/singapore/sale/property/370-hougang-street-31-hdb-CjF49gZw7g7KX2YFufDtxB         \n",
       "24142  https://www.99.co/singapore/sale/property/311c-clementi-avenue-4-hdb-33N7KxaHq2cpFkoK7hitjk        \n",
       "24143  https://www.99.co/singapore/sale/property/654c-jurong-west-street-61-hdb-9kPT6Hf3tuxkWyLf74ZSSD    \n",
       "24144  https://www.99.co/singapore/sale/property/430d-fernvale-link-hdb-hHbWMBvJc9QwyYtQhz7YDL            \n",
       "24149  https://www.99.co/singapore/sale/property/366-bukit-batok-street-31-hdb-bJHgmapwDphrZQuEwYTzB7     \n",
       "\n",
       "                             name      price   property_type  psf_price  \\\n",
       "1256   Lilac Park                  3000000.0  Terraced House  1364        \n",
       "8760   Reflections At Keppel Bay   2888000.0  Condo           1709        \n",
       "16129  265C Compassvale Link       570000.0   HDB 4 Rooms     576         \n",
       "16130  32 Jalan Bukit Ho Swee      260000.0   HDB 2 Rooms     474         \n",
       "16131  306 Clementi Avenue 4       299000.0   HDB 3 Rooms     415         \n",
       "...                      ...            ...           ...     ...         \n",
       "24120  370 Hougang Street 31       458000.0   HDB 4 Rooms     421         \n",
       "24142  311C Clementi Avenue 4      799888.0   HDB 3 Rooms     929         \n",
       "24143  654C Jurong West Street 61  460000.0   HDB 5 Rooms     385         \n",
       "24144  430D Fernvale Link          600000.0   HDB 5 Rooms     498         \n",
       "24149  366 Bukit Batok Street 31   610000.0   HDB Executive   394         \n",
       "\n",
       "      district floor_type floor  \n",
       "1256   D28      NaN        None  \n",
       "8760   D4       NaN        None  \n",
       "16129  D19      NaN        None  \n",
       "16130  D3       NaN        None  \n",
       "16131  D5       NaN        None  \n",
       "...    ..       ...         ...  \n",
       "24120  D19      NaN        None  \n",
       "24142  D5       NaN        None  \n",
       "24143  D22      NaN        None  \n",
       "24144  D28      NaN        None  \n",
       "24149  D23      NaN        None  \n",
       "\n",
       "[7898 rows x 16 columns]"
      ]
     },
     "execution_count": 37,
     "metadata": {},
     "output_type": "execute_result"
    }
   ],
   "source": [
    "hdb_df"
   ]
  },
  {
   "cell_type": "code",
   "execution_count": 53,
   "metadata": {
    "ExecuteTime": {
     "end_time": "2020-04-11T04:56:35.449037Z",
     "start_time": "2020-04-11T04:56:35.436072Z"
    }
   },
   "outputs": [],
   "source": [
    "hdb_district_dummies = pd.get_dummies(hdb_df['district'], prefix = 'district')\n",
    "hdb_model_df = pd.concat([hdb_df, hdb_district_dummies], axis=1)\n",
    "hdb_model_df = hdb_model_df.drop(['address','amenities','description','details','lease','link','name','property_type','psf_price','district','floor_type','floor'],axis=1)"
   ]
  },
  {
   "cell_type": "code",
   "execution_count": 54,
   "metadata": {
    "ExecuteTime": {
     "end_time": "2020-04-11T04:56:35.774494Z",
     "start_time": "2020-04-11T04:56:35.765507Z"
    }
   },
   "outputs": [],
   "source": [
    "hdb_model_df = hdb_model_df.dropna()"
   ]
  },
  {
   "cell_type": "code",
   "execution_count": 55,
   "metadata": {
    "ExecuteTime": {
     "end_time": "2020-04-11T04:56:36.920328Z",
     "start_time": "2020-04-11T04:56:36.915342Z"
    }
   },
   "outputs": [],
   "source": [
    "hdb_X_df = hdb_model_df.drop(['price'],axis=1)\n",
    "hdb_Y_df = hdb_model_df.price"
   ]
  },
  {
   "cell_type": "code",
   "execution_count": null,
   "metadata": {},
   "outputs": [],
   "source": []
  },
  {
   "cell_type": "code",
   "execution_count": 56,
   "metadata": {
    "ExecuteTime": {
     "end_time": "2020-04-11T04:56:38.669118Z",
     "start_time": "2020-04-11T04:56:38.604317Z"
    }
   },
   "outputs": [
    {
     "data": {
      "text/plain": [
       "LinearRegression(copy_X=True, fit_intercept=True, n_jobs=None, normalize=False)"
      ]
     },
     "execution_count": 56,
     "metadata": {},
     "output_type": "execute_result"
    }
   ],
   "source": [
    "lin_reg.fit(hdb_X_df,hdb_Y_df)"
   ]
  },
  {
   "cell_type": "code",
   "execution_count": 58,
   "metadata": {
    "ExecuteTime": {
     "end_time": "2020-04-11T04:57:13.195861Z",
     "start_time": "2020-04-11T04:57:13.188914Z"
    }
   },
   "outputs": [],
   "source": [
    "hdb_Y_pred = lin_reg.predict(hdb_X_df)"
   ]
  },
  {
   "cell_type": "code",
   "execution_count": 60,
   "metadata": {
    "ExecuteTime": {
     "end_time": "2020-04-11T04:58:32.767160Z",
     "start_time": "2020-04-11T04:58:32.764168Z"
    }
   },
   "outputs": [],
   "source": [
    "from sklearn.metrics import mean_squared_error, r2_score"
   ]
  },
  {
   "cell_type": "code",
   "execution_count": 69,
   "metadata": {
    "ExecuteTime": {
     "end_time": "2020-04-11T05:02:10.441016Z",
     "start_time": "2020-04-11T05:02:10.435987Z"
    }
   },
   "outputs": [
    {
     "data": {
      "text/plain": [
       "534139.8657887736"
      ]
     },
     "execution_count": 69,
     "metadata": {},
     "output_type": "execute_result"
    }
   ],
   "source": [
    "#baseline prediction:\n",
    "hdb_Y_df.mean()"
   ]
  },
  {
   "cell_type": "code",
   "execution_count": 75,
   "metadata": {
    "ExecuteTime": {
     "end_time": "2020-04-11T05:03:30.283370Z",
     "start_time": "2020-04-11T05:03:30.012128Z"
    }
   },
   "outputs": [
    {
     "data": {
      "text/plain": [
       "195707.87041036892"
      ]
     },
     "execution_count": 75,
     "metadata": {},
     "output_type": "execute_result"
    }
   ],
   "source": [
    "#baseline RMSE:\n",
    "np.sqrt(hdb_Y_df.apply(lambda x: (x - hdb_Y_df.mean())**2).mean())"
   ]
  },
  {
   "cell_type": "code",
   "execution_count": 63,
   "metadata": {
    "ExecuteTime": {
     "end_time": "2020-04-11T05:00:43.574007Z",
     "start_time": "2020-04-11T05:00:43.565060Z"
    }
   },
   "outputs": [
    {
     "name": "stdout",
     "output_type": "stream",
     "text": [
      "Coefficients: \n",
      " [ 2.62001522e+02  9.05736022e+04  6.23574579e+04  1.40345744e+05\n",
      "  9.63857538e+04  8.09975271e+04  4.21257814e+04  6.70600402e+04\n",
      "  1.09613503e+05  1.20604970e+03  1.87179380e+04 -2.61665070e+04\n",
      " -1.10519182e+04  3.66779244e+05  1.82887494e+04  1.79639711e+05\n",
      " -8.39260481e+04 -8.88936610e+04 -1.60463094e+05 -8.86108889e+04\n",
      " -3.35902721e+04  2.31824040e+05  8.76729122e+04  9.07164187e+04\n",
      "  9.31274536e+04  1.23008955e+05]\n",
      "Root mean squared error: 143435.30\n",
      "Coefficient of determination: 0.46\n"
     ]
    }
   ],
   "source": [
    "# The coefficients\n",
    "print('Coefficients: \\n', lin_reg.coef_)\n",
    "# The mean squared error\n",
    "print('Root mean squared error: %.2f'\n",
    "      % np.sqrt(mean_squared_error(hdb_Y_df, hdb_Y_pred)))\n",
    "# The coefficient of determination: 1 is perfect prediction\n",
    "print('Coefficient of determination: %.2f'\n",
    "      % r2_score(hdb_Y_df, hdb_Y_pred))"
   ]
  },
  {
   "cell_type": "code",
   "execution_count": 90,
   "metadata": {
    "ExecuteTime": {
     "end_time": "2020-04-11T05:13:48.766379Z",
     "start_time": "2020-04-11T05:13:48.760396Z"
    }
   },
   "outputs": [
    {
     "data": {
      "text/plain": [
       "Index(['area', 'bathrooms', 'bedrooms', 'district_D1', 'district_D10',\n",
       "       'district_D12', 'district_D13', 'district_D14', 'district_D15',\n",
       "       'district_D16', 'district_D17', 'district_D18', 'district_D19',\n",
       "       'district_D2', 'district_D20', 'district_D21', 'district_D22',\n",
       "       'district_D23', 'district_D25', 'district_D27', 'district_D28',\n",
       "       'district_D3', 'district_D4', 'district_D5', 'district_D7',\n",
       "       'district_D8'],\n",
       "      dtype='object')"
      ]
     },
     "execution_count": 90,
     "metadata": {},
     "output_type": "execute_result"
    }
   ],
   "source": [
    "hdb_X_df.columns"
   ]
  },
  {
   "cell_type": "code",
   "execution_count": 94,
   "metadata": {
    "ExecuteTime": {
     "end_time": "2020-04-11T05:18:48.148316Z",
     "start_time": "2020-04-11T05:18:47.909988Z"
    }
   },
   "outputs": [
    {
     "data": {
      "text/plain": [
       "<matplotlib.axes._subplots.AxesSubplot at 0x24ca34c7608>"
      ]
     },
     "execution_count": 94,
     "metadata": {},
     "output_type": "execute_result"
    },
    {
     "data": {
      "image/png": "[encoded data removed]",
      "text/plain": [
       "<Figure size 432x288 with 1 Axes>"
      ]
     },
     "metadata": {
      "needs_background": "light"
     },
     "output_type": "display_data"
    }
   ],
   "source": [
    "sns.residplot(x='bathrooms',y='price',data=hdb_model_df)"
   ]
  },
  {
   "cell_type": "code",
   "execution_count": null,
   "metadata": {},
   "outputs": [],
   "source": [
    "# print(__doc__)\n",
    "\n",
    "\n",
    "# # Code source: Jaques Grobler\n",
    "# # License: BSD 3 clause\n",
    "\n",
    "\n",
    "# import matplotlib.pyplot as plt\n",
    "# import numpy as np\n",
    "# from sklearn import datasets, linear_model\n",
    "# from sklearn.metrics import mean_squared_error, r2_score\n",
    "\n",
    "# # Load the diabetes dataset\n",
    "# diabetes_X, diabetes_y = datasets.load_diabetes(return_X_y=True)\n",
    "\n",
    "# # Use only one feature\n",
    "# diabetes_X = diabetes_X[:, np.newaxis, 2]\n",
    "\n",
    "# # Split the data into training/testing sets\n",
    "# diabetes_X_train = diabetes_X[:-20]\n",
    "# diabetes_X_test = diabetes_X[-20:]\n",
    "\n",
    "# # Split the targets into training/testing sets\n",
    "# diabetes_y_train = diabetes_y[:-20]\n",
    "# diabetes_y_test = diabetes_y[-20:]\n",
    "\n",
    "# # Create linear regression object\n",
    "# regr = linear_model.LinearRegression()\n",
    "\n",
    "# # Train the model using the training sets\n",
    "# regr.fit(diabetes_X_train, diabetes_y_train)\n",
    "\n",
    "# # Make predictions using the testing set\n",
    "# diabetes_y_pred = regr.predict(diabetes_X_test)\n",
    "\n",
    "# # The coefficients\n",
    "# print('Coefficients: \\n', regr.coef_)\n",
    "# # The mean squared error\n",
    "# print('Mean squared error: %.2f'\n",
    "#       % mean_squared_error(diabetes_y_test, diabetes_y_pred))\n",
    "# # The coefficient of determination: 1 is perfect prediction\n",
    "# print('Coefficient of determination: %.2f'\n",
    "#       % r2_score(diabetes_y_test, diabetes_y_pred))\n",
    "\n",
    "# # Plot outputs\n",
    "# plt.scatter(diabetes_X_test, diabetes_y_test,  color='black')\n",
    "# plt.plot(diabetes_X_test, diabetes_y_pred, color='blue', linewidth=3)\n",
    "\n",
    "# plt.xticks(())\n",
    "# plt.yticks(())\n",
    "\n",
    "# plt.show()"
   ]
  }
 ],
 "metadata": {
  "kernelspec": {
   "display_name": "Python 3",
   "language": "python",
   "name": "python3"
  },
  "language_info": {
   "codemirror_mode": {
    "name": "ipython",
    "version": 3
   },
   "file_extension": ".py",
   "mimetype": "text/x-python",
   "name": "python",
   "nbconvert_exporter": "python",
   "pygments_lexer": "ipython3",
   "version": "3.7.4"
  },
  "toc": {
   "base_numbering": 1,
   "nav_menu": {},
   "number_sections": true,
   "sideBar": true,
   "skip_h1_title": false,
   "title_cell": "Table of Contents",
   "title_sidebar": "Contents",
   "toc_cell": false,
   "toc_position": {},
   "toc_section_display": true,
   "toc_window_display": false
  }
 },
 "nbformat": 4,
 "nbformat_minor": 2
}
